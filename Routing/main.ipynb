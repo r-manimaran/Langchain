{
 "cells": [
  {
   "cell_type": "code",
   "execution_count": 5,
   "metadata": {},
   "outputs": [
    {
     "data": {
      "text/plain": [
       "True"
      ]
     },
     "execution_count": 5,
     "metadata": {},
     "output_type": "execute_result"
    }
   ],
   "source": [
    "from langchain.utils.math import cosine_similarity\n",
    "from langchain_core.output_parsers import StrOutputParser\n",
    "from langchain_core.prompts import PromptTemplate\n",
    "from langchain_core.runnables import RunnablePassthrough, RunnableLambda\n",
    "from langchain_openai import ChatOpenAI, OpenAIEmbeddings\n",
    "from dotenv import load_dotenv,find_dotenv\n",
    "load_dotenv(find_dotenv())"
   ]
  },
  {
   "cell_type": "code",
   "execution_count": 2,
   "metadata": {},
   "outputs": [],
   "source": [
    "# define the templates\n",
    "car_template =\"\"\" You are an expert in automobiles. You have extensive knowledge\n",
    "        about car mechanics, model, repair works and automative technology. You provide\n",
    "        clear and helpfu; answers about cars.\n",
    "        Here is the question:\n",
    "        Question: {question}\n",
    "       \"\"\"\n",
    "technology_template =\"\"\" You are a tech expert with in-depth knowledge on the latest gadgets, software and technology trends\n",
    "You provide insightful and detailed answers about technology.\n",
    " Here is the question:\n",
    "        Question: {question}\n",
    "\"\"\"\n",
    "restaurant_template = \"\"\"You are a knowledgeable food critic and restaurant reviewer. You have a deep understanding of \\\n",
    "different cuisines, dining experiences, and what makes a great restaurant. You answer questions about restaurants insightfully.\n",
    "\n",
    "Here is the question:\n",
    "{question}\"\"\""
   ]
  },
  {
   "cell_type": "code",
   "execution_count": 3,
   "metadata": {},
   "outputs": [],
   "source": [
    "# Create some sample questions \n",
    "car_questions =[\n",
    "    \"What is the difference between a sedan and a SUV?\"\n",
    "    \"How does a hybrid car save fuel?\"\n",
    "    \"What should I look for when buying a used car?\"\n",
    "]\n",
    "\n",
    "restaurant_questions =[\n",
    "    \"What makes a five-star restaurant exceptional?\"\n",
    "    \"What's meant by happy hours?\"\n",
    "    \"what are the key elements of French cuisine?\"\n",
    "]\n",
    "technology_questions =[\n",
    "    \"What is the difference between a smartphone and a laptop computer?\"\n",
    "    \"What is the difference between a server and a client?\"\n",
    "    \"How do I secure my mobile from cyber threats?\"\n",
    "]\n"
   ]
  },
  {
   "cell_type": "code",
   "execution_count": 6,
   "metadata": {},
   "outputs": [],
   "source": [
    "embedding = OpenAIEmbeddings()\n",
    "car_question_embeddings = embedding.embed_documents(car_questions)\n",
    "technology_question_embeddings = embedding.embed_documents(technology_questions)\n",
    "restaurant_question_embeddings = embedding.embed_documents(restaurant_questions)\n"
   ]
  },
  {
   "cell_type": "code",
   "execution_count": 7,
   "metadata": {},
   "outputs": [
    {
     "name": "stdout",
     "output_type": "stream",
     "text": [
      "Using TECHNOLOGY\n"
     ]
    }
   ],
   "source": [
    "\n",
    "def prompt_router(input):\n",
    "    query_embedding = embedding.embed_query(input[\"question\"])\n",
    "   \n",
    "    car_similarity = cosine_similarity([query_embedding], car_question_embeddings)[0]\n",
    "    restaurant_similarity = cosine_similarity([query_embedding], restaurant_question_embeddings)[0]\n",
    "    technology_similarity = cosine_similarity([query_embedding], technology_question_embeddings)[0]\n",
    "   \n",
    "    max_similarity = max(max(car_similarity), max(restaurant_similarity), max(technology_similarity))\n",
    "    if max_similarity == max(car_similarity):\n",
    "        print(\"Using CAR\")\n",
    "        return PromptTemplate.from_template(car_template)\n",
    "    elif max_similarity == max(restaurant_similarity):\n",
    "        print(\"Using RESTAURANT\")\n",
    "        return PromptTemplate.from_template(restaurant_template)\n",
    "    elif max_similarity == max(technology_similarity):\n",
    "        print(\"Using TECHNOLOGY\")\n",
    "        return PromptTemplate.from_template(technology_template)\n",
    "\n",
    "input_query ={\"question\":\"what's the best way to improve my laptop's  battery life?\"}\n",
    "prompt = prompt_router(input_query)"
   ]
  },
  {
   "cell_type": "code",
   "execution_count": 14,
   "metadata": {},
   "outputs": [],
   "source": [
    "chain =(\n",
    "    {\"question\":RunnablePassthrough()}\n",
    "    | RunnableLambda(prompt_router)   # Get the dynamic prompt here\n",
    "    | ChatOpenAI(model=\"gpt-4o-mini\", temperature=0)   \n",
    "    | StrOutputParser()\n",
    ")"
   ]
  },
  {
   "cell_type": "code",
   "execution_count": 11,
   "metadata": {},
   "outputs": [
    {
     "name": "stdout",
     "output_type": "stream",
     "text": [
      "Using RESTAURANT\n"
     ]
    },
    {
     "data": {
      "text/plain": [
       "'Identifying the best calorie food item, particularly in the context of a restaurant menu, involves a few key considerations. Here’s a breakdown of how to approach this:\\n\\n1. **Understand Your Goals**: First, clarify what you mean by \"best.\" Are you looking for the most calorie-dense item, the best balance of calories to nutrition, or perhaps the most satisfying dish for the calories it contains? Your goals will guide your choices.\\n\\n2. **Nutritional Value**: Look beyond just calories. A food item that is high in calories but low in nutrients (like empty calories from sugary desserts) may not be the best choice. Instead, consider items that provide a good balance of macronutrients (proteins, fats, carbohydrates) and micronutrients (vitamins and minerals). For example, a dish rich in healthy fats (like avocado or nuts) and protein (like grilled chicken or fish) can be calorie-dense yet nutritious.\\n\\n3. **Portion Size**: Evaluate the portion size in relation to the calorie count. A small dish that is high in calories may not be as satisfying as a larger, moderately-caloric dish. Look for items that offer generous portions without excessive calories, which can often be found in cuisines that emphasize vegetables and whole grains.\\n\\n4. **Cooking Methods**: Consider how the food is prepared. Items that are fried or heavily sauced tend to be higher in calories. In contrast, grilled, steamed, or roasted dishes may provide a more favorable calorie-to-satisfaction ratio. \\n\\n5. **Flavor and Satisfaction**: Sometimes, the best calorie food item is one that is incredibly satisfying and flavorful, making you feel content without needing to consume excessive calories. Dishes that are rich in umami (like a well-seasoned stew or a savory risotto) can provide a fulfilling experience.\\n\\n6. **Cultural Context**: Different cuisines have varying approaches to calorie density. For instance, Mediterranean dishes often balance healthy fats, lean proteins, and fresh vegetables, while some American comfort foods may be calorie-dense but less nutritionally balanced. Understanding these nuances can help you identify the best options.\\n\\n7. **Personal Preferences**: Finally, consider your own tastes and dietary restrictions. The best calorie food item for one person may not be the same for another. A dish that aligns with your preferences and dietary needs will always be the best choice for you.\\n\\nIn summary, the best calorie food item is one that balances calorie content with nutritional value, portion size, cooking methods, and personal satisfaction. When dining out, don’t hesitate to ask the staff about the ingredients and preparation methods to make an informed choice.'"
      ]
     },
     "execution_count": 11,
     "metadata": {},
     "output_type": "execute_result"
    }
   ],
   "source": [
    "chain.invoke(\"How to identify the best calori food item?\")"
   ]
  },
  {
   "cell_type": "code",
   "execution_count": 12,
   "metadata": {},
   "outputs": [
    {
     "name": "stdout",
     "output_type": "stream",
     "text": [
      "Using TECHNOLOGY\n"
     ]
    },
    {
     "data": {
      "text/plain": [
       "\"When comparing Langchain and LamaIndex, it's essential to understand the context in which each tool is used, as they serve different purposes within the realm of AI and data management.\\n\\n### Langchain\\n\\n**Overview:**\\nLangchain is a framework designed for building applications that utilize large language models (LLMs). It provides a structured way to integrate LLMs into various applications, enabling developers to create more complex and interactive AI-driven solutions.\\n\\n**Key Features:**\\n1. **Modular Components:** Langchain offers a modular architecture, allowing developers to use different components like prompt templates, chains, and agents to build their applications.\\n2. **Integration with LLMs:** It supports various LLMs, making it easier to switch between models or use multiple models in a single application.\\n3. **Memory Management:** Langchain includes features for managing conversational memory, which is crucial for applications that require context retention over multiple interactions.\\n4. **Data Augmentation:** It allows for the integration of external data sources, enabling the LLM to provide more accurate and contextually relevant responses.\\n\\n**Use Cases:**\\n- Chatbots and virtual assistants\\n- Content generation tools\\n- Interactive storytelling applications\\n- Any application requiring natural language understanding and generation\\n\\n### LamaIndex\\n\\n**Overview:**\\nLamaIndex (formerly known as GPT Index) is a tool designed to facilitate the indexing and retrieval of data for LLMs. It focuses on enhancing the efficiency and effectiveness of how LLMs access and utilize external data sources.\\n\\n**Key Features:**\\n1. **Data Indexing:** LamaIndex allows users to create structured indexes of their data, making it easier for LLMs to retrieve relevant information quickly.\\n2. **Integration with Various Data Sources:** It can work with different types of data, including documents, databases, and APIs, providing a unified way to access information.\\n3. **Optimized Retrieval:** The tool is designed to optimize the retrieval process, ensuring that LLMs can access the most relevant data without unnecessary overhead.\\n4. **User-Friendly Interface:** LamaIndex often comes with a more straightforward setup for indexing and querying data, making it accessible for users who may not have extensive technical backgrounds.\\n\\n**Use Cases:**\\n- Enhancing LLM performance with structured data\\n- Building knowledge bases that LLMs can query\\n- Applications requiring efficient data retrieval for AI-driven insights\\n\\n### Conclusion\\n\\nChoosing between Langchain and LamaIndex depends on your specific needs:\\n\\n- **Choose Langchain** if you are looking to build complex applications that leverage LLMs with a focus on conversational AI, memory management, and modular design.\\n- **Choose LamaIndex** if your primary goal is to enhance the data retrieval capabilities of LLMs, especially if you have a significant amount of structured or unstructured data that needs to be indexed and accessed efficiently.\\n\\nIn some cases, these tools can be complementary. For instance, you might use Langchain to build an interactive application while employing LamaIndex to manage and retrieve the data that the application needs to function effectively.\""
      ]
     },
     "execution_count": 12,
     "metadata": {},
     "output_type": "execute_result"
    }
   ],
   "source": [
    "chain.invoke(\"Langchain or LamaIndex?\")"
   ]
  },
  {
   "cell_type": "code",
   "execution_count": 13,
   "metadata": {},
   "outputs": [
    {
     "name": "stdout",
     "output_type": "stream",
     "text": [
      "Using CAR\n"
     ]
    },
    {
     "data": {
      "text/plain": [
       "\"Getting good mileage from your vehicle involves a combination of driving habits, vehicle maintenance, and understanding your car's mechanics. Here are some tips to help you maximize fuel efficiency:\\n\\n### Driving Habits\\n\\n1. **Smooth Acceleration and Braking**: Avoid rapid acceleration and hard braking. Gradual changes in speed can improve fuel efficiency.\\n\\n2. **Maintain a Steady Speed**: Use cruise control on highways to maintain a constant speed, which can help save fuel.\\n\\n3. **Limit Idling**: Turn off your engine if you expect to be stopped for more than a minute or two. Idling consumes fuel without moving the vehicle.\\n\\n4. **Drive at Moderate Speeds**: Fuel efficiency typically decreases at speeds above 50 mph. Try to keep your speed within the optimal range for your vehicle.\\n\\n5. **Plan Your Trips**: Combine errands into one trip to avoid multiple short trips, which can consume more fuel.\\n\\n### Vehicle Maintenance\\n\\n1. **Regular Maintenance**: Keep up with regular maintenance, including oil changes, air filter replacements, and spark plug checks. A well-maintained engine runs more efficiently.\\n\\n2. **Check Tire Pressure**: Under-inflated tires can increase rolling resistance and decrease fuel efficiency. Check tire pressure regularly and keep them inflated to the recommended levels.\\n\\n3. **Use the Recommended Fuel**: Use the fuel grade recommended by the manufacturer. Higher octane fuel than necessary does not improve mileage.\\n\\n4. **Lighten Your Load**: Remove unnecessary items from your vehicle. Extra weight can decrease fuel efficiency, especially in smaller cars.\\n\\n5. **Aerodynamics**: Remove roof racks or carriers when not in use, as they can create drag and reduce fuel efficiency.\\n\\n### Driving Conditions\\n\\n1. **Avoid Stop-and-Go Traffic**: If possible, plan your routes to avoid heavy traffic. Stop-and-go driving can significantly reduce fuel efficiency.\\n\\n2. **Use Air Conditioning Wisely**: Air conditioning can increase fuel consumption. Use it sparingly, and consider using the vehicle's ventilation system instead when driving at lower speeds.\\n\\n3. **Use Higher Gears**: Driving in higher gears at lower RPMs can improve fuel efficiency. However, ensure that you don’t lug the engine.\\n\\n### Technology and Tools\\n\\n1. **Fuel Economy Apps**: Consider using apps that track your fuel consumption and provide tips for improvement based on your driving habits.\\n\\n2. **Eco-Driving Features**: If your vehicle has an eco-driving mode or features that provide feedback on your driving style, use them to improve your habits.\\n\\nBy combining these strategies, you can significantly improve your vehicle's mileage and save on fuel costs. Remember that every vehicle is different, so it may take some experimentation to find the best practices for your specific model.\""
      ]
     },
     "execution_count": 13,
     "metadata": {},
     "output_type": "execute_result"
    }
   ],
   "source": [
    "chain.invoke(\"How to get good Mileage in driving?\")"
   ]
  },
  {
   "cell_type": "markdown",
   "metadata": {},
   "source": [
    "## Using Classification"
   ]
  },
  {
   "cell_type": "code",
   "execution_count": 20,
   "metadata": {},
   "outputs": [],
   "source": [
    "from langchain_core.output_parsers import StrOutputParser\n",
    "from langchain_core.prompts import PromptTemplate\n",
    "from langchain_openai import ChatOpenAI\n",
    "classification_template =PromptTemplate.from_template(\n",
    "\"\"\" \n",
    "You are good at classifying a question.\n",
    "Given the below question, classify it as either \"Car\" or \"resturant\" or \"technology\".\n",
    "\n",
    "<If the question is about car mechanics, models, or automative technology,classify it as Car>\n",
    "<If the question is about cuisines, dining experience, or resturant services, classify it as resturant>\n",
    "<If the question is about technology, gadgets, or software, classify it as technology>\n",
    "\n",
    "Question: {question}\n",
    "\n",
    "Classification:\n",
    "\"\"\"\n",
    ")"
   ]
  },
  {
   "cell_type": "code",
   "execution_count": 21,
   "metadata": {},
   "outputs": [],
   "source": [
    "classification_chain = classification_template | ChatOpenAI() | StrOutputParser()"
   ]
  },
  {
   "cell_type": "code",
   "execution_count": 22,
   "metadata": {},
   "outputs": [
    {
     "name": "stdout",
     "output_type": "stream",
     "text": [
      "Using Default None of the above categories, it is a general knowledge question.\n"
     ]
    }
   ],
   "source": [
    "def prompt_router(input_query):\n",
    "    # find the classification for the query\n",
    "    classification =classification_chain.invoke({\"question\":input_query[\"question\"]})\n",
    "    if classification == \"Car\":\n",
    "        print(\"Using CAR\")\n",
    "        return PromptTemplate.from_template(car_template)\n",
    "    elif classification == \"Resturant\":\n",
    "        print(\"Using Resturant\")\n",
    "        return PromptTemplate.from_template(restaurant_template)\n",
    "    elif classification == \"Technology\":\n",
    "        print(\"Using Technology\")\n",
    "        return PromptTemplate.from_template(technology_template)\n",
    "    else:\n",
    "        print(\"Using Default\", classification)\n",
    "        return None\n",
    "\n",
    "input_query = {\"question\": \"What is the capital of France?\"}\n",
    "prompt = prompt_router(input_query)"
   ]
  },
  {
   "cell_type": "code",
   "execution_count": 23,
   "metadata": {},
   "outputs": [
    {
     "name": "stdout",
     "output_type": "stream",
     "text": [
      "Using Technology\n"
     ]
    }
   ],
   "source": [
    "input_query ={\"question\":\"Can increasing the RAM will increase the laptop performance?\"}\n",
    "prompt = prompt_router(input_query)\n"
   ]
  },
  {
   "cell_type": "code",
   "execution_count": 24,
   "metadata": {},
   "outputs": [],
   "source": [
    "chain =(\n",
    "    {\"question\":RunnablePassthrough()}\n",
    "    | RunnableLambda(prompt_router)\n",
    "    |ChatOpenAI()\n",
    "    |StrOutputParser()\n",
    ")"
   ]
  },
  {
   "cell_type": "code",
   "execution_count": 25,
   "metadata": {},
   "outputs": [
    {
     "name": "stdout",
     "output_type": "stream",
     "text": [
      "Using Technology\n"
     ]
    },
    {
     "data": {
      "text/plain": [
       "'Answer: The choice between .Net and Python really depends on the specific requirements of your project and your personal preferences.\\n\\n.Net is a framework developed by Microsoft that is widely used for building Windows applications, web applications, and services. It offers a wide range of tools and libraries that can help developers build robust and scalable applications. .Net is particularly popular in enterprise environments due to its integration with Microsoft products and services.\\n\\nOn the other hand, Python is a versatile and easy-to-learn programming language that is popular for its simplicity and readability. Python is often used for web development, data analysis, artificial intelligence, and scientific computing. It has a large and active community of developers who contribute to a vast ecosystem of libraries and frameworks.\\n\\nIf you are looking to build Windows applications or work in a Microsoft-centric environment, .Net may be the better choice for you. However, if you value simplicity, versatility, and a strong community support, Python may be the better option.\\n\\nUltimately, the best choice for you will depend on your specific needs and goals for your project. It may also be worth considering the specific requirements of your project and the skills of your development team before making a decision.'"
      ]
     },
     "execution_count": 25,
     "metadata": {},
     "output_type": "execute_result"
    }
   ],
   "source": [
    "chain.invoke(\".Net or python?\")"
   ]
  }
 ],
 "metadata": {
  "kernelspec": {
   "display_name": "venv",
   "language": "python",
   "name": "python3"
  },
  "language_info": {
   "codemirror_mode": {
    "name": "ipython",
    "version": 3
   },
   "file_extension": ".py",
   "mimetype": "text/x-python",
   "name": "python",
   "nbconvert_exporter": "python",
   "pygments_lexer": "ipython3",
   "version": "3.12.3"
  }
 },
 "nbformat": 4,
 "nbformat_minor": 2
}
