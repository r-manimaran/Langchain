{
 "cells": [
  {
   "cell_type": "code",
   "execution_count": 1,
   "metadata": {},
   "outputs": [
    {
     "data": {
      "text/plain": [
       "True"
      ]
     },
     "execution_count": 1,
     "metadata": {},
     "output_type": "execute_result"
    }
   ],
   "source": [
    "from langchain.utils.math import cosine_similarity\n",
    "from langchain_core.output_parsers import StrOutputParser\n",
    "from langchain_core.prompts import PromptTemplate\n",
    "from langchain_core.runnables import RunnablePassthrough, RunnableLambda\n",
    "from langchain_openai import ChatOpenAI, OpenAIEmbeddings\n",
    "from dotenv import load_dotenv,find_dotenv\n",
    "load_dotenv(find_dotenv())"
   ]
  },
  {
   "cell_type": "code",
   "execution_count": 2,
   "metadata": {},
   "outputs": [],
   "source": [
    "# define the templates\n",
    "car_template =\"\"\" You are an expert in automobiles. You have extensive knowledge\n",
    "        about car mechanics, model, repair works and automative technology. You provide\n",
    "        clear and helpfu; answers about cars.\n",
    "        Here is the question:\n",
    "        Question: {question}\n",
    "       \"\"\"\n",
    "technology_template =\"\"\" You are a tech expert with in-depth knowledge on the latest gadgets, software and technology trends\n",
    "You provide insightful and detailed answers about technology.\n",
    " Here is the question:\n",
    "        Question: {question}\n",
    "\"\"\"\n",
    "restaurant_template = \"\"\"You are a knowledgeable food critic and restaurant reviewer. You have a deep understanding of \\\n",
    "different cuisines, dining experiences, and what makes a great restaurant. You answer questions about restaurants insightfully.\n",
    "\n",
    "Here is the question:\n",
    "{question}\"\"\""
   ]
  },
  {
   "cell_type": "code",
   "execution_count": 3,
   "metadata": {},
   "outputs": [],
   "source": [
    "# Create some sample questions \n",
    "car_questions =[\n",
    "    \"What is the difference between a sedan and a SUV?\"\n",
    "    \"How does a hybrid car save fuel?\"\n",
    "    \"What should I look for when buying a used car?\"\n",
    "]\n",
    "\n",
    "restaurant_questions =[\n",
    "    \"What makes a five-star restaurant exceptional?\"\n",
    "    \"What's meant by happy hours?\"\n",
    "    \"what are the key elements of French cuisine?\"\n",
    "]\n",
    "technology_questions =[\n",
    "    \"What is the difference between a smartphone and a laptop computer?\"\n",
    "    \"What is the difference between a server and a client?\"\n",
    "    \"How do I secure my mobile from cyber threats?\"\n",
    "]\n"
   ]
  },
  {
   "cell_type": "code",
   "execution_count": 4,
   "metadata": {},
   "outputs": [],
   "source": [
    "embedding = OpenAIEmbeddings()\n",
    "car_question_embeddings = embedding.embed_documents(car_questions)\n",
    "technology_question_embeddings = embedding.embed_documents(technology_questions)\n",
    "restaurant_question_embeddings = embedding.embed_documents(restaurant_questions)\n"
   ]
  },
  {
   "cell_type": "code",
   "execution_count": 5,
   "metadata": {},
   "outputs": [
    {
     "name": "stdout",
     "output_type": "stream",
     "text": [
      "Using TECHNOLOGY\n"
     ]
    }
   ],
   "source": [
    "\n",
    "def prompt_router(input):\n",
    "    query_embedding = embedding.embed_query(input[\"question\"])\n",
    "   \n",
    "    car_similarity = cosine_similarity([query_embedding], car_question_embeddings)[0]\n",
    "    restaurant_similarity = cosine_similarity([query_embedding], restaurant_question_embeddings)[0]\n",
    "    technology_similarity = cosine_similarity([query_embedding], technology_question_embeddings)[0]\n",
    "   \n",
    "    max_similarity = max(max(car_similarity), max(restaurant_similarity), max(technology_similarity))\n",
    "    if max_similarity == max(car_similarity):\n",
    "        print(\"Using CAR\")\n",
    "        return PromptTemplate.from_template(car_template)\n",
    "    elif max_similarity == max(restaurant_similarity):\n",
    "        print(\"Using RESTAURANT\")\n",
    "        return PromptTemplate.from_template(restaurant_template)\n",
    "    elif max_similarity == max(technology_similarity):\n",
    "        print(\"Using TECHNOLOGY\")\n",
    "        return PromptTemplate.from_template(technology_template)\n",
    "\n",
    "input_query ={\"question\":\"what's the best way to improve my laptop's  battery life?\"}\n",
    "prompt = prompt_router(input_query)"
   ]
  },
  {
   "cell_type": "code",
   "execution_count": 6,
   "metadata": {},
   "outputs": [],
   "source": [
    "chain =(\n",
    "    {\"question\":RunnablePassthrough()}\n",
    "    | RunnableLambda(prompt_router)   # Get the dynamic prompt here\n",
    "    | ChatOpenAI(model=\"gpt-4o-mini\", temperature=0)   \n",
    "    | StrOutputParser()\n",
    ")"
   ]
  },
  {
   "cell_type": "code",
   "execution_count": 7,
   "metadata": {},
   "outputs": [
    {
     "name": "stdout",
     "output_type": "stream",
     "text": [
      "Using RESTAURANT\n"
     ]
    },
    {
     "data": {
      "text/plain": [
       "'Identifying the best calorie-dense food item involves considering several factors, including nutritional value, flavor, and how well it fits into your dietary preferences or needs. Here are some key points to consider:\\n\\n1. **Nutritional Density**: Look for foods that provide a high number of calories along with essential nutrients. For example, nuts, seeds, avocados, and certain oils (like olive or coconut oil) are calorie-dense but also rich in healthy fats, vitamins, and minerals.\\n\\n2. **Flavor and Texture**: The best calorie-dense foods should not only be high in calories but also enjoyable to eat. Foods like dark chocolate, cheese, and creamy sauces can be both rich in calories and satisfying in flavor and texture.\\n\\n3. **Culinary Versatility**: Consider how the food can be used in various dishes. Ingredients like nut butters, full-fat dairy, and certain grains (like quinoa or farro) can be incorporated into a wide range of meals, enhancing both calorie content and taste.\\n\\n4. **Cultural Significance**: Some calorie-dense foods are integral to specific cuisines and can offer a unique dining experience. For instance, dishes like risotto, paella, or rich curries can be both calorie-rich and culturally significant, providing a deeper appreciation of the food.\\n\\n5. **Portion Control**: Sometimes, the best calorie-dense items are those that can be enjoyed in smaller portions while still delivering satisfaction. A small piece of high-quality cheese or a few squares of dark chocolate can be indulgent without overindulging.\\n\\n6. **Personal Preferences and Dietary Needs**: Ultimately, the best calorie-dense food item will vary from person to person. Consider your dietary restrictions, preferences (like vegan or gluten-free), and health goals when identifying the best options for you.\\n\\nIn summary, the best calorie-dense food item is one that balances high caloric content with nutritional value, flavor, versatility, and personal enjoyment. Exploring different cuisines and dishes can lead to delightful discoveries that satisfy both your palate and your caloric needs.'"
      ]
     },
     "execution_count": 7,
     "metadata": {},
     "output_type": "execute_result"
    }
   ],
   "source": [
    "chain.invoke(\"How to identify the best calori food item?\")"
   ]
  },
  {
   "cell_type": "code",
   "execution_count": 8,
   "metadata": {},
   "outputs": [
    {
     "name": "stdout",
     "output_type": "stream",
     "text": [
      "Using TECHNOLOGY\n"
     ]
    },
    {
     "data": {
      "text/plain": [
       "\"When comparing Langchain and LamaIndex, it's essential to understand the context in which each tool is used, as they serve different purposes within the realm of AI and natural language processing.\\n\\n### Langchain\\n\\n**Overview:**\\nLangchain is a framework designed for building applications that utilize large language models (LLMs). It provides a structured way to integrate LLMs into various applications, enabling developers to create more complex and interactive experiences. Langchain focuses on chaining together different components, such as prompts, memory, and tools, to enhance the capabilities of LLMs.\\n\\n**Key Features:**\\n1. **Modular Design:** Langchain allows developers to create modular applications by chaining together different components, making it easier to manage and scale applications.\\n2. **Integration with External Tools:** It supports integration with various APIs and tools, enabling LLMs to interact with external data sources and services.\\n3. **Memory Management:** Langchain includes features for managing memory, allowing applications to maintain context over longer interactions.\\n4. **Prompt Engineering:** It provides utilities for prompt management, making it easier to design and test prompts for LLMs.\\n\\n**Use Cases:**\\n- Chatbots and conversational agents\\n- Content generation tools\\n- Interactive applications that require context management\\n\\n### LamaIndex\\n\\n**Overview:**\\nLamaIndex (formerly known as GPT Index) is a data framework designed to facilitate the integration of large language models with structured data. It focuses on creating an index of data that can be queried using natural language, making it easier to retrieve and manipulate information from various data sources.\\n\\n**Key Features:**\\n1. **Data Indexing:** LamaIndex allows users to create an index of their data, which can be queried using natural language, making it easier to retrieve relevant information.\\n2. **Structured Data Handling:** It is particularly useful for applications that need to work with structured data, such as databases or knowledge bases.\\n3. **Natural Language Queries:** Users can interact with their data using natural language, simplifying the process of data retrieval and manipulation.\\n4. **Integration with LLMs:** LamaIndex can be used in conjunction with LLMs to enhance the capabilities of data querying and retrieval.\\n\\n**Use Cases:**\\n- Knowledge management systems\\n- Data retrieval applications\\n- Applications that require natural language interaction with structured data\\n\\n### Conclusion\\n\\nChoosing between Langchain and LamaIndex depends on your specific needs:\\n\\n- **Use Langchain** if you are looking to build applications that require complex interactions with LLMs, such as chatbots or content generation tools, where chaining different components and managing context is crucial.\\n\\n- **Use LamaIndex** if your primary goal is to create a system that allows users to query structured data using natural language, especially if you need to integrate LLMs for enhanced data retrieval capabilities.\\n\\nIn some cases, these tools can be complementary, where Langchain manages the conversational aspect while LamaIndex handles structured data queries. Ultimately, the choice will depend on the specific requirements of your project and the type of user experience you aim to create.\""
      ]
     },
     "execution_count": 8,
     "metadata": {},
     "output_type": "execute_result"
    }
   ],
   "source": [
    "chain.invoke(\"Langchain or LamaIndex?\")"
   ]
  },
  {
   "cell_type": "code",
   "execution_count": 9,
   "metadata": {},
   "outputs": [
    {
     "name": "stdout",
     "output_type": "stream",
     "text": [
      "Using CAR\n"
     ]
    },
    {
     "data": {
      "text/plain": [
       "\"Getting good mileage while driving involves a combination of driving habits, vehicle maintenance, and understanding your car's capabilities. Here are some tips to help you maximize fuel efficiency:\\n\\n### Driving Habits\\n1. **Smooth Acceleration and Braking**: Avoid rapid acceleration and hard braking. Gradual changes in speed can improve fuel efficiency.\\n2. **Maintain a Steady Speed**: Use cruise control on highways to maintain a constant speed, which can help save fuel.\\n3. **Limit Idling**: Turn off your engine if you expect to be stopped for more than a minute or two. Idling consumes fuel without moving the vehicle.\\n4. **Drive at Optimal Speeds**: Most cars achieve better fuel economy between 45-65 mph. Driving faster than this can significantly reduce mileage.\\n5. **Plan Your Trips**: Combine errands into one trip to avoid multiple short trips, which can consume more fuel.\\n\\n### Vehicle Maintenance\\n1. **Regular Maintenance**: Keep your car well-maintained with regular oil changes, air filter replacements, and spark plug checks. A well-tuned engine runs more efficiently.\\n2. **Check Tire Pressure**: Under-inflated tires can increase rolling resistance and decrease fuel efficiency. Check tire pressure regularly and keep them inflated to the recommended levels.\\n3. **Use the Right Motor Oil**: Use the manufacturer-recommended grade of motor oil. Using the wrong oil can affect engine performance and fuel economy.\\n4. **Keep Your Car Clean**: A clean car, especially the engine and undercarriage, can improve aerodynamics and reduce weight.\\n\\n### Load and Accessories\\n1. **Reduce Weight**: Remove unnecessary items from your car. Extra weight can decrease fuel efficiency, especially in smaller vehicles.\\n2. **Minimize Drag**: Remove roof racks or carriers when not in use, as they can create aerodynamic drag and reduce mileage.\\n3. **Use Air Conditioning Wisely**: Air conditioning can increase fuel consumption. Use it sparingly, and consider using the vehicle's ventilation system instead.\\n\\n### Fuel Choices\\n1. **Choose the Right Fuel**: Use the fuel grade recommended by your vehicle's manufacturer. Higher octane fuels are not necessarily better for all cars.\\n2. **Consider Fuel-Efficient Vehicles**: If you're in the market for a new car, consider models known for their fuel efficiency, such as hybrids or electric vehicles.\\n\\nBy adopting these practices, you can improve your vehicle's mileage and save on fuel costs over time.\""
      ]
     },
     "execution_count": 9,
     "metadata": {},
     "output_type": "execute_result"
    }
   ],
   "source": [
    "chain.invoke(\"How to get good Mileage in driving?\")"
   ]
  },
  {
   "cell_type": "markdown",
   "metadata": {},
   "source": [
    "## Using Classification"
   ]
  },
  {
   "cell_type": "code",
   "execution_count": 10,
   "metadata": {},
   "outputs": [],
   "source": [
    "from langchain_core.output_parsers import StrOutputParser\n",
    "from langchain_core.prompts import PromptTemplate\n",
    "from langchain_openai import ChatOpenAI\n",
    "classification_template =PromptTemplate.from_template(\n",
    "\"\"\" \n",
    "You are good at classifying a question.\n",
    "Given the below question, classify it as either \"Car\" or \"resturant\" or \"technology\".\n",
    "\n",
    "<If the question is about car mechanics, models, or automative technology,classify it as Car>\n",
    "<If the question is about cuisines, dining experience, or resturant services, classify it as resturant>\n",
    "<If the question is about technology, gadgets, or software, classify it as technology>\n",
    "\n",
    "Question: {question}\n",
    "\n",
    "Classification:\n",
    "\"\"\"\n",
    ")"
   ]
  },
  {
   "cell_type": "code",
   "execution_count": 11,
   "metadata": {},
   "outputs": [],
   "source": [
    "classification_chain = classification_template | ChatOpenAI() | StrOutputParser()"
   ]
  },
  {
   "cell_type": "code",
   "execution_count": 12,
   "metadata": {},
   "outputs": [
    {
     "name": "stdout",
     "output_type": "stream",
     "text": [
      "Using Default N/A\n"
     ]
    }
   ],
   "source": [
    "def prompt_router(input_query):\n",
    "    # find the classification for the query\n",
    "    classification =classification_chain.invoke({\"question\":input_query[\"question\"]})\n",
    "    if classification == \"Car\":\n",
    "        print(\"Using CAR\")\n",
    "        return PromptTemplate.from_template(car_template)\n",
    "    elif classification == \"Resturant\":\n",
    "        print(\"Using Resturant\")\n",
    "        return PromptTemplate.from_template(restaurant_template)\n",
    "    elif classification == \"Technology\":\n",
    "        print(\"Using Technology\")\n",
    "        return PromptTemplate.from_template(technology_template)\n",
    "    else:\n",
    "        print(\"Using Default\", classification)\n",
    "        return None\n",
    "\n",
    "input_query = {\"question\": \"What is the capital of France?\"}\n",
    "prompt = prompt_router(input_query)"
   ]
  },
  {
   "cell_type": "code",
   "execution_count": 13,
   "metadata": {},
   "outputs": [
    {
     "name": "stdout",
     "output_type": "stream",
     "text": [
      "Using Technology\n"
     ]
    }
   ],
   "source": [
    "input_query ={\"question\":\"Can increasing the RAM will increase the laptop performance?\"}\n",
    "prompt = prompt_router(input_query)\n"
   ]
  },
  {
   "cell_type": "code",
   "execution_count": 14,
   "metadata": {},
   "outputs": [],
   "source": [
    "chain =(\n",
    "    {\"question\":RunnablePassthrough()}\n",
    "    | RunnableLambda(prompt_router)\n",
    "    |ChatOpenAI()\n",
    "    |StrOutputParser()\n",
    ")"
   ]
  },
  {
   "cell_type": "code",
   "execution_count": 15,
   "metadata": {},
   "outputs": [
    {
     "name": "stdout",
     "output_type": "stream",
     "text": [
      "Using Technology\n"
     ]
    },
    {
     "data": {
      "text/plain": [
       "'Answer: The decision between .NET and Python ultimately depends on your specific needs and preferences. \\n\\n.NET is a software framework developed by Microsoft that is widely used for building Windows applications. It is known for its robustness, scalability, and integration capabilities. .NET supports multiple programming languages such as C#, F#, and Visual Basic, making it versatile for developers. It also has a large community of developers and extensive documentation available.\\n\\nPython, on the other hand, is a versatile programming language that is popular for its simplicity, readability, and flexibility. It is widely used for web development, data analysis, artificial intelligence, and scientific computing. Python has a large number of libraries and frameworks that make it easy to build complex applications quickly.\\n\\nIf you are looking to develop Windows applications or work within the Microsoft ecosystem, .NET may be the better choice for you. However, if you are looking for a versatile and easy-to-learn language that can be used for a wide range of applications, Python may be the better option.\\n\\nUltimately, both .NET and Python have their strengths and weaknesses, so it is important to consider your specific requirements and goals before making a decision.'"
      ]
     },
     "execution_count": 15,
     "metadata": {},
     "output_type": "execute_result"
    }
   ],
   "source": [
    "chain.invoke(\".Net or python?\")"
   ]
  },
  {
   "cell_type": "markdown",
   "metadata": {},
   "source": [
    "## Using Tool Calling"
   ]
  },
  {
   "cell_type": "code",
   "execution_count": 16,
   "metadata": {},
   "outputs": [],
   "source": [
    "from langchain_core.tools import tool\n",
    "\n",
    "@tool\n",
    "def classify_as_car(question: str) -> str:\n",
    "    \"\"\"Classifies the question as a 'Car' if it is about car mechanics, models or automotive technology.\n",
    "    Args:\n",
    "       question: The input question to be classified.\n",
    "    Returns:\n",
    "       A string 'Car' if the question is about car mechanics, models or automotive technology, otherwise None.\n",
    "    \"\"\"\n",
    "    print(\"Funtion 'classify_as_car' was used\")\n",
    "    return 'Car'\n",
    "\n",
    "@tool\n",
    "def classify_as_resturant(question: str) -> str:\n",
    "    \"\"\"Classifies the question as a 'Restaurant' if it is about food, dining experiences, cuisines, drinks or resturant services.\n",
    "    Args:\n",
    "       question: The input question to be classified.\n",
    "    Returns:\n",
    "       A string 'Restaurant' if the question is about restaurants, food or drinks, otherwise None.\n",
    "    \"\"\"\n",
    "    print(\"Funtion 'classify_as_restaurant' was used\")\n",
    "    return 'Restaurant'\n",
    "\n",
    "@tool\n",
    "def classify_as_technology(question: str) -> str:\n",
    "    \"\"\"Classifies the question as a 'Technology' if it is about computers, software, hardware, networks or other tech-related topics.\n",
    "    Args:\n",
    "       question: The input question to be classified.\n",
    "    Returns:\n",
    "       A string 'Technology' if the question is about computers, software, hardware, networks or other tech-related topics, otherwise None.\n",
    "    \"\"\"\n",
    "    print(\"Funtion 'classify_as_technology' was used\")\n",
    "    return 'Technology'"
   ]
  },
  {
   "cell_type": "code",
   "execution_count": 18,
   "metadata": {},
   "outputs": [
    {
     "name": "stdout",
     "output_type": "stream",
     "text": [
      "Funtion 'classify_as_car' was used\n",
      "Funtion 'classify_as_technology' was used\n"
     ]
    },
    {
     "data": {
      "text/plain": [
       "[HumanMessage(content='What is the latest trend in car market and what gadgets are relevant?', additional_kwargs={}, response_metadata={}),\n",
       " AIMessage(content='', additional_kwargs={'tool_calls': [{'id': 'call_sLOcO5b83KUkgiVM2QEENmU4', 'function': {'arguments': '{\"question\": \"What is the latest trend in car market?\"}', 'name': 'classify_as_car'}, 'type': 'function'}, {'id': 'call_oPvuW8wlcckGCVK1ifeTqa7R', 'function': {'arguments': '{\"question\": \"What gadgets are relevant in the car market?\"}', 'name': 'classify_as_technology'}, 'type': 'function'}], 'refusal': None}, response_metadata={'token_usage': {'completion_tokens': 65, 'prompt_tokens': 281, 'total_tokens': 346, 'completion_tokens_details': {'accepted_prediction_tokens': 0, 'audio_tokens': 0, 'reasoning_tokens': 0, 'rejected_prediction_tokens': 0}, 'prompt_tokens_details': {'audio_tokens': 0, 'cached_tokens': 0}}, 'model_name': 'gpt-3.5-turbo-0125', 'system_fingerprint': None, 'finish_reason': 'tool_calls', 'logprobs': None}, id='run-8f87ee89-90e8-46d5-bc6d-0928a4d5c0aa-0', tool_calls=[{'name': 'classify_as_car', 'args': {'question': 'What is the latest trend in car market?'}, 'id': 'call_sLOcO5b83KUkgiVM2QEENmU4', 'type': 'tool_call'}, {'name': 'classify_as_technology', 'args': {'question': 'What gadgets are relevant in the car market?'}, 'id': 'call_oPvuW8wlcckGCVK1ifeTqa7R', 'type': 'tool_call'}], usage_metadata={'input_tokens': 281, 'output_tokens': 65, 'total_tokens': 346, 'input_token_details': {'audio': 0, 'cache_read': 0}, 'output_token_details': {'audio': 0, 'reasoning': 0}}),\n",
       " ToolMessage(content='Car', tool_call_id='call_sLOcO5b83KUkgiVM2QEENmU4'),\n",
       " ToolMessage(content='Technology', tool_call_id='call_oPvuW8wlcckGCVK1ifeTqa7R')]"
      ]
     },
     "execution_count": 18,
     "metadata": {},
     "output_type": "execute_result"
    }
   ],
   "source": [
    "from langchain_openai import ChatOpenAI\n",
    "from langchain_core.messages import HumanMessage, SystemMessage, ToolMessage\n",
    "\n",
    "llm = ChatOpenAI()\n",
    "query = \"What is the latest trend in car market and what gadgets are relevant?\"\n",
    "#query = \"How do I identify a good vintage wine at a resturant?\"\n",
    "\n",
    "tools = [classify_as_car, classify_as_resturant, classify_as_technology]\n",
    "llm_with_tools = llm.bind_tools(tools)\n",
    "\n",
    "messages =[HumanMessage(query)]\n",
    "ai_msg = llm_with_tools.invoke(messages)\n",
    "messages.append(ai_msg)\n",
    "\n",
    "for tool_call in ai_msg.tool_calls:\n",
    "  selected_tool = {\n",
    "    \"classify_as_car\": classify_as_car,\n",
    "    \"classify_as_resturant\": classify_as_resturant,\n",
    "    \"classify_as_technology\": classify_as_technology\n",
    "  }[tool_call[\"name\"].lower()]\n",
    "  tool_output = selected_tool.invoke(tool_call[\"args\"])\n",
    "  messages.append(ToolMessage(content=tool_output, tool_call_id=tool_call[\"id\"]))\n",
    "\n",
    "messages"
   ]
  }
 ],
 "metadata": {
  "kernelspec": {
   "display_name": "venv",
   "language": "python",
   "name": "python3"
  },
  "language_info": {
   "codemirror_mode": {
    "name": "ipython",
    "version": 3
   },
   "file_extension": ".py",
   "mimetype": "text/x-python",
   "name": "python",
   "nbconvert_exporter": "python",
   "pygments_lexer": "ipython3",
   "version": "3.13.0"
  }
 },
 "nbformat": 4,
 "nbformat_minor": 2
}
