{
 "cells": [
  {
   "cell_type": "code",
   "execution_count": 1,
   "metadata": {},
   "outputs": [
    {
     "data": {
      "text/plain": [
       "True"
      ]
     },
     "execution_count": 1,
     "metadata": {},
     "output_type": "execute_result"
    }
   ],
   "source": [
    "import openai\n",
    "from typing import List\n",
    "from dotenv import load_dotenv\n",
    "load_dotenv()"
   ]
  },
  {
   "cell_type": "markdown",
   "metadata": {},
   "source": [
    "## Vanilla OpenAI"
   ]
  },
  {
   "cell_type": "code",
   "execution_count": 2,
   "metadata": {},
   "outputs": [
    {
     "data": {
      "text/plain": [
       "'Hello! How can I help you today?'"
      ]
     },
     "execution_count": 2,
     "metadata": {},
     "output_type": "execute_result"
    }
   ],
   "source": [
    "client = openai.OpenAI()\n",
    "response = client.chat.completions.create(\n",
    "    model=\"gpt-3.5-turbo\",\n",
    "    messages=[\n",
    "        {\"role\": \"system\", \"content\": \"You are a helpful assistant.\"},\n",
    "        {\"role\": \"user\", \"content\": \"Hello!\"}\n",
    "    ]\n",
    ")\n",
    "response.choices[0].message.content   "
   ]
  },
  {
   "cell_type": "code",
   "execution_count": 3,
   "metadata": {},
   "outputs": [
    {
     "data": {
      "text/plain": [
       "'- Introduction to .NET framework\\n- C# programming language\\n- ASP.NET Core\\n- Azure App Services\\n- Azure Functions\\n- Azure SQL Database\\n- Azure Storage\\n- Azure DevOps\\n- Azure Active Directory\\n- Azure Cognitive Services'"
      ]
     },
     "execution_count": 3,
     "metadata": {},
     "output_type": "execute_result"
    }
   ],
   "source": [
    "prompt_template = \"List down top 10 topics in a bulleted list for a developer to learn on {topic}\"\n",
    "client = openai.OpenAI()\n",
    "\n",
    "def call_chat_model(messages: List[dict])->str:\n",
    "    response = client.chat.completions.create(\n",
    "        model=\"gpt-3.5-turbo\",\n",
    "        messages=messages,\n",
    "        temperature=0.2\n",
    "    )\n",
    "    return response.choices[0].message.content\n",
    "\n",
    "def invoke_chain(topic:str)->str:\n",
    "    prompt_value = prompt_template.format(topic=topic)\n",
    "    messages = [\n",
    "        {\"role\": \"system\", \"content\": \"You are a helpful assistant.\"},\n",
    "        {\"role\": \"user\", \"content\": prompt_value}\n",
    "    ]\n",
    "    return call_chat_model(messages)\n",
    "\n",
    "invoke_chain(\".Net with Azure Services\")\n"
   ]
  },
  {
   "cell_type": "markdown",
   "metadata": {},
   "source": [
    "## With Langchain"
   ]
  },
  {
   "cell_type": "code",
   "execution_count": 6,
   "metadata": {},
   "outputs": [
    {
     "data": {
      "text/plain": [
       "True"
      ]
     },
     "execution_count": 6,
     "metadata": {},
     "output_type": "execute_result"
    }
   ],
   "source": [
    "from langchain_openai import ChatOpenAI\n",
    "from langchain_core.prompts import ChatPromptTemplate\n",
    "from langchain_core.output_parsers import StrOutputParser\n",
    "from langchain_core.runnables import RunnablePassthrough\n",
    "from dotenv import load_dotenv\n",
    "load_dotenv()"
   ]
  },
  {
   "cell_type": "code",
   "execution_count": 7,
   "metadata": {},
   "outputs": [
    {
     "data": {
      "text/plain": [
       "{'topics': ['- Introduction to FastApi',\n",
       "  '- Setting up a FastApi project',\n",
       "  '- Creating API endpoints in FastApi',\n",
       "  '- Request and response handling in FastApi',\n",
       "  '- Authentication and authorization in FastApi',\n",
       "  '- Database integration with FastApi',\n",
       "  '- Testing FastApi applications',\n",
       "  '- Deployment of FastApi applications',\n",
       "  '- Performance optimization in FastApi',\n",
       "  '- Advanced features and best practices in FastApi']}"
      ]
     },
     "execution_count": 7,
     "metadata": {},
     "output_type": "execute_result"
    }
   ],
   "source": [
    "prompt = ChatPromptTemplate.from_template(\n",
    "    \"List down top 10 topics in a bulleted list for a developer to learn on {topic}\"\n",
    ")\n",
    "output_parser = StrOutputParser()\n",
    "model = ChatOpenAI(model_name=\"gpt-3.5-turbo\", temperature=0.0)\n",
    "chain = ( \n",
    "    {'topic':RunnablePassthrough()}\n",
    "    | prompt\n",
    "    | model\n",
    "    | output_parser\n",
    "    | { 'topics': lambda x: x.split('\\n') }\n",
    ")\n",
    "chain.invoke(\"python FastApi\")"
   ]
  },
  {
   "cell_type": "markdown",
   "metadata": {},
   "source": [
    "## What is this \"|\"?"
   ]
  },
  {
   "cell_type": "code",
   "execution_count": 11,
   "metadata": {},
   "outputs": [],
   "source": [
    "class CustomLCEL:\n",
    "    def __init__(self, value):\n",
    "        self.value = value\n",
    "    \n",
    "    def __or__(self,other):\n",
    "        if callable(other):\n",
    "            return CustomLCEL(other(self.value))\n",
    "        else:\n",
    "            raise ValueError(\"Right operand must be a function\")\n",
    "    def result(self):\n",
    "        return self.value\n",
    "    \n",
    "def to_uppercase(s):\n",
    "    return s.upper()\n",
    "def to_lowercase(s):\n",
    "    return s.lower()\n",
    "def to_title(s):\n",
    "    return s.title()\n",
    "def to_capitalize(s):\n",
    "    return s.capitalize()\n",
    "def to_swapcase(s):\n",
    "    return s.swapcase()\n",
    "def add_exclamation(s):\n",
    "    return s + \"!\"\n",
    "def reverse_string(s):\n",
    "    return s[::-1]\n",
    "\n"
   ]
  },
  {
   "cell_type": "code",
   "execution_count": 12,
   "metadata": {},
   "outputs": [
    {
     "name": "stdout",
     "output_type": "stream",
     "text": [
      "!DLROW OLLEH\n"
     ]
    }
   ],
   "source": [
    "custom_chain =(\n",
    "    CustomLCEL(\"hello world\")\n",
    "    | to_uppercase\n",
    "    | add_exclamation\n",
    "    | reverse_string\n",
    ")\n",
    "result = custom_chain.result()\n",
    "print(result)  # Output: \"!DLROW OLLEH\""
   ]
  },
  {
   "cell_type": "markdown",
   "metadata": {},
   "source": [
    "## Runnable Interface(Stream, Invoke, Batch)"
   ]
  },
  {
   "cell_type": "code",
   "execution_count": 14,
   "metadata": {},
   "outputs": [
    {
     "name": "stdout",
     "output_type": "stream",
     "text": [
      "{'topics': ['- Blockchain technology', '- Smart contracts', '- Cryptography', '- Decentralized applications (dApps)', '- Consensus algorithms', '- Tokenization', '- Distributed ledger technology', '- Solidity programming language', '- Ethereum platform', '- Web3.js integration']}"
     ]
    }
   ],
   "source": [
    "for s in chain.stream({\"topic\":\"Langchain\"}):\n",
    "    print(s,end=\"\",flush=True)"
   ]
  },
  {
   "cell_type": "code",
   "execution_count": 15,
   "metadata": {},
   "outputs": [
    {
     "data": {
      "text/plain": [
       "{'topics': ['- Introduction to Entity Framework Core',\n",
       "  '- Setting up Entity Framework Core in a project',\n",
       "  '- Creating models and database context',\n",
       "  '- CRUD operations with Entity Framework Core',\n",
       "  '- Querying data with LINQ',\n",
       "  '- Working with migrations',\n",
       "  '- Understanding relationships in Entity Framework Core',\n",
       "  '- Using stored procedures with Entity Framework Core',\n",
       "  '- Performance optimization techniques',\n",
       "  '- Advanced topics in Entity Framework Core such as transactions and concurrency control']}"
      ]
     },
     "execution_count": 15,
     "metadata": {},
     "output_type": "execute_result"
    }
   ],
   "source": [
    "chain.invoke({\"topic\":\"Entity Framework Core\"})"
   ]
  },
  {
   "cell_type": "code",
   "execution_count": 16,
   "metadata": {},
   "outputs": [
    {
     "data": {
      "text/plain": [
       "[{'topics': ['- Introduction to .Net Core',\n",
       "   '- Setting up a development environment for .Net Core',\n",
       "   '- Understanding the architecture of .Net Core',\n",
       "   '- Building web applications with .Net Core',\n",
       "   '- Working with databases in .Net Core',\n",
       "   '- Implementing authentication and authorization in .Net Core',\n",
       "   '- Testing and debugging in .Net Core',\n",
       "   '- Deploying .Net Core applications',\n",
       "   '- Performance optimization in .Net Core',\n",
       "   '- Continuous integration and deployment with .Net Core']},\n",
       " {'topics': ['- Introduction to Serilog',\n",
       "   '- Setting up Serilog in a .NET application',\n",
       "   '- Logging levels in Serilog',\n",
       "   '- Customizing log output in Serilog',\n",
       "   '- Using sinks in Serilog',\n",
       "   '- Enriching log data with properties in Serilog',\n",
       "   '- Structured logging with Serilog',\n",
       "   '- Filtering log messages in Serilog',\n",
       "   '- Error handling and exception logging in Serilog',\n",
       "   '- Best practices for logging with Serilog']}]"
      ]
     },
     "execution_count": 16,
     "metadata": {},
     "output_type": "execute_result"
    }
   ],
   "source": [
    "chain.batch([{'topic':'.Net Core'},{\"topic\":\"Serilog\"}])"
   ]
  },
  {
   "cell_type": "code",
   "execution_count": 18,
   "metadata": {},
   "outputs": [
    {
     "name": "stdout",
     "output_type": "stream",
     "text": [
      "{'topics': ['- Introduction to Dapper', '- Installing Dapper', '- Connecting Dapper to a database', '- Performing CRUD operations with Dapper', '- Mapping database tables to C# classes with Dapper', '- Handling transactions with Dapper', '- Using Dapper for complex queries', '- Performance optimization with Dapper', '- Unit testing Dapper code', '- Best practices for using Dapper']}"
     ]
    }
   ],
   "source": [
    "# when using Langchain with FastApi, we can usethe Async methods of the above\n",
    "async for s in chain.astream({\"topic\":\"Dapper\"}):\n",
    "    print(s,end=\"\",flush=True)"
   ]
  },
  {
   "cell_type": "code",
   "execution_count": 19,
   "metadata": {},
   "outputs": [
    {
     "data": {
      "text/plain": [
       "{'topics': ['- Introduction to Entity Framework Core',\n",
       "  '- Setting up EF Core in a project',\n",
       "  '- Creating models and database context',\n",
       "  '- CRUD operations with EF Core',\n",
       "  '- Querying data with EF Core',\n",
       "  '- Working with migrations in EF Core',\n",
       "  '- Using LINQ with EF Core',\n",
       "  '- Handling relationships in EF Core',\n",
       "  '- Performance optimization in EF Core',\n",
       "  '- Advanced topics in EF Core such as transactions, stored procedures, and concurrency control']}"
      ]
     },
     "execution_count": 19,
     "metadata": {},
     "output_type": "execute_result"
    }
   ],
   "source": [
    "await chain.ainvoke({\"topic\":\"EFCore\"})"
   ]
  },
  {
   "cell_type": "code",
   "execution_count": 20,
   "metadata": {},
   "outputs": [
    {
     "data": {
      "text/plain": [
       "[{'topics': ['- Introduction to Docker',\n",
       "   '- Docker installation and setup',\n",
       "   '- Docker containers',\n",
       "   '- Docker images',\n",
       "   '- Docker networking',\n",
       "   '- Docker volumes',\n",
       "   '- Docker compose',\n",
       "   '- Docker swarm',\n",
       "   '- Docker security',\n",
       "   '- Docker best practices']},\n",
       " {'topics': ['- Introduction to Docker Compose',\n",
       "   '- Installing Docker Compose',\n",
       "   '- Creating a Docker Compose file',\n",
       "   '- Defining services in Docker Compose',\n",
       "   '- Networking in Docker Compose',\n",
       "   '- Volumes in Docker Compose',\n",
       "   '- Environment variables in Docker Compose',\n",
       "   '- Docker Compose commands',\n",
       "   '- Docker Compose with multiple environments',\n",
       "   '- Best practices for using Docker Compose']}]"
      ]
     },
     "execution_count": 20,
     "metadata": {},
     "output_type": "execute_result"
    }
   ],
   "source": [
    "await chain.abatch([{'topic':'Docker'},{\"topic\":\"Docker Compose\"}])"
   ]
  }
 ],
 "metadata": {
  "kernelspec": {
   "display_name": "venv",
   "language": "python",
   "name": "python3"
  },
  "language_info": {
   "codemirror_mode": {
    "name": "ipython",
    "version": 3
   },
   "file_extension": ".py",
   "mimetype": "text/x-python",
   "name": "python",
   "nbconvert_exporter": "python",
   "pygments_lexer": "ipython3",
   "version": "3.13.0"
  }
 },
 "nbformat": 4,
 "nbformat_minor": 2
}
