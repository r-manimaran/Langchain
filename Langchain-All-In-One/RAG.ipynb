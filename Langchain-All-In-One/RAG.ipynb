{
 "cells": [
  {
   "cell_type": "markdown",
   "metadata": {},
   "source": [
    "### Indexing\n",
    "1. **Load** - Use Document Loaders to load the data\n",
    "2. **Split** - Use Text Splitters to break large documents into smaller chunks\n",
    "3. **Store** - Use Vector Store and Embeddings Models to store and index our chunks\n",
    "\n",
    "### Retreival and generation\n",
    "1. **Retrieve** - Based on user input, retreive relevant splits/chunks from the Vector store using Retriever. Use Cosine    \n",
    "                  similarity to perform Similarity Search\n",
    "2. **Generate** - Pass the retrieved data along with User query to LLM/ChatModel to generate the response\n",
    "\n",
    "\n",
    "![alt text](images/image.png)"
   ]
  },
  {
   "cell_type": "code",
   "execution_count": 1,
   "metadata": {},
   "outputs": [],
   "source": [
    "from langchain_openai import ChatOpenAI\n",
    "from dotenv import load_dotenv\n",
    "from langchain_community.document_loaders import TextLoader\n",
    "from langchain.text_splitter import RecursiveCharacterTextSplitter\n",
    "from langchain_chroma import Chroma\n",
    "from langchain_openai import OpenAIEmbeddings\n",
    "\n",
    "load_dotenv()\n",
    "\n",
    "embeddings = OpenAIEmbeddings()\n",
    "llm = ChatOpenAI(model_name=\"gpt-3.5-turbo\", temperature=0.7)\n"
   ]
  },
  {
   "cell_type": "code",
   "execution_count": 2,
   "metadata": {},
   "outputs": [],
   "source": [
    "loader = TextLoader(\"./technical.txt\")\n",
    "docs = loader.load()"
   ]
  },
  {
   "cell_type": "code",
   "execution_count": 6,
   "metadata": {},
   "outputs": [
    {
     "data": {
      "text/plain": [
       "[Document(metadata={'source': './technical.txt'}, page_content=\".Net & .Net Core Web API:\\n.NET Framework vs .NET Core: .NET Core is cross-platform, open-source, and optimized for microservices and high-performance applications.\\nDependency Injection (DI): Built-in DI in .NET Core simplifies testability and decouples components.\\nMiddleware: Custom middleware in .NET Core is used to handle HTTP requests and responses.\\nVersioning in Web API: Best practices for versioning APIs include URL path versioning, query string versioning, and header versioning.\\nAsynchronous Programming: Use of async/await for non-blocking I/O operations to enhance performance.\\n\\n\\nFastAPI:\\nFastAPI Core Strengths: High performance, type hints for request validation, and auto-generated OpenAPI documentation.\\nDependency Injection in FastAPI: Simplifies code testing and component decoupling.\\nData Validation: Use Pydantic for automatic request body validation, type checking, and schema generation.\\nConcurrency: Handles requests asynchronously using Python's asyncio for fast API responses.\\nSecurity Features: OAuth2, JWT token-based authentication.\\n\\n\\nGenerative AI:\\nTransformer Models: Understanding of architectures like GPT, BERT for natural language processing tasks.\\nModel Training: Fine-tuning large models (like GPT or BERT) for specific tasks such as text generation, classification.\\nText-to-Image Models: Use of diffusion models or GANs for text-to-image tasks.\\nCommon Libraries: HuggingFace, TensorFlow, PyTorch for model development and deployment.\\nPrompt Engineering: Optimizing prompts for generative AI models for more accurate and efficient output.\\n\\nAWS Services:\\nEC2: Compute instances with auto-scaling and load balancing.\\nLambda: Serverless architecture for running code without provisioning or managing servers.\\nS3: Object storage service, handling file storage with high availability.\\nAPI Gateway: Manages APIs with caching, throttling, and security.\\nRDS/ DynamoDB: RDS for relational databases and DynamoDB for NoSQL databases.\\nCloudFormation/Terraform: Infrastructure as Code (IaC) for automating AWS resource provisioning.\\n\\nAzure Services:\\nApp Services: Managed hosting for web applications, REST APIs with scaling and deployment capabilities.\\nAzure Functions: Serverless computing for event-driven applications.\\nAzure Kubernetes Service (AKS): Container orchestration and deployment of Docker-based applications.\\nAzure Blob Storage: Object storage for unstructured data with replication and geo-redundancy.\\nAzure Active Directory: Identity and access management (IAM) for secure authentication across services.\\nCosmosDB: Globally distributed, low-latency NoSQL database for scalable applications.\\n\\nOpenID Connect (OIDC):\\nOIDC Overview: OIDC is an identity layer built on top of OAuth 2.0 for authentication.\\nFunctionality: It allows clients (like web/mobile apps) to verify the identity of end-users based on authentication performed by an authorization server.\\nFlow: Uses tokens like ID Tokens, which are JWTs containing claims about the user (name, email, etc.) and Access Tokens for API access.\\nCommon Use Cases: Single Sign-On (SSO), securing web APIs, and federated identity.\\nOIDC Providers: Key providers include Azure AD, Google Identity, Okta, and Auth0.\\n\\nForgeRock:\\nForgeRock Overview: A comprehensive, enterprise-grade digital identity platform.\\nCore Products: Includes Identity Management (IDM), Access Management (AM), Identity Gateway (IG), and Directory Services (DS).\\nKey Features:\\nIdentity Management: Provisioning and lifecycle management of user identities.\\nAccess Management: Authentication, authorization, single sign-on (SSO), and MFA.\\nAdaptive Authentication: Allows context-based authentication (location, behavior).\\nIntegrations: Works well with OIDC, OAuth2, SAML, and provides fine-grained access control.\\n\\nPing Access:\\nPing Access Overview: A centralized web and API access security gateway.\\nCore Features:\\nWeb and API Security: Provides secure access to both web applications and APIs.\\nFine-Grained Access Control: Offers policy-based access control for APIs and web resources.\\nSSO & MFA: Integrates with PingFederate for seamless SSO and multi-factor authentication (MFA).\\nOAuth 2.0 and OIDC Integration: Can act as a policy enforcement point for OAuth 2.0 resource servers.\\nCommon Use Cases: API security, securing microservices, and centralized access control for enterprise applications.\\n\\nSerilog:\\nSerilog Overview: A structured logging library for .NET applications.\\nKey Features:\\nStructured Logging: Logs are stored in structured formats (e.g., JSON) for better queryability.\\nLog Sinks: Supports various destinations for logs such as files, Seq, databases, and cloud platforms like Elasticsearch.\\nEnrichers: Adds additional context to logs such as machine names, thread IDs, and more.\\nIntegration: Integrates well with ASP.NET Core for capturing logs across the app lifecycle.\\n\\nPrometheus:\\nPrometheus Overview: A monitoring and alerting toolkit primarily for cloud-native, containerized applications.\\nKey Features:\\nTime-Series Database: Stores metrics with timestamps and allows efficient querying.\\nPull-Based Model: Prometheus scrapes metrics from targets (applications, services) at regular intervals.\\nPromQL: Powerful query language to retrieve and manipulate metrics data.\\nAlertManager: Allows configuration of alert rules based on metrics and sends notifications (Slack, email, etc.).\\nCommon Use Cases: Monitoring system performance, tracking application metrics, and setting up alerting thresholds.\\n\\nGrafana:\\nGrafana Overview: An open-source platform for visualizing metrics and analytics from various data sources.\\nKey Features:\\nMulti-Source Data Visualization: Supports multiple data sources, including Prometheus, Elasticsearch, MySQL, and more.\\nCustom Dashboards: Create real-time, interactive dashboards to visualize time-series metrics.\\nAlerting: Can set up alert rules based on metric thresholds and send notifications.\\nPanel Plugins: Extensible with plugins for more complex visualizations (graphs, heatmaps, geomaps, etc.).\\nCommon Use Cases: Visualizing infrastructure metrics, application performance, and real-time monitoring.\\n\\nSeq:\\nSeq Overview: A centralized logging server for structured log data, commonly used with Serilog.\\nKey Features:\\nLog Aggregation: Collects logs from multiple applications and allows searching, filtering, and correlation of logs.\\nStructured Logs: Stores logs in structured formats for improved searchability and analytics.\\nAlerting and Notifications: Allows setting up alerts on specific log patterns or error conditions.\\nIntegration: Works seamlessly with Serilog, ASP.NET, and other .NET logging libraries.\\nCommon Use Cases: Centralized logging platform for .NET applications, debugging, and tracking issues in production environments.\")]"
      ]
     },
     "execution_count": 6,
     "metadata": {},
     "output_type": "execute_result"
    }
   ],
   "source": [
    "docs"
   ]
  },
  {
   "cell_type": "code",
   "execution_count": 7,
   "metadata": {},
   "outputs": [
    {
     "data": {
      "text/plain": [
       "1"
      ]
     },
     "execution_count": 7,
     "metadata": {},
     "output_type": "execute_result"
    }
   ],
   "source": [
    "len(docs)"
   ]
  },
  {
   "cell_type": "code",
   "execution_count": 5,
   "metadata": {},
   "outputs": [],
   "source": [
    "text_splitter = RecursiveCharacterTextSplitter(chunk_size=200, chunk_overlap=40)\n",
    "chunks = text_splitter.split_documents(docs)\n",
    "vector_store = Chroma.from_documents(documents=chunks, embedding=embeddings)"
   ]
  },
  {
   "cell_type": "code",
   "execution_count": 8,
   "metadata": {},
   "outputs": [],
   "source": [
    "from langchain_core.prompts import ChatPromptTemplate\n",
    "template =\"\"\"You are the helpful assistant to answer the question based on the below question and context\n",
    "    Question: {question}\n",
    "    Context: {context}\n",
    "    Answer:\n",
    "\"\"\"\n",
    "prompt = ChatPromptTemplate.from_template(template)"
   ]
  },
  {
   "cell_type": "code",
   "execution_count": 9,
   "metadata": {},
   "outputs": [],
   "source": [
    "from langchain import hub\n",
    "\n",
    "prompt = hub.pull(\"rlm/rag-prompt\")"
   ]
  },
  {
   "cell_type": "code",
   "execution_count": 11,
   "metadata": {},
   "outputs": [],
   "source": [
    "retriever = vector_store.as_retriever()\n",
    "\n",
    "def format_docs(docs):\n",
    "    return f\"\\n\\n\".join(doc.page_content for doc in docs)"
   ]
  },
  {
   "cell_type": "code",
   "execution_count": 12,
   "metadata": {},
   "outputs": [],
   "source": [
    "from langchain_core.runnables import RunnablePassthrough, RunnableLambda, RunnableParallel\n",
    "from langchain_core.output_parsers.string import StrOutputParser\n",
    "\n",
    "rag_chain =(\n",
    "    RunnableParallel({\"context\":retriever | format_docs,\"question\":RunnablePassthrough()})\n",
    "    | prompt\n",
    "    | llm\n",
    "    | StrOutputParser()\n",
    ")"
   ]
  },
  {
   "cell_type": "code",
   "execution_count": 13,
   "metadata": {},
   "outputs": [
    {
     "data": {
      "text/plain": [
       "'In FastAPI, the options available for authentication include OAuth2 and JWT token-based authentication. These features help in verifying the identity of end-users based on authentication performed by an authorization server. FastAPI also supports data validation using Pydantic for automatic request body validation and schema generation.'"
      ]
     },
     "execution_count": 13,
     "metadata": {},
     "output_type": "execute_result"
    }
   ],
   "source": [
    "rag_chain.invoke(\"What options available for Authentication in .Net or Python FastAPI?\")"
   ]
  }
 ],
 "metadata": {
  "kernelspec": {
   "display_name": "venv",
   "language": "python",
   "name": "python3"
  },
  "language_info": {
   "codemirror_mode": {
    "name": "ipython",
    "version": 3
   },
   "file_extension": ".py",
   "mimetype": "text/x-python",
   "name": "python",
   "nbconvert_exporter": "python",
   "pygments_lexer": "ipython3",
   "version": "3.12.3"
  }
 },
 "nbformat": 4,
 "nbformat_minor": 2
}
