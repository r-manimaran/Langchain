{
 "cells": [
  {
   "cell_type": "markdown",
   "metadata": {},
   "source": [
    "# Prompts \n",
    "Prompts allows to create System messages with input variables for example SystemMessage(content=\"You ar a helpful assistant to translate from English to French). Here Engilsh and French may be dynamic. This can be achieved with templates"
   ]
  },
  {
   "cell_type": "code",
   "execution_count": 17,
   "metadata": {},
   "outputs": [],
   "source": [
    "from dotenv import load_dotenv,find_dotenv\n",
    "from langchain_openai import ChatOpenAI\n",
    "load_dotenv(find_dotenv())\n",
    "\n",
    "llm = ChatOpenAI()"
   ]
  },
  {
   "cell_type": "code",
   "execution_count": 21,
   "metadata": {},
   "outputs": [],
   "source": [
    "Template = \"\"\"\n",
    "You are a helpful translater to translate from {input_language} to {output_language}\n",
    "\"\"\""
   ]
  },
  {
   "cell_type": "code",
   "execution_count": 22,
   "metadata": {},
   "outputs": [
    {
     "data": {
      "text/plain": [
       "'\\nYou are a helpful translater to translate from English to Tamil\\n'"
      ]
     },
     "execution_count": 22,
     "metadata": {},
     "output_type": "execute_result"
    }
   ],
   "source": [
    "from langchain import PromptTemplate\n",
    "from langchain_core.output_parsers.string import StrOutputParser\n",
    "\n",
    "prompt_template = PromptTemplate.from_template(\n",
    "    template = Template\n",
    ")\n",
    "prompt_template.format(input_language=\"English\",output_language=\"Tamil\")\n"
   ]
  },
  {
   "cell_type": "code",
   "execution_count": 23,
   "metadata": {},
   "outputs": [
    {
     "data": {
      "text/plain": [
       "'\\nYou are a helpful translater to translate from English to Tamil\\n'"
      ]
     },
     "execution_count": 23,
     "metadata": {},
     "output_type": "execute_result"
    }
   ],
   "source": [
    "# instead of from_template, we can directly use PromptTemplate\n",
    "prompt_template = PromptTemplate(template = Template, input_variables=[\"input_language\",\"output_language\"])\n",
    "prompt_template.format(input_language=\"English\",output_language=\"Tamil\")\n"
   ]
  },
  {
   "cell_type": "markdown",
   "metadata": {},
   "source": [
    "## Zero, One & Few shots prompts\n",
    "- How many examples you have provided to the LLM when using the Prompt.\n",
    "- In Zero shot prompting, no examples will be provided and the LLM will answer based on its training\n",
    "- In One shot prompting, one example will be provided in the prompt and the LLM model will understand the format and response accordingly.\n",
    "- In Few Shot prompting, multiple labeled examples are provided in the prompt. Few shots have high overall accuracy and performance in the output format we are expecting. "
   ]
  },
  {
   "cell_type": "code",
   "execution_count": 18,
   "metadata": {},
   "outputs": [
    {
     "name": "stdout",
     "output_type": "stream",
     "text": [
      "content=\"The Apple iPhone is a line of smartphones designed and marketed by Apple Inc. It was first released in 2007 and has since become one of the most popular and iconic smartphones in the world. The iPhone runs on Apple's iOS operating system and features a sleek design, high-quality camera, and access to a wide range of apps through the App Store. Apple regularly releases new models with updated features and improvements, making the iPhone one of the most sought-after smartphones on the market.\" additional_kwargs={'refusal': None} response_metadata={'token_usage': {'completion_tokens': 96, 'prompt_tokens': 10, 'total_tokens': 106, 'completion_tokens_details': {'audio_tokens': None, 'reasoning_tokens': 0}, 'prompt_tokens_details': {'audio_tokens': None, 'cached_tokens': 0}}, 'model_name': 'gpt-3.5-turbo-0125', 'system_fingerprint': None, 'finish_reason': 'stop', 'logprobs': None} id='run-cd28ebc2-8972-40f2-851f-eee5f1fd4dca-0' usage_metadata={'input_tokens': 10, 'output_tokens': 96, 'total_tokens': 106, 'input_token_details': {'cache_read': 0}, 'output_token_details': {'reasoning': 0}}\n"
     ]
    }
   ],
   "source": [
    "#Zero Shot\n",
    "text =\"Apple IPhone\"\n",
    "\n",
    "print(llm(text))"
   ]
  },
  {
   "cell_type": "code",
   "execution_count": 24,
   "metadata": {},
   "outputs": [],
   "source": [
    "# Few shots\n",
    "from langchain.prompts.few_shot import FewShotPromptTemplate\n",
    "from langchain.prompts.prompt import PromptTemplate\n",
    "\n",
    "examples =[\n",
    "    {\n",
    "        \"text\":\"The Bellavista restaurant offers a exquisite dining experience. The flavors are rich and presentable\",\n",
    "        \"response\":\"sentiment: positive\\nsubject: Bellavista\"\n",
    "    },\n",
    "    {\n",
    "        \"text\":\"The Bellavista restaurant was alright. The food was decent, but nothing stood out\",\n",
    "        \"response\":\"sentiment:neutral\\nsubject:Bellavista\"\n",
    "    }\n",
    "]\n"
   ]
  },
  {
   "cell_type": "code",
   "execution_count": 25,
   "metadata": {},
   "outputs": [],
   "source": [
    "new_example ={\n",
    "    \"text\":\"SaravanaBhavan restaurant was good. Its veg options was awesome with wide variety of items\",\n",
    "    \"response\":\"sentiment: positive\\nsubject:SaravanaBhavan\"\n",
    "}\n",
    "examples.append(new_example)"
   ]
  },
  {
   "cell_type": "code",
   "execution_count": 13,
   "metadata": {},
   "outputs": [],
   "source": [
    "example_prompt = PromptTemplate(input_variables=[\"text\",\"response\"], template=\"Text:{text}\\n{response}\")"
   ]
  },
  {
   "cell_type": "code",
   "execution_count": 14,
   "metadata": {},
   "outputs": [
    {
     "name": "stdout",
     "output_type": "stream",
     "text": [
      "Text:The Bellavista restaurant offers a exquisite dining experience. The flavors are rich and presentable\n",
      "sentiment: positive\n",
      "subject: Bellavista\n",
      "\n",
      "Text:The Bellavista restaurant was alright. The food was decent, but nothing stood out\n",
      "sentiment:neutral\n",
      "subject:Bellavista\n",
      "\n",
      "Text:SaravanaBhavan restaurant was good. Its veg options was awesome with wide variety of items\n",
      "sentiment: positive\n",
      "subject:SaravanaBhavan\n",
      "\n",
      "text:The MunichDeals experience was just awesome\n"
     ]
    }
   ],
   "source": [
    "prompt = FewShotPromptTemplate(\n",
    "    examples = examples,\n",
    "    example_prompt = example_prompt,\n",
    "    suffix =\"text:{input}\",\n",
    "    input_variables=[\"input\"]\n",
    ")\n",
    "print(prompt.format(input=\"The MunichDeals experience was just awesome\"))"
   ]
  },
  {
   "cell_type": "code",
   "execution_count": 27,
   "metadata": {},
   "outputs": [
    {
     "name": "stdout",
     "output_type": "stream",
     "text": [
      "sentiment: positive\n",
      "subject: MunichDeals\n"
     ]
    }
   ],
   "source": [
    "print(llm(prompt.format(input=\"The MunichDeals experience was just awesome\")).content)"
   ]
  },
  {
   "cell_type": "markdown",
   "metadata": {},
   "source": []
  },
  {
   "cell_type": "code",
   "execution_count": null,
   "metadata": {},
   "outputs": [],
   "source": []
  }
 ],
 "metadata": {
  "kernelspec": {
   "display_name": "venv",
   "language": "python",
   "name": "python3"
  },
  "language_info": {
   "codemirror_mode": {
    "name": "ipython",
    "version": 3
   },
   "file_extension": ".py",
   "mimetype": "text/x-python",
   "name": "python",
   "nbconvert_exporter": "python",
   "pygments_lexer": "ipython3",
   "version": "3.12.3"
  }
 },
 "nbformat": 4,
 "nbformat_minor": 2
}
