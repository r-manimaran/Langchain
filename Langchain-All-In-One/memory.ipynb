{
 "cells": [
  {
   "cell_type": "code",
   "execution_count": 2,
   "metadata": {},
   "outputs": [],
   "source": [
    "from langchain_openai import ChatOpenAI\n",
    "from langchain_core.prompts import ChatPromptTemplate\n",
    "from langchain_core.output_parsers import StrOutputParser\n",
    "from langchain_core.runnables import RunnablePassthrough\n",
    "from dotenv import load_dotenv\n",
    "load_dotenv()\n",
    "output_parser = StrOutputParser()\n",
    "model = ChatOpenAI(model_name=\"gpt-3.5-turbo\", temperature=0.0)\n",
    "chain = (\n",
    "    {\"topic\":RunnablePassthrough()} \n",
    "    | ChatPromptTemplate.from_template(\"write 5 bulleted list Advanced Learning topic about {topic}\")\n",
    "    | model\n",
    "    | output_parser\n",
    ")\n"
   ]
  },
  {
   "cell_type": "code",
   "execution_count": 3,
   "metadata": {},
   "outputs": [],
   "source": [
    "from langchain_community.chat_message_histories import ChatMessageHistory\n",
    "from langchain_core.chat_history import BaseChatMessageHistory\n",
    "from langchain_core.runnables.history import RunnableWithMessageHistory\n",
    "\n",
    "store={}\n",
    "\n",
    "def get_session_history(session_id: str) -> BaseChatMessageHistory:\n",
    "    if session_id not in store:\n",
    "        store[session_id] = ChatMessageHistory()\n",
    "    return store[session_id]\n",
    "\n",
    "with_message_history = RunnableWithMessageHistory(\n",
    "    chain,\n",
    "    get_session_history, # This is the function that retrieves the session history\n",
    "    input_messages_key=\"topic\",\n",
    "    history_messages_key=\"chat_history\",\n",
    "    output_messages_key=\"output\",\n",
    ")"
   ]
  },
  {
   "cell_type": "code",
   "execution_count": 4,
   "metadata": {},
   "outputs": [
    {
     "data": {
      "text/plain": [
       "\"- Understanding the architecture of Grafana and how it interacts with data sources\\n- Exploring advanced visualization techniques in Grafana, such as using plugins and customizing dashboards\\n- Learning how to set up alerts and notifications in Grafana for monitoring purposes\\n- Utilizing Grafana's advanced querying capabilities to extract insights from data\\n- Integrating Grafana with other tools and platforms for a comprehensive monitoring and analytics solution\""
      ]
     },
     "execution_count": 4,
     "metadata": {},
     "output_type": "execute_result"
    }
   ],
   "source": [
    "with_message_history.invoke({\"topic\":\"Grafana\"},{'configurable':{\"session_id\":\"123\"}})"
   ]
  },
  {
   "cell_type": "code",
   "execution_count": 5,
   "metadata": {},
   "outputs": [
    {
     "data": {
      "text/plain": [
       "\"- Deep diving into Grafana plugins and how to develop custom plugins for specific data visualization needs\\n- Understanding the role of Grafana in a DevOps environment and how it can be used for monitoring and troubleshooting\\n- Exploring Grafana's integration with popular data sources like Prometheus, InfluxDB, and Elasticsearch for real-time data visualization\\n- Learning best practices for scaling Grafana deployments in large enterprise environments\\n- Utilizing Grafana's API and scripting capabilities for automation and advanced data manipulation tasks\""
      ]
     },
     "execution_count": 5,
     "metadata": {},
     "output_type": "execute_result"
    }
   ],
   "source": [
    "with_message_history.invoke({\"topic\":\"List some more learnring topic about the topic I just asked about\"},{\"configurable\":{\"session_id\":\"123\"}})"
   ]
  },
  {
   "cell_type": "markdown",
   "metadata": {},
   "source": [
    "## Using Redis for Memory"
   ]
  },
  {
   "cell_type": "code",
   "execution_count": 14,
   "metadata": {},
   "outputs": [],
   "source": [
    "from langchain_community.chat_message_histories import RedisChatMessageHistory\n",
    "REDIS_URL = \"redis://localhost:6379\"\n",
    "\n",
    "def get_message_history_withRedis(session_id:str)-> RedisChatMessageHistory:\n",
    "    return RedisChatMessageHistory(session_id, url=REDIS_URL)\n",
    "\n",
    "with_message_history_with_Redis = RunnableWithMessageHistory(\n",
    "    chain,\n",
    "    get_message_history_withRedis,\n",
    "    input_messages_key=\"topic\",\n",
    "    history_messages_key=\"chat_history\"   \n",
    "   \n",
    ")"
   ]
  },
  {
   "cell_type": "code",
   "execution_count": 15,
   "metadata": {},
   "outputs": [
    {
     "data": {
      "text/plain": [
       "'- Understanding the different types of Azure Storage Accounts available, such as General Purpose v2, Blob Storage, File Storage, and Premium Storage\\n- Exploring the scalability and performance capabilities of Azure Storage Accounts, including the ability to scale up or down based on demand\\n- Implementing security measures for Azure Storage Accounts, such as encryption at rest and in transit, role-based access control, and network security\\n- Utilizing advanced features of Azure Storage Accounts, such as Azure Data Lake Storage, Azure Blob Storage lifecycle management, and Azure File Sync\\n- Integrating Azure Storage Accounts with other Azure services, such as Azure Virtual Machines, Azure Functions, and Azure Data Factory for seamless data storage and processing.'"
      ]
     },
     "execution_count": 15,
     "metadata": {},
     "output_type": "execute_result"
    }
   ],
   "source": [
    "with_message_history_with_Redis.invoke({\"topic\":\"Azure Storage Account\"},{\"configurable\":{\"session_id\":\"102\"}})"
   ]
  },
  {
   "cell_type": "code",
   "execution_count": 17,
   "metadata": {},
   "outputs": [
    {
     "data": {
      "text/plain": [
       "'- Deep diving into Azure Data Lake Storage and its capabilities for big data analytics\\n- Implementing Azure Blob Storage lifecycle management strategies for efficient data storage and retrieval\\n- Exploring advanced networking configurations for Azure Storage Accounts to optimize performance and security\\n- Leveraging Azure File Sync for seamless synchronization of on-premises file servers with Azure Storage\\n- Understanding the cost management aspects of Azure Storage Accounts and implementing cost optimization strategies'"
      ]
     },
     "execution_count": 17,
     "metadata": {},
     "output_type": "execute_result"
    }
   ],
   "source": [
    "with_message_history_with_Redis.invoke({\"topic\":\"List some more learnring topic about the topic I just asked about\"},{\"configurable\":{\"session_id\":\"102\"}})"
   ]
  }
 ],
 "metadata": {
  "kernelspec": {
   "display_name": "venv",
   "language": "python",
   "name": "python3"
  },
  "language_info": {
   "codemirror_mode": {
    "name": "ipython",
    "version": 3
   },
   "file_extension": ".py",
   "mimetype": "text/x-python",
   "name": "python",
   "nbconvert_exporter": "python",
   "pygments_lexer": "ipython3",
   "version": "3.12.3"
  }
 },
 "nbformat": 4,
 "nbformat_minor": 2
}
