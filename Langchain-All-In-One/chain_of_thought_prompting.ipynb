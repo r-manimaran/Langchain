{
 "cells": [
  {
   "cell_type": "markdown",
   "metadata": {},
   "source": [
    "## Chain of thought prompting\n",
    "Instead of just providing examples, we can also provide examples which inlcude the whole thought process of why a review is negative, positive or neutral"
   ]
  },
  {
   "cell_type": "code",
   "execution_count": null,
   "metadata": {},
   "outputs": [],
   "source": [
    "# Chain of thought Template\n",
    "Template =\"\"\" \n",
    "Interprete the text and evaluate the text. Determine if the text has a positive, negative or neutral sentiment. Also,\n",
    "\n",
    "Format the output as JSON with the following keys:\n",
    "sentiment\n",
    "subject\n",
    "\n",
    "text :{input}\n",
    "\n",
    "Chain-of-Thought Prompts:\n",
    "Let's start by evaluating a statement. Consider \"The Bellavista restaurant offers a exquisite dining experience. \"\n",
    "Its sound like a positive review for Bellavista.\n",
    "\n",
    "Based on the positive nature of that statment, how would you format your response?\n",
    "{\"sentiment\":\"positive\",\"subject\":\"Bellavista\"}\n",
    "\n",
    "Now think about this:\"Seoulsavor was okay. The bibimap was good but the bulgogi was a bit too sweet for my taste.\"\n",
    "It seems like a mix of good and not-so-good elemets. so its neutral.\n",
    "\n",
    "Given the neutral sentiment, how should this to be presented?\n",
    "{\"sentiment\":\"neutral\",\"subject\":\"Seoulsavor\"}\n",
    "\n",
    "Lastly, ponder on this: I was let down by ABC restaurant. The potato salad lacked flavor and staff seemed unintrested.\"\n",
    "The statement is expressing disappointment and disstatisfication.\n",
    "\n",
    "And if you were to categorize this impression, what would it be?\n",
    "{\"sentiment\":\"negative\",\"subject\":\"ABC\"}\n",
    "\n",
    "\"\"\""
   ]
  }
 ],
 "metadata": {
  "kernelspec": {
   "display_name": "venv",
   "language": "python",
   "name": "python3"
  },
  "language_info": {
   "name": "python",
   "version": "3.12.3"
  }
 },
 "nbformat": 4,
 "nbformat_minor": 2
}
