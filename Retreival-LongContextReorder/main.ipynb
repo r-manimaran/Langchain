{
 "cells": [
  {
   "cell_type": "markdown",
   "metadata": {},
   "source": [
    "To mitigate the lost-in-middle effect, we can re-order documents after retrieval such that the most relevant documents are positioned at extrema and the least relevant documents are positioned in the middle"
   ]
  },
  {
   "cell_type": "code",
   "execution_count": 2,
   "metadata": {},
   "outputs": [
    {
     "name": "stderr",
     "output_type": "stream",
     "text": [
      "c:\\Maran\\StudyMaterials\\Git\\LangChain\\Retreival-LongContextReorder\\venv\\Lib\\site-packages\\sentence_transformers\\cross_encoder\\CrossEncoder.py:13: TqdmWarning: IProgress not found. Please update jupyter and ipywidgets. See https://ipywidgets.readthedocs.io/en/stable/user_install.html\n",
      "  from tqdm.autonotebook import tqdm, trange\n"
     ]
    }
   ],
   "source": [
    "from langchain_chroma import Chroma\n",
    "from langchain_huggingface import HuggingFaceEmbeddings\n",
    "embeddings = HuggingFaceEmbeddings(model_name=\"sentence-transformers/all-MiniLM-L6-v2\")"
   ]
  },
  {
   "cell_type": "code",
   "execution_count": 3,
   "metadata": {},
   "outputs": [],
   "source": [
    "texts =[\n",
    "    \"Basquetball is a great sport.\",\n",
    "    \"Fly me to the moon is one of my favourite songs.\",\n",
    "    \"The Celtics are my favourite team.\",\n",
    "    \"This is a document about the Boston Celtics\",\n",
    "    \"I simply love going to the movies\",\n",
    "    \"The Boston Celtics won the game by 20 points\",\n",
    "    \"This is a random text\",\n",
    "    \"Elden Ring is one of the best games in the last 15 years\",\n",
    "    \"L.Rornet is one of the best Celtics players\",\n",
    "    \"Larry Bird was a iconic NBA player\"\n",
    "]"
   ]
  },
  {
   "cell_type": "code",
   "execution_count": 4,
   "metadata": {},
   "outputs": [],
   "source": [
    "#create the retriever\n",
    "retriever = Chroma.from_texts(texts,embedding=embeddings).as_retriever(search_kwargs={\"k\": 10})"
   ]
  },
  {
   "cell_type": "code",
   "execution_count": 5,
   "metadata": {},
   "outputs": [],
   "source": [
    "query = \"What can you tell me about Celtics?\""
   ]
  },
  {
   "cell_type": "code",
   "execution_count": 6,
   "metadata": {},
   "outputs": [
    {
     "data": {
      "text/plain": [
       "[Document(metadata={}, page_content='This is a document about the Boston Celtics'),\n",
       " Document(metadata={}, page_content='The Celtics are my favourite team.'),\n",
       " Document(metadata={}, page_content='L.Rornet is one of the best Celtics players'),\n",
       " Document(metadata={}, page_content='The Boston Celtics won the game by 20 points'),\n",
       " Document(metadata={}, page_content='Larry Bird was a iconic NBA player'),\n",
       " Document(metadata={}, page_content='Elden Ring is one of the best games in the last 15 years'),\n",
       " Document(metadata={}, page_content='Basquetball is a great sport.'),\n",
       " Document(metadata={}, page_content='I simply love going to the movies'),\n",
       " Document(metadata={}, page_content='Fly me to the moon is one of my favourite songs.'),\n",
       " Document(metadata={}, page_content='This is a random text')]"
      ]
     },
     "execution_count": 6,
     "metadata": {},
     "output_type": "execute_result"
    }
   ],
   "source": [
    "docs = retriever.invoke(query)\n",
    "docs"
   ]
  },
  {
   "cell_type": "markdown",
   "metadata": {},
   "source": [
    "## Using LongContextReOrder\n"
   ]
  },
  {
   "cell_type": "code",
   "execution_count": 7,
   "metadata": {},
   "outputs": [],
   "source": [
    "from langchain_community.document_transformers import LongContextReorder"
   ]
  },
  {
   "cell_type": "code",
   "execution_count": 8,
   "metadata": {},
   "outputs": [
    {
     "data": {
      "text/plain": [
       "[Document(metadata={}, page_content='The Celtics are my favourite team.'),\n",
       " Document(metadata={}, page_content='The Boston Celtics won the game by 20 points'),\n",
       " Document(metadata={}, page_content='Elden Ring is one of the best games in the last 15 years'),\n",
       " Document(metadata={}, page_content='I simply love going to the movies'),\n",
       " Document(metadata={}, page_content='This is a random text'),\n",
       " Document(metadata={}, page_content='Fly me to the moon is one of my favourite songs.'),\n",
       " Document(metadata={}, page_content='Basquetball is a great sport.'),\n",
       " Document(metadata={}, page_content='Larry Bird was a iconic NBA player'),\n",
       " Document(metadata={}, page_content='L.Rornet is one of the best Celtics players'),\n",
       " Document(metadata={}, page_content='This is a document about the Boston Celtics')]"
      ]
     },
     "execution_count": 8,
     "metadata": {},
     "output_type": "execute_result"
    }
   ],
   "source": [
    "# Reorder the documents:\n",
    "# Less relevant documents will be at the middle of the list and \n",
    "# morre relevant elements at beginning / end.\n",
    "reordering = LongContextReorder()\n",
    "reordered_docs = reordering.transform_documents(docs)\n",
    "reordered_docs"
   ]
  },
  {
   "cell_type": "code",
   "execution_count": 10,
   "metadata": {},
   "outputs": [],
   "source": [
    "from langchain.chains.combine_documents import create_stuff_documents_chain\n",
    "from langchain_core.prompts import PromptTemplate\n",
    "from langchain_openai import OpenAI \n",
    "from dotenv import load_dotenv\n",
    "load_dotenv()\n",
    "llm = OpenAI()"
   ]
  },
  {
   "cell_type": "code",
   "execution_count": 13,
   "metadata": {},
   "outputs": [],
   "source": [
    "prompt_template = \"\"\" \n",
    "Given the below context:\n",
    "-------\n",
    "{context}\n",
    "--------\n",
    "Please answer the question only on the context: \n",
    "{question}\n",
    "\"\"\"\n",
    "prompt = PromptTemplate(template = prompt_template, input_variables = [\"context\", \"question\"])"
   ]
  },
  {
   "cell_type": "code",
   "execution_count": 14,
   "metadata": {},
   "outputs": [
    {
     "name": "stdout",
     "output_type": "stream",
     "text": [
      "\n",
      "Based on the given context, we can tell that Celtics is a sports team, specifically a basketball team, and is the favorite team of the person speaking. The Boston Celtics, a professional basketball team, won a game by 20 points. Larry Bird, an iconic NBA player, is associated with the Celtics. L. Rornet is also mentioned as one of the best Celtics players. Additionally, the person speaking is a fan of the Celtics and mentions them frequently. It can also be inferred that the person may be from or has a connection to Boston, as they mention the city and a specific song about the city.\n"
     ]
    }
   ],
   "source": [
    "#chains\n",
    "chain = create_stuff_documents_chain(llm=llm, prompt=prompt)\n",
    "response = chain.invoke({\"context\":reordered_docs,\"question\":query})\n",
    "print(response)"
   ]
  }
 ],
 "metadata": {
  "kernelspec": {
   "display_name": "venv",
   "language": "python",
   "name": "python3"
  },
  "language_info": {
   "codemirror_mode": {
    "name": "ipython",
    "version": 3
   },
   "file_extension": ".py",
   "mimetype": "text/x-python",
   "name": "python",
   "nbconvert_exporter": "python",
   "pygments_lexer": "ipython3",
   "version": "3.12.3"
  }
 },
 "nbformat": 4,
 "nbformat_minor": 2
}
