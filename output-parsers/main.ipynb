{
 "cells": [
  {
   "cell_type": "markdown",
   "metadata": {},
   "source": [
    "# JSON parser\n",
    "- Allows users to specify an arbitrary JSON schema and query LLMs for output that conform to that schema"
   ]
  },
  {
   "cell_type": "code",
   "execution_count": 10,
   "metadata": {},
   "outputs": [
    {
     "data": {
      "text/plain": [
       "True"
      ]
     },
     "execution_count": 10,
     "metadata": {},
     "output_type": "execute_result"
    }
   ],
   "source": [
    "from langchain_core.output_parsers import JsonOutputParser\n",
    "from langchain_core.prompts import PromptTemplate, ChatPromptTemplate\n",
    "from langchain_core.pydantic_v1 import BaseModel, Field\n",
    "from langchain_openai import ChatOpenAI\n",
    "from dotenv import load_dotenv, find_dotenv\n",
    "load_dotenv(find_dotenv())"
   ]
  },
  {
   "cell_type": "code",
   "execution_count": 4,
   "metadata": {},
   "outputs": [],
   "source": [
    "llm = ChatOpenAI(model=\"gpt-4o-mini\",temperature=0)"
   ]
  },
  {
   "cell_type": "code",
   "execution_count": 5,
   "metadata": {},
   "outputs": [],
   "source": [
    "# Define a structure\n",
    "class Joke(BaseModel):\n",
    "    setup: str = Field(..., description=\"The setup of the joke\")\n",
    "    punchline: str = Field(..., description=\"The punchline of the joke\")"
   ]
  },
  {
   "cell_type": "code",
   "execution_count": 6,
   "metadata": {},
   "outputs": [
    {
     "data": {
      "text/plain": [
       "{'setup': \"Why don't scientists trust atoms?\",\n",
       " 'punchline': 'Because they make up everything!'}"
      ]
     },
     "execution_count": 6,
     "metadata": {},
     "output_type": "execute_result"
    }
   ],
   "source": [
    "joke_query = \"Tell me a joke\"\n",
    "\n",
    "#setup up a parser + inject instructions into the prompt template\n",
    "parser = JsonOutputParser(pydantic_object=Joke)\n",
    "prompt = PromptTemplate(\n",
    "    template=\"Answer the question based on the context below.\\n\\n{format_instructions}\\n\\n{question}\",\n",
    "    input_variables=[\"question\"],\n",
    "    partial_variables={\"format_instructions\": parser.get_format_instructions()},\n",
    ")\n",
    "\n",
    "chain = prompt | llm | parser\n",
    "chain.invoke({\"question\": joke_query})\n"
   ]
  },
  {
   "cell_type": "code",
   "execution_count": 23,
   "metadata": {},
   "outputs": [],
   "source": [
    "def call_json_output_parser():\n",
    "    prompt = ChatPromptTemplate.from_messages(\n",
    "        [\n",
    "            (\n",
    "                \"system\",\"You are a helpful assistant to extract information from the following phrase\\nFormatting Instructions:{formatting_instructions}\",\n",
    "            ),\n",
    "            (\"user\", \"{phrase}\"),\n",
    "        ]\n",
    "    )\n",
    "    class Person(BaseModel):\n",
    "        name: str = Field(description=\"The name of the person\")\n",
    "        age: int = Field(description=\"The age of the person\")\n",
    "       \n",
    "    parser = JsonOutputParser(pydantic_object=Person)\n",
    "    chain = prompt | llm | parser\n",
    "    resp = chain.invoke({\"phrase\": \"John is 30 years old\", \"formatting_instructions\": parser.get_format_instructions()})\n",
    "    return resp"
   ]
  },
  {
   "cell_type": "code",
   "execution_count": 24,
   "metadata": {},
   "outputs": [
    {
     "name": "stdout",
     "output_type": "stream",
     "text": [
      "{'name': 'John', 'age': 30}\n"
     ]
    }
   ],
   "source": [
    "response = call_json_output_parser()\n",
    "print(response)"
   ]
  },
  {
   "cell_type": "code",
   "execution_count": 26,
   "metadata": {},
   "outputs": [
    {
     "name": "stdout",
     "output_type": "stream",
     "text": [
      "{'food': 'Margherita pizza', 'ingredients': ['tomatoes', 'onions', 'cheese', 'bell-pepper']}\n"
     ]
    }
   ],
   "source": [
    "from typing import List\n",
    "prompt = prompt = ChatPromptTemplate.from_messages(\n",
    "        [\n",
    "            (\n",
    "                \"system\",\"You are a helpful assistant to extract information from the following phrase\\nFormatting Instructions:{formatting_instructions}\",\n",
    "            ),\n",
    "            (\"user\", \"{phrase}\"),\n",
    "        ]\n",
    "    )\n",
    "class FoodReceipes(BaseModel):\n",
    "    food:str = Field(description=\"Name of the food\")\n",
    "    ingredients:List[str] = Field(description=\"List of ingredients\")\n",
    "\n",
    "receipe_parser = JsonOutputParser(pydantic_object=FoodReceipes)\n",
    "chain = prompt | llm | receipe_parser\n",
    "response = chain.invoke({\"phrase\": \"Prepare the Margherita pizza with tomatoes, onions, cheese, bell-pepper\",\n",
    "                        \"formatting_instructions\":receipe_parser.get_format_instructions()})\n",
    "print(response)"
   ]
  },
  {
   "cell_type": "markdown",
   "metadata": {},
   "source": [
    "# Comma Separated List output Parser"
   ]
  },
  {
   "cell_type": "code",
   "execution_count": 12,
   "metadata": {},
   "outputs": [],
   "source": [
    "from langchain_core.output_parsers import CommaSeparatedListOutputParser"
   ]
  },
  {
   "cell_type": "code",
   "execution_count": 17,
   "metadata": {},
   "outputs": [
    {
     "name": "stdout",
     "output_type": "stream",
     "text": [
      "['Joyful', 'Cheerful', 'Elated', 'Content', 'Delighted', 'Pleased', 'Blissful', 'Gleeful', 'Ecstatic', 'Jubilant']\n",
      "<class 'list'>\n"
     ]
    }
   ],
   "source": [
    "def call_list_output_parser():\n",
    "    prompt = ChatPromptTemplate.from_messages([\n",
    "        (\"system\",\"Generate a list of 10 synonyms forr the following word. Ruturn the result in a comma separated list.\"),\n",
    "        (\"human\", \"{word}\")\n",
    "    ]     \n",
    "    )\n",
    "\n",
    "    parser = CommaSeparatedListOutputParser()\n",
    "    chain = prompt | llm | parser\n",
    "    res = chain.invoke({\"word\": \"Happy\"})\n",
    "    return res\n",
    "\n",
    "response = call_list_output_parser()\n",
    "print(response)\n",
    "print(type(response))"
   ]
  }
 ],
 "metadata": {
  "kernelspec": {
   "display_name": "venv",
   "language": "python",
   "name": "python3"
  },
  "language_info": {
   "codemirror_mode": {
    "name": "ipython",
    "version": 3
   },
   "file_extension": ".py",
   "mimetype": "text/x-python",
   "name": "python",
   "nbconvert_exporter": "python",
   "pygments_lexer": "ipython3",
   "version": "3.12.3"
  }
 },
 "nbformat": 4,
 "nbformat_minor": 2
}
