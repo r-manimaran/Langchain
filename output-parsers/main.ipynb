{
 "cells": [
  {
   "cell_type": "markdown",
   "metadata": {},
   "source": [
    "# JSON parser\n",
    "- Allows users to specify an arbitrary JSON schema and query LLMs for output that conform to that schema"
   ]
  },
  {
   "cell_type": "code",
   "execution_count": 10,
   "metadata": {},
   "outputs": [
    {
     "data": {
      "text/plain": [
       "True"
      ]
     },
     "execution_count": 10,
     "metadata": {},
     "output_type": "execute_result"
    }
   ],
   "source": [
    "from langchain_core.output_parsers import JsonOutputParser\n",
    "from langchain_core.prompts import PromptTemplate, ChatPromptTemplate\n",
    "from langchain_core.pydantic_v1 import BaseModel, Field\n",
    "from langchain_openai import ChatOpenAI\n",
    "from dotenv import load_dotenv, find_dotenv\n",
    "load_dotenv(find_dotenv())"
   ]
  },
  {
   "cell_type": "code",
   "execution_count": 4,
   "metadata": {},
   "outputs": [],
   "source": [
    "llm = ChatOpenAI(model=\"gpt-4o-mini\",temperature=0)"
   ]
  },
  {
   "cell_type": "code",
   "execution_count": 5,
   "metadata": {},
   "outputs": [],
   "source": [
    "# Define a structure\n",
    "class Joke(BaseModel):\n",
    "    setup: str = Field(..., description=\"The setup of the joke\")\n",
    "    punchline: str = Field(..., description=\"The punchline of the joke\")"
   ]
  },
  {
   "cell_type": "code",
   "execution_count": 6,
   "metadata": {},
   "outputs": [
    {
     "data": {
      "text/plain": [
       "{'setup': \"Why don't scientists trust atoms?\",\n",
       " 'punchline': 'Because they make up everything!'}"
      ]
     },
     "execution_count": 6,
     "metadata": {},
     "output_type": "execute_result"
    }
   ],
   "source": [
    "joke_query = \"Tell me a joke\"\n",
    "\n",
    "#setup up a parser + inject instructions into the prompt template\n",
    "parser = JsonOutputParser(pydantic_object=Joke)\n",
    "prompt = PromptTemplate(\n",
    "    template=\"Answer the question based on the context below.\\n\\n{format_instructions}\\n\\n{question}\",\n",
    "    input_variables=[\"question\"],\n",
    "    partial_variables={\"format_instructions\": parser.get_format_instructions()},\n",
    ")\n",
    "\n",
    "chain = prompt | llm | parser\n",
    "chain.invoke({\"question\": joke_query})\n"
   ]
  },
  {
   "cell_type": "code",
   "execution_count": 23,
   "metadata": {},
   "outputs": [],
   "source": [
    "def call_json_output_parser():\n",
    "    prompt = ChatPromptTemplate.from_messages(\n",
    "        [\n",
    "            (\n",
    "                \"system\",\"You are a helpful assistant to extract information from the following phrase\\nFormatting Instructions:{formatting_instructions}\",\n",
    "            ),\n",
    "            (\"user\", \"{phrase}\"),\n",
    "        ]\n",
    "    )\n",
    "    class Person(BaseModel):\n",
    "        name: str = Field(description=\"The name of the person\")\n",
    "        age: int = Field(description=\"The age of the person\")\n",
    "       \n",
    "    parser = JsonOutputParser(pydantic_object=Person)\n",
    "    chain = prompt | llm | parser\n",
    "    resp = chain.invoke({\"phrase\": \"John is 30 years old\", \"formatting_instructions\": parser.get_format_instructions()})\n",
    "    return resp"
   ]
  },
  {
   "cell_type": "code",
   "execution_count": 24,
   "metadata": {},
   "outputs": [
    {
     "name": "stdout",
     "output_type": "stream",
     "text": [
      "{'name': 'John', 'age': 30}\n"
     ]
    }
   ],
   "source": [
    "response = call_json_output_parser()\n",
    "print(response)"
   ]
  },
  {
   "cell_type": "code",
   "execution_count": 26,
   "metadata": {},
   "outputs": [
    {
     "name": "stdout",
     "output_type": "stream",
     "text": [
      "{'food': 'Margherita pizza', 'ingredients': ['tomatoes', 'onions', 'cheese', 'bell-pepper']}\n"
     ]
    }
   ],
   "source": [
    "from typing import List\n",
    "prompt = prompt = ChatPromptTemplate.from_messages(\n",
    "        [\n",
    "            (\n",
    "                \"system\",\"You are a helpful assistant to extract information from the following phrase\\nFormatting Instructions:{formatting_instructions}\",\n",
    "            ),\n",
    "            (\"user\", \"{phrase}\"),\n",
    "        ]\n",
    "    )\n",
    "class FoodReceipes(BaseModel):\n",
    "    food:str = Field(description=\"Name of the food\")\n",
    "    ingredients:List[str] = Field(description=\"List of ingredients\")\n",
    "\n",
    "receipe_parser = JsonOutputParser(pydantic_object=FoodReceipes)\n",
    "chain = prompt | llm | receipe_parser\n",
    "response = chain.invoke({\"phrase\": \"Prepare the Margherita pizza with tomatoes, onions, cheese, bell-pepper\",\n",
    "                        \"formatting_instructions\":receipe_parser.get_format_instructions()})\n",
    "print(response)"
   ]
  },
  {
   "cell_type": "code",
   "execution_count": 1,
   "metadata": {},
   "outputs": [
    {
     "data": {
      "text/plain": [
       "{'gift': False, 'delivery_days': 5, 'price_value': 'pretty expensive'}"
      ]
     },
     "execution_count": 1,
     "metadata": {},
     "output_type": "execute_result"
    }
   ],
   "source": [
    "{\n",
    "    \"gift\":False,\n",
    "    \"delivery_days\":5,\n",
    "    \"price_value\":\"pretty expensive\"\n",
    "}"
   ]
  },
  {
   "cell_type": "code",
   "execution_count": 2,
   "metadata": {},
   "outputs": [],
   "source": [
    "customer_review =\"\"\" \n",
    "    This leaf blower is pretty amazing. It has a nice flow of air and the right amount of power. \n",
    "    The only complaint is that the blower takes a long time to start and I find myself waiting 5 minutes. It arrived in\n",
    "    two days, just in time for my wife's anniversary present. I think this would make a good present for her. Its slightly expensive than the \n",
    "    other leaf blowers and its worth for the extra features it have\n",
    "\"\"\"\n",
    "review_template =\"\"\" \n",
    "For the following text, extract the following information.\n",
    "gift : was the item purchased as a gift for someone else? Answer True if yes, False if no.\n",
    "delivery_days : how many days did it take for the product to arrive? Only count Business days.\n",
    "price_value : Extract any sentences about the value of the product.\n",
    "\n",
    "Format the output as JSON with the following keys.\n",
    "gift\n",
    "delivery_days\n",
    "price_value\n",
    "\n",
    "text: {text}\n",
    "\"\"\"\n"
   ]
  },
  {
   "cell_type": "code",
   "execution_count": 3,
   "metadata": {},
   "outputs": [
    {
     "name": "stdout",
     "output_type": "stream",
     "text": [
      "input_variables=['text'] messages=[HumanMessagePromptTemplate(prompt=PromptTemplate(input_variables=['text'], template=' \\nFor the following text, extract the following information.\\ngift : was the item purchased as a gift for someone else? Answer True if yes, False if no.\\ndelivery_days : how many days did it take for the product to arrive? Only count Business days.\\nprice_value : Extract any sentences about the value of the product.\\n\\nFormat the output as JSON with the following keys.\\ngift\\ndelivery_days\\nprice_value\\n\\ntext: {text}\\n'))]\n"
     ]
    }
   ],
   "source": [
    "from langchain.prompts import ChatPromptTemplate\n",
    "prompt_template = ChatPromptTemplate.from_template(review_template)\n",
    "print(prompt_template)"
   ]
  },
  {
   "cell_type": "code",
   "execution_count": 5,
   "metadata": {},
   "outputs": [
    {
     "name": "stdout",
     "output_type": "stream",
     "text": [
      "{\n",
      "  \"gift\": true,\n",
      "  \"delivery_days\": 2,\n",
      "  \"price_value\": \"Its slightly expensive than the other leaf blowers and its worth for the extra features it have\"\n",
      "}\n"
     ]
    }
   ],
   "source": [
    "from langchain_openai import ChatOpenAI\n",
    "messages =prompt_template.format_messages(text =customer_review)\n",
    "chat = ChatOpenAI(temperature=0.0, model=\"gpt-3.5-turbo-1106\")\n",
    "response = chat(messages)\n",
    "print(response.content)"
   ]
  },
  {
   "cell_type": "code",
   "execution_count": 6,
   "metadata": {},
   "outputs": [
    {
     "data": {
      "text/plain": [
       "str"
      ]
     },
     "execution_count": 6,
     "metadata": {},
     "output_type": "execute_result"
    }
   ],
   "source": [
    "type(response.content)"
   ]
  },
  {
   "cell_type": "markdown",
   "metadata": {},
   "source": [
    "# Parse LLM output string into a Python dictionary\n"
   ]
  },
  {
   "cell_type": "code",
   "execution_count": 7,
   "metadata": {},
   "outputs": [],
   "source": [
    "from langchain.output_parsers import ResponseSchema\n",
    "from langchain.output_parsers import StructuredOutputParser"
   ]
  },
  {
   "cell_type": "code",
   "execution_count": 18,
   "metadata": {},
   "outputs": [],
   "source": [
    "gift_schema = ResponseSchema(name=\"gift\",\n",
    "                             description=\"was the item purchased as a gift for someone else? Answer True if yes, False if not known\",\n",
    "                             )\n",
    "delivery_date_schema = ResponseSchema(name=\"delivery_days\",\n",
    "                                      description=\"How many days did it take for the product to get deliverd. If this is not found output -1\",\n",
    "                                      )\n",
    "price_value_schema = ResponseSchema(name=\"price_value\",\n",
    "                                    description=\"Extract any information about the price or value and output them as comma separated python list\",\n",
    "                                    )\n",
    "response_schemas = [gift_schema,\n",
    "                  delivery_date_schema,\n",
    "                  price_value_schema]"
   ]
  },
  {
   "cell_type": "code",
   "execution_count": 19,
   "metadata": {},
   "outputs": [],
   "source": [
    "output_parser = StructuredOutputParser.from_response_schemas(response_schemas)"
   ]
  },
  {
   "cell_type": "code",
   "execution_count": 20,
   "metadata": {},
   "outputs": [
    {
     "data": {
      "text/plain": [
       "'The output should be a markdown code snippet formatted in the following schema, including the leading and trailing \"```json\" and \"```\":\\n\\n```json\\n{\\n\\t\"gift\": string  // was the item purchased as a gift for someone else? Answer True if yes, False if not known\\n\\t\"delivery_days\": string  // How many days did it take for the product to get deliverd. If this is not found output -1\\n\\t\"price_value\": string  // Extract any information about the price or value and output them as comma separated python list\\n}\\n```'"
      ]
     },
     "execution_count": 20,
     "metadata": {},
     "output_type": "execute_result"
    }
   ],
   "source": [
    "format_instructions = output_parser.get_format_instructions()\n",
    "format_instructions\n"
   ]
  },
  {
   "cell_type": "code",
   "execution_count": 21,
   "metadata": {},
   "outputs": [],
   "source": [
    "review_template2 = \"\"\" \n",
    "For the following text extract the following information.\n",
    "gift: Was the item purchased as a gift for someone else? Answer with \"yes\" or \"no\".\n",
    "\n",
    "delivery_days: How many days did it take for the product to arrive? If this information is not found, write \"unknown\".\n",
    "\n",
    "price_value: Extract the price of the product from the text. If the price is not found, write \"unknown\".\n",
    "\n",
    "Return your response in the following format:\n",
    "\n",
    "text: {text}\n",
    "{format_instructions}\n",
    "\"\"\"\n",
    "\n",
    "prompt = ChatPromptTemplate.from_template(review_template2)"
   ]
  },
  {
   "cell_type": "code",
   "execution_count": 22,
   "metadata": {},
   "outputs": [
    {
     "name": "stdout",
     "output_type": "stream",
     "text": [
      " \n",
      "For the following text extract the following information.\n",
      "gift: Was the item purchased as a gift for someone else? Answer with \"yes\" or \"no\".\n",
      "\n",
      "delivery_days: How many days did it take for the product to arrive? If this information is not found, write \"unknown\".\n",
      "\n",
      "price_value: Extract the price of the product from the text. If the price is not found, write \"unknown\".\n",
      "\n",
      "Return your response in the following format:\n",
      "\n",
      "text:  \n",
      "    This leaf blower is pretty amazing. It has a nice flow of air and the right amount of power. \n",
      "    The only complaint is that the blower takes a long time to start and I find myself waiting 5 minutes. It arrived in\n",
      "    two days, just in time for my wife's anniversary present. I think this would make a good present for her. Its slightly expensive than the \n",
      "    other leaf blowers and its worth for the extra features it have\n",
      "\n",
      "The output should be a markdown code snippet formatted in the following schema, including the leading and trailing \"```json\" and \"```\":\n",
      "\n",
      "```json\n",
      "{\n",
      "\t\"gift\": string  // was the item purchased as a gift for someone else? Answer True if yes, False if not known\n",
      "\t\"delivery_days\": string  // How many days did it take for the product to get deliverd. If this is not found output -1\n",
      "\t\"price_value\": string  // Extract any information about the price or value and output them as comma separated python list\n",
      "}\n",
      "```\n",
      "\n"
     ]
    }
   ],
   "source": [
    "messages = prompt.format_messages(text=customer_review, format_instructions = format_instructions)\n",
    "print(messages[0].content)"
   ]
  },
  {
   "cell_type": "code",
   "execution_count": 23,
   "metadata": {},
   "outputs": [
    {
     "name": "stdout",
     "output_type": "stream",
     "text": [
      "```json\n",
      "{\n",
      "\t\"gift\": \"yes\",\n",
      "\t\"delivery_days\": \"2\",\n",
      "\t\"price_value\": \"unknown\"\n",
      "}\n",
      "```\n"
     ]
    }
   ],
   "source": [
    "response = chat(messages)\n",
    "print(response.content)"
   ]
  },
  {
   "cell_type": "code",
   "execution_count": 28,
   "metadata": {},
   "outputs": [
    {
     "data": {
      "text/plain": [
       "{'gift': 'yes', 'delivery_days': '2', 'price_value': 'unknown'}"
      ]
     },
     "execution_count": 28,
     "metadata": {},
     "output_type": "execute_result"
    }
   ],
   "source": [
    "output_dict = output_parser.parse(response.content)\n",
    "output_dict"
   ]
  },
  {
   "cell_type": "code",
   "execution_count": 26,
   "metadata": {},
   "outputs": [
    {
     "data": {
      "text/plain": [
       "dict"
      ]
     },
     "execution_count": 26,
     "metadata": {},
     "output_type": "execute_result"
    }
   ],
   "source": [
    "type(output_dict)"
   ]
  },
  {
   "cell_type": "code",
   "execution_count": 30,
   "metadata": {},
   "outputs": [
    {
     "data": {
      "text/plain": [
       "'2'"
      ]
     },
     "execution_count": 30,
     "metadata": {},
     "output_type": "execute_result"
    }
   ],
   "source": [
    "output_dict.get('delivery_days')"
   ]
  },
  {
   "cell_type": "code",
   "execution_count": null,
   "metadata": {},
   "outputs": [],
   "source": [
    "# Example 4\n",
    "from typing import List\n",
    "from langchain_core.prompts import ChatPromptTemplate, PromptTemplate, FewShotPromptTemplate\n",
    "from langchain_openai import ChatOpenAI\n",
    "from langchain_core.output_parsers import StrOutputParser\n",
    "from dotenv import load_dotenv\n",
    "load_dotenv()"
   ]
  },
  {
   "cell_type": "markdown",
   "metadata": {},
   "source": [
    "# Comma Separated List output Parser"
   ]
  },
  {
   "cell_type": "code",
   "execution_count": 12,
   "metadata": {},
   "outputs": [],
   "source": [
    "from langchain_core.output_parsers import CommaSeparatedListOutputParser"
   ]
  },
  {
   "cell_type": "code",
   "execution_count": 17,
   "metadata": {},
   "outputs": [
    {
     "name": "stdout",
     "output_type": "stream",
     "text": [
      "['Joyful', 'Cheerful', 'Elated', 'Content', 'Delighted', 'Pleased', 'Blissful', 'Gleeful', 'Ecstatic', 'Jubilant']\n",
      "<class 'list'>\n"
     ]
    }
   ],
   "source": [
    "def call_list_output_parser():\n",
    "    prompt = ChatPromptTemplate.from_messages([\n",
    "        (\"system\",\"Generate a list of 10 synonyms forr the following word. Ruturn the result in a comma separated list.\"),\n",
    "        (\"human\", \"{word}\")\n",
    "    ]     \n",
    "    )\n",
    "\n",
    "    parser = CommaSeparatedListOutputParser()\n",
    "    chain = prompt | llm | parser\n",
    "    res = chain.invoke({\"word\": \"Happy\"})\n",
    "    return res\n",
    "\n",
    "response = call_list_output_parser()\n",
    "print(response)\n",
    "print(type(response))"
   ]
  }
 ],
 "metadata": {
  "kernelspec": {
   "display_name": "venv",
   "language": "python",
   "name": "python3"
  },
  "language_info": {
   "codemirror_mode": {
    "name": "ipython",
    "version": 3
   },
   "file_extension": ".py",
   "mimetype": "text/x-python",
   "name": "python",
   "nbconvert_exporter": "python",
   "pygments_lexer": "ipython3",
   "version": "3.12.3"
  }
 },
 "nbformat": 4,
 "nbformat_minor": 2
}
