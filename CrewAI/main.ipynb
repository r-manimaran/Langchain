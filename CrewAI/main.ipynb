{
 "cells": [
  {
   "cell_type": "code",
   "execution_count": 4,
   "metadata": {},
   "outputs": [
    {
     "data": {
      "text/plain": [
       "True"
      ]
     },
     "execution_count": 4,
     "metadata": {},
     "output_type": "execute_result"
    }
   ],
   "source": [
    "import os\n",
    "from crewai import Agent, Task, Crew, Process\n",
    "from langchain_openai import ChatOpenAI\n",
    "from langchain_community.tools import DuckDuckGoSearchRun\n",
    "from dotenv import load_dotenv\n",
    "load_dotenv()"
   ]
  },
  {
   "cell_type": "code",
   "execution_count": 5,
   "metadata": {},
   "outputs": [],
   "source": [
    "search_tool = DuckDuckGoSearchRun()\n",
    "llm = ChatOpenAI(model_name=\"gpt-3.5-turbo\", temperature=0)\n"
   ]
  },
  {
   "cell_type": "code",
   "execution_count": 6,
   "metadata": {},
   "outputs": [],
   "source": [
    "ai_market_researcher = Agent(\n",
    "    role='AI Market Researcher',\n",
    "    goal='Suggest AI technologies to the CTO',\n",
    "    backstory='Expert in analyzing market trends and technology stack to recommend AI solutions',\n",
    "    tools=[search_tool],\n",
    "    allow_delegation=False,\n",
    "    verbose=True,\n",
    "    llm =llm\n",
    ")\n",
    "brand_manager = Agent(\n",
    "    role='Brand Manager',\n",
    "    goal='Create a brand image for the AI company',\n",
    "    backstory='Expert in creating a brand image for the AI company',\n",
    "    tools=[search_tool],\n",
    "    allow_delegation=False,\n",
    "    verbose=True,\n",
    "    llm =llm\n",
    ")\n",
    "\n",
    "marketing_manager = Agent(\n",
    "    role='Marketing Manager',\n",
    "    goal='Create marketing strategies for the AI company',\n",
    "    backstory='Expert in creating marketing strategies for the AI company',\n",
    "    tools=[search_tool],\n",
    "    allow_delegation=False,\n",
    "    verbose=True,\n",
    "    llm =llm\n",
    ")"
   ]
  },
  {
   "cell_type": "code",
   "execution_count": 10,
   "metadata": {},
   "outputs": [],
   "source": [
    "task1 = Task(\n",
    "    description =\"\"\"Conduct a comprehensive search for the latest trends in AI technology and market demands\n",
    "    Identify potential niches and oppurtunities for a new AI product\"\"\",\n",
    "    expected_output = \"\"\"A detailed report on the latest trends in AI technology and market demands, including potential niches and oppurtunities for a new AI product.\"\"\",    \n",
    "    agent = ai_market_researcher\n",
    ")\n",
    "task2 = Task(\n",
    "    description =\"\"\"Based on insights from the AI market research, create a unique and appealing brand name for the new AI product,\n",
    "    \"\"\",\n",
    "    expected_output = \"\"\"A unique and appealing brand name for the new AI product.\"\"\",\n",
    "    agent = brand_manager\n",
    ")\n",
    "task3 = Task(\n",
    "    description =\"\"\"Develop a compelling product description and marketing strategy for the new AI product,\n",
    "    \"\"\",\n",
    "    expected_output = \"\"\"A compelling product description and marketing strategy for the new AI product.\"\"\",\n",
    "    agent = marketing_manager\n",
    ")\n",
    "    \n"
   ]
  },
  {
   "cell_type": "code",
   "execution_count": 16,
   "metadata": {},
   "outputs": [
    {
     "name": "stderr",
     "output_type": "stream",
     "text": [
      "2024-10-27 10:38:58,989 - 13156 - __init__.py-__init__:538 - WARNING: Overriding of current TracerProvider is not allowed\n"
     ]
    }
   ],
   "source": [
    "from crewai.process import Process\n",
    "crew = Crew(\n",
    "    agents = [ai_market_researcher, brand_manager, marketing_manager],\n",
    "    tasks = [task1, task2,task3],\n",
    "    verbose = True,\n",
    "    process = Process.sequential\n",
    ")"
   ]
  },
  {
   "cell_type": "code",
   "execution_count": 17,
   "metadata": {},
   "outputs": [
    {
     "data": {
      "text/plain": [
       "Crew(id=b2fd9c2e-912c-44e9-831b-4f3839b76d2d, process=Process.sequential, number_of_agents=3, number_of_tasks=3)"
      ]
     },
     "execution_count": 17,
     "metadata": {},
     "output_type": "execute_result"
    }
   ],
   "source": [
    "crew"
   ]
  }
 ],
 "metadata": {
  "kernelspec": {
   "display_name": "venv",
   "language": "python",
   "name": "python3"
  },
  "language_info": {
   "codemirror_mode": {
    "name": "ipython",
    "version": 3
   },
   "file_extension": ".py",
   "mimetype": "text/x-python",
   "name": "python",
   "nbconvert_exporter": "python",
   "pygments_lexer": "ipython3",
   "version": "3.12.3"
  }
 },
 "nbformat": 4,
 "nbformat_minor": 2
}
