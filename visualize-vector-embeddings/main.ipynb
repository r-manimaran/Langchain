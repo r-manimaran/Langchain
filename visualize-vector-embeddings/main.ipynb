{
 "cells": [
  {
   "cell_type": "code",
   "execution_count": 3,
   "metadata": {},
   "outputs": [],
   "source": [
    "# List the inbuilt tools in langchain\n",
    "# from langchain.tools import __all__ as public_api\n",
    "# print('\\n'.join(public_api)+'\\n..')"
   ]
  },
  {
   "cell_type": "code",
   "execution_count": 2,
   "metadata": {},
   "outputs": [
    {
     "data": {
      "text/plain": [
       "True"
      ]
     },
     "execution_count": 2,
     "metadata": {},
     "output_type": "execute_result"
    }
   ],
   "source": [
    "#imports\n",
    "from langchain_openai import OpenAI, OpenAIEmbeddings\n",
    "from langchain.text_splitter import RecursiveCharacterTextSplitter\n",
    "from langchain_community.vectorstores import Chroma\n",
    "from langchain_community.document_loaders import DirectoryLoader,TextLoader\n",
    "from dotenv import load_dotenv, find_dotenv\n",
    "load_dotenv(find_dotenv())"
   ]
  },
  {
   "cell_type": "code",
   "execution_count": 3,
   "metadata": {},
   "outputs": [],
   "source": [
    "loader = DirectoryLoader('./data',glob='./*.txt',loader_cls=TextLoader)\n",
    "docs = loader.load()"
   ]
  },
  {
   "cell_type": "code",
   "execution_count": 4,
   "metadata": {},
   "outputs": [
    {
     "data": {
      "text/plain": [
       "[Document(metadata={'source': 'data\\\\data1.txt'}, page_content=\"Elmwood Banking & Trust has firmly established itself as a beacon of financial reliability and personalized service in its community. With a deep understanding of its customers' needs, Elmwood offers a plethora of financial products and services, ensuring every individual's and business's financial goals are met with precision and care.\\nThe bank's personal loan offerings are diverse, providing financial solutions for various life events. From home renovations to unexpected expenses, Elmwood's personal loans are structured with flexibility and competitive interest rates, making them accessible to a broad range of customers. For businesses, the bank offers commercial loans that are essential for growth and expansion. These loans are tailored to each business's unique needs, whether it's for upgrading equipment, expanding operations, or increasing working capital.\\nElmwood's wealth management services are a cornerstone of its offerings. The bank's financial advisors are skilled in crafting investment strategies that align with clients' long-term financial objectives. They offer guidance in portfolio management, retirement planning, and estate planning, ensuring clients' financial futures are secure.\\nFor those looking to buy or refinance a home, Elmwood's mortgage options are comprehensive. The bank's mortgage experts work closely with clients to find the best mortgage solutions, whether it's a fixed-rate, adjustable-rate, or a more specialized mortgage product. Their goal is to make the process of home financing as seamless and straightforward as possible, providing support and advice at every step.\\nElmwood Banking & Trust also places a high value on financial education. The bank regularly hosts workshops and seminars on various financial topics, from basic budgeting and savings strategies to more complex investment and tax planning concepts. These educational initiatives are part of Elmwood's commitment to empowering its customers with the knowledge to make informed financial decisions.\\nIn addition to its financial services, Elmwood is deeply ingrained in the community. The bank supports local charities, sponsors community events, and encourages its employees to volunteer, reflecting its commitment to making a positive impact in the community it serves. This community-centric approach is what truly distinguishes Elmwood Banking & Trust as more than just a financial institution, but a pillar of support and growth in its community.\"),\n",
       " Document(metadata={'source': 'data\\\\data2.txt'}, page_content=\"La Bella Vita offers a gastronomic journey through the rich landscapes of Italian cuisine, encapsulating the essence of Italy's culinary tradition. The restaurant's ambiance, reminiscent of a rustic Italian villa, sets the stage for an authentic dining experience.\\nThe chefs at La Bella Vita are masters of their craft, bringing generations of Italian cooking expertise to the table. The menu features a variety of regional specialties, showcasing the diversity of Italian cuisine. From the northern delicacies like risotto and polenta to the southern favorites like Neapolitan pizza and Sicilian seafood, each dish tells a story of its regional origin.\\nThe pasta selection is a highlight of the menu, featuring classics like lasagna, ravioli, and gnocchi, each prepared with homemade pasta and cooked to perfection. The sauces, ranging from rich and creamy to light and zesty, are made with the freshest ingredients, bringing out the authentic flavors of Italy.\\nThe meat and fish dishes are equally impressive, with offerings like osso buco, saltimbocca, and grilled branzino. These dishes are cooked with traditional methods, ensuring every bite is infused with the depth and richness of Italian culinary tradition.\\nLa Bella Vita also prides itself on its vegetarian and vegan options, catering to all dietary preferences. Dishes like eggplant parmigiana and mushroom risotto are crafted with the same attention to detail and flavor as their meat-based counterparts.\\nThe wine list at La Bella Vita is a carefully curated selection of Italian wines, ranging from well-known labels to hidden gems from small vineyards across Italy. The staff are knowledgeable and can recommend the perfect wine to complement each dish, enhancing the overall dining experience.\\nDesserts at La Bella Vita are a must-try, with a range of traditional Italian sweets. The cannoli, filled with sweet, creamy ricotta, and the affogato, a delightful blend of espresso and gelato, are perfect endings to an exquisite meal.\\nLa Bella Vita also offers a unique dining experience with its private dining rooms and catering services. Whether it's for a special occasion, a business meeting, or a family gathering, the restaurant provides a personalized service that makes every event memorable.\\nThe staff at La Bella Vita are the heart of the restaurant. Their passion for Italian cuisine and culture is evident in their attentive service and willingness to go above and beyond to ensure every guest has an enjoyable dining experience.\\nIn essence, La Bella Vita is not just a restaurant; it's a destination for those who appreciate the art of Italian cuisine. It's a place where food, culture, and passion come together, creating an unforgettable dining experience that keeps guests coming back for more.\")]"
      ]
     },
     "execution_count": 4,
     "metadata": {},
     "output_type": "execute_result"
    }
   ],
   "source": [
    "docs"
   ]
  },
  {
   "cell_type": "code",
   "execution_count": 5,
   "metadata": {},
   "outputs": [
    {
     "data": {
      "text/plain": [
       "'Elmwood Banking & Trust has firmly established itself as a beacon of financial reliability and'"
      ]
     },
     "execution_count": 5,
     "metadata": {},
     "output_type": "execute_result"
    }
   ],
   "source": [
    "text_splitter = RecursiveCharacterTextSplitter(\n",
    "    chunk_size=100,\n",
    "    chunk_overlap = 20,\n",
    "    length_function = len)\n",
    "new_docs = text_splitter.split_documents(docs)\n",
    "doc_strings = [doc.page_content for doc in new_docs]\n",
    "doc_strings[0]"
   ]
  },
  {
   "cell_type": "code",
   "execution_count": 7,
   "metadata": {},
   "outputs": [],
   "source": [
    "embeddings = OpenAIEmbeddings(model =\"text-embedding-3-small\")\n",
    "vectors = embeddings.embed_documents(doc_strings)\n"
   ]
  },
  {
   "cell_type": "code",
   "execution_count": 8,
   "metadata": {},
   "outputs": [],
   "source": [
    "db = Chroma.from_documents(new_docs,embeddings)\n",
    "retriever = db.as_retriever(search_kwargs={\"k\": 6})"
   ]
  },
  {
   "cell_type": "markdown",
   "metadata": {},
   "source": [
    "# Now Plot the graph"
   ]
  },
  {
   "cell_type": "code",
   "execution_count": 9,
   "metadata": {},
   "outputs": [
    {
     "name": "stderr",
     "output_type": "stream",
     "text": [
      "c:\\Maran\\StudyMaterials\\Git\\LangChain\\visualize-vector-embeddings\\venv\\Lib\\site-packages\\tqdm\\auto.py:21: TqdmWarning: IProgress not found. Please update jupyter and ipywidgets. See https://ipywidgets.readthedocs.io/en/stable/user_install.html\n",
      "  from .autonotebook import tqdm as notebook_tqdm\n",
      "c:\\Maran\\StudyMaterials\\Git\\LangChain\\visualize-vector-embeddings\\venv\\Lib\\site-packages\\umap\\umap_.py:1945: UserWarning: n_jobs value 1 overridden to 1 by setting random_state. Use no seed for parallelism.\n",
      "  warn(f\"n_jobs value {self.n_jobs} overridden to 1 by setting random_state. Use no seed for parallelism.\")\n"
     ]
    }
   ],
   "source": [
    "import umap\n",
    "import numpy as np\n",
    "from tqdm import tqdm\n",
    "umap_transformer = umap.UMAP(random_state=0, transform_seed=0).fit(vectors)"
   ]
  },
  {
   "cell_type": "code",
   "execution_count": 10,
   "metadata": {},
   "outputs": [],
   "source": [
    "def umap_embed(vectors, umap_transformer):\n",
    "    umap_embeddings = np.array([umap_transformer.transform([vector])[0] for vector in tqdm(vectors)])\n",
    "    return umap_embeddings"
   ]
  },
  {
   "cell_type": "code",
   "execution_count": 11,
   "metadata": {},
   "outputs": [
    {
     "name": "stderr",
     "output_type": "stream",
     "text": [
      "100%|██████████| 71/71 [02:18<00:00,  1.95s/it]\n"
     ]
    },
    {
     "data": {
      "text/plain": [
       "array([[ 0.03561601,  4.3148966 ],\n",
       "       [ 1.9351473 ,  3.8727772 ],\n",
       "       [-0.5024663 ,  3.675402  ],\n",
       "       [ 2.1346326 ,  2.0680118 ],\n",
       "       [ 3.2963758 ,  2.6809845 ],\n",
       "       [-0.6927646 ,  2.8960183 ],\n",
       "       [-0.590501  ,  3.1890872 ],\n",
       "       [-0.09375558,  1.544261  ],\n",
       "       [-0.12302293,  1.5296376 ],\n",
       "       [-0.9537554 ,  2.6065402 ],\n",
       "       [-0.36311713,  1.604318  ],\n",
       "       [-0.49080923,  1.5653664 ],\n",
       "       [-0.37398258,  3.9868345 ],\n",
       "       [ 1.9132667 ,  1.625374  ],\n",
       "       [ 2.0245852 ,  1.8925648 ],\n",
       "       [ 1.9009964 ,  1.6476425 ],\n",
       "       [ 0.6820559 ,  1.3284668 ],\n",
       "       [-0.54997194,  3.307988  ],\n",
       "       [ 0.41597652,  1.3675619 ],\n",
       "       [ 0.19612116,  1.4402466 ],\n",
       "       [-0.06571633,  1.551452  ],\n",
       "       [ 0.44004226,  1.3649704 ],\n",
       "       [ 2.3852198 ,  2.3056457 ],\n",
       "       [-0.34262854,  4.0158854 ],\n",
       "       [ 1.5703977 ,  1.3150343 ],\n",
       "       [-0.84522974,  2.973271  ],\n",
       "       [ 0.3196297 ,  4.429661  ],\n",
       "       [-0.5391029 ,  3.8585577 ],\n",
       "       [-0.13218243,  4.222604  ],\n",
       "       [ 0.5712192 ,  4.543185  ],\n",
       "       [ 1.8852955 ,  4.166136  ],\n",
       "       [ 1.9070318 ,  4.215774  ],\n",
       "       [-0.21194549,  4.1510034 ],\n",
       "       [ 0.8041978 ,  4.6439686 ],\n",
       "       [ 7.4051614 ,  5.209029  ],\n",
       "       [ 7.602267  ,  4.219064  ],\n",
       "       [ 5.090606  ,  3.0275054 ],\n",
       "       [ 5.0813756 ,  5.0642204 ],\n",
       "       [ 6.3258724 ,  5.867867  ],\n",
       "       [ 7.404621  ,  3.4647722 ],\n",
       "       [ 7.324552  ,  3.3483782 ],\n",
       "       [ 7.2208376 ,  3.1419141 ],\n",
       "       [ 5.2838497 ,  2.9720097 ],\n",
       "       [ 7.3008065 ,  3.2647347 ],\n",
       "       [ 7.108959  ,  2.9801025 ],\n",
       "       [ 5.855896  ,  2.5900204 ],\n",
       "       [ 5.6228566 ,  5.293709  ],\n",
       "       [ 6.992114  ,  2.797574  ],\n",
       "       [ 5.9665456 ,  2.5181322 ],\n",
       "       [ 5.132274  ,  3.0643468 ],\n",
       "       [ 7.3877506 ,  5.434712  ],\n",
       "       [ 6.709791  ,  2.5626774 ],\n",
       "       [ 5.420695  ,  2.7541153 ],\n",
       "       [ 7.402342  ,  5.1858506 ],\n",
       "       [ 7.3779283 ,  4.773476  ],\n",
       "       [ 7.4144435 ,  4.8054266 ],\n",
       "       [ 4.847865  ,  3.170214  ],\n",
       "       [ 7.4673033 ,  4.742544  ],\n",
       "       [ 7.482588  ,  3.6944807 ],\n",
       "       [ 7.5544806 ,  4.191364  ],\n",
       "       [ 6.709433  ,  5.951813  ],\n",
       "       [ 4.266174  ,  5.0410066 ],\n",
       "       [ 4.2937984 ,  5.056742  ],\n",
       "       [ 3.549798  ,  3.9585116 ],\n",
       "       [ 6.1249638 ,  5.7699327 ],\n",
       "       [ 7.644483  ,  4.027281  ],\n",
       "       [ 4.211295  ,  3.3817852 ],\n",
       "       [ 6.307122  ,  5.881371  ],\n",
       "       [ 5.0356593 ,  2.9806337 ],\n",
       "       [ 4.9084225 ,  5.0274944 ],\n",
       "       [ 4.031668  ,  4.862501  ]], dtype=float32)"
      ]
     },
     "execution_count": 11,
     "metadata": {},
     "output_type": "execute_result"
    }
   ],
   "source": [
    "global_embeddings = umap_embed(vectors, umap_transformer)\n",
    "global_embeddings\n"
   ]
  },
  {
   "cell_type": "code",
   "execution_count": 12,
   "metadata": {},
   "outputs": [
    {
     "data": {
      "text/plain": [
       "(-1.3836673021316528, 8.074395012855529, 1.0831953227519988, 6.183652168512344)"
      ]
     },
     "execution_count": 12,
     "metadata": {},
     "output_type": "execute_result"
    },
    {
     "data": {
      "image/png": "[encoded data removed]",
      "text/plain": [
       "<Figure size 640x480 with 1 Axes>"
      ]
     },
     "metadata": {},
     "output_type": "display_data"
    }
   ],
   "source": [
    "import matplotlib.pyplot as plt\n",
    "\n",
    "plt.figure()\n",
    "plt.scatter(global_embeddings[:, 0], global_embeddings[:, 1], s=10)\n",
    "plt.gca().set_aspect('equal', 'datalim')\n",
    "plt.title('Embeddings')\n",
    "plt.axis('off')"
   ]
  },
  {
   "cell_type": "code",
   "execution_count": 13,
   "metadata": {},
   "outputs": [],
   "source": [
    "def calc_global_embeddings(query, embeddings, retriever, umap_transformer, embed_function, global_embeddings):\n",
    "    q_embedding = embeddings.embed_query(query)\n",
    "\n",
    "    docs = retriever.get_relevant_documents(query)\n",
    "    page_contents = [doc.page_content for doc in docs]\n",
    "    vectors_content_vectors = embeddings.embed_documents(page_contents)\n",
    "\n",
    "    query_embeddings = embed_function([q_embedding], umap_transformer)\n",
    "    retrieved_embeddings = embed_function(vectors_content_vectors, umap_transformer)\n",
    "\n",
    "    plt.figure()\n",
    "    plt.scatter(global_embeddings[:, 0], global_embeddings[:, 1], s=10, color='gray')\n",
    "    plt.scatter(query_embeddings[:, 0], query_embeddings[:, 1], s=150, marker='X', color='r')\n",
    "    plt.scatter(retrieved_embeddings[:, 0], retrieved_embeddings[:, 1], s=50, facecolors='none', edgecolors='g')\n",
    "    plt.gca().set_aspect('equal', 'datalim')\n",
    "    plt.title(f'{query}')\n",
    "    plt.axis('off')\n",
    "    plt.show()"
   ]
  },
  {
   "cell_type": "code",
   "execution_count": 14,
   "metadata": {},
   "outputs": [
    {
     "name": "stderr",
     "output_type": "stream",
     "text": [
      "c:\\Maran\\StudyMaterials\\Git\\LangChain\\visualize-vector-embeddings\\venv\\Lib\\site-packages\\langchain_core\\_api\\deprecation.py:139: LangChainDeprecationWarning: The method `BaseRetriever.get_relevant_documents` was deprecated in langchain-core 0.1.46 and will be removed in 0.3.0. Use invoke instead.\n",
      "  warn_deprecated(\n",
      "100%|██████████| 1/1 [00:02<00:00,  2.60s/it]\n",
      "100%|██████████| 6/6 [00:11<00:00,  1.95s/it]\n"
     ]
    },
    {
     "data": {
      "image/png": "[encoded data removed]",
      "text/plain": [
       "<Figure size 640x480 with 1 Axes>"
      ]
     },
     "metadata": {},
     "output_type": "display_data"
    }
   ],
   "source": [
    "calc_global_embeddings(\"What loan do you offer?\", embeddings, retriever, umap_transformer, umap_embed, global_embeddings)"
   ]
  },
  {
   "cell_type": "code",
   "execution_count": 15,
   "metadata": {},
   "outputs": [
    {
     "name": "stderr",
     "output_type": "stream",
     "text": [
      "100%|██████████| 1/1 [00:01<00:00,  1.56s/it]\n",
      "100%|██████████| 6/6 [00:10<00:00,  1.73s/it]\n"
     ]
    },
    {
     "data": {
      "image/png": "[encoded data removed]",
      "text/plain": [
       "<Figure size 640x480 with 1 Axes>"
      ]
     },
     "metadata": {},
     "output_type": "display_data"
    }
   ],
   "source": [
    "calc_global_embeddings(\"Do you offer vegetarian food?\", embeddings, retriever, umap_transformer, umap_embed, global_embeddings)"
   ]
  }
 ],
 "metadata": {
  "kernelspec": {
   "display_name": "venv",
   "language": "python",
   "name": "python3"
  },
  "language_info": {
   "codemirror_mode": {
    "name": "ipython",
    "version": 3
   },
   "file_extension": ".py",
   "mimetype": "text/x-python",
   "name": "python",
   "nbconvert_exporter": "python",
   "pygments_lexer": "ipython3",
   "version": "3.12.3"
  }
 },
 "nbformat": 4,
 "nbformat_minor": 2
}
