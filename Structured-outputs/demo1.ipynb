{
 "cells": [
  {
   "cell_type": "markdown",
   "metadata": {},
   "source": [
    "# Extract the data in a structured data \n",
    "\n",
    "## Different Approaches\n",
    "There are 3 broad approaches for information extraction using LLMs.\n",
    "\n",
    "1. **Tool/Function Calling Mode**: Some LLMs support a tool or function calling mode. These LLMs can structure output according to a given schema. Generally, this approach is the easiest to work and is expected to yield desired good results.\n",
    "2. **JSON Mode**: Some LLMs are be forced to output valid JSON. This is similar to tool/function calling approach, except the schema is provided as part of the prompt.\n",
    "3. **Prompting Based**: LLMs that can follow instructions well can be instructed to generate text in desired format. The generated text can be parsed downstream using existing Output parsers or using custom parsers into a structured format like JSON. This approach can be used with LLMs that do not support JSON mode or tool/function calling modes.   "
   ]
  },
  {
   "cell_type": "markdown",
   "metadata": {},
   "source": [
    "### Parse using Instructor and Pydantic Model\n",
    "1. Load LLMs\n",
    "2. Define Schemas\n",
    "3. Generate Stuctured(Pydantic) Outputs\n",
    "4. Generate Outputs"
   ]
  },
  {
   "cell_type": "code",
   "execution_count": 37,
   "metadata": {},
   "outputs": [
    {
     "data": {
      "text/plain": [
       "True"
      ]
     },
     "execution_count": 37,
     "metadata": {},
     "output_type": "execute_result"
    }
   ],
   "source": [
    "import instructor\n",
    "from openai import OpenAI\n",
    "from pydantic import BaseModel\n",
    "from dotenv import load_dotenv\n",
    "load_dotenv()"
   ]
  },
  {
   "cell_type": "code",
   "execution_count": 38,
   "metadata": {},
   "outputs": [],
   "source": [
    "# Define a pydantic class to get our desiered stuctured output\n",
    "class User(BaseModel):\n",
    "    name: str\n",
    "    age: int    "
   ]
  },
  {
   "cell_type": "code",
   "execution_count": 39,
   "metadata": {},
   "outputs": [],
   "source": [
    "# create the OpenAI client\n",
    "import openai\n",
    "client = instructor.patch(OpenAI())"
   ]
  },
  {
   "cell_type": "code",
   "execution_count": 40,
   "metadata": {},
   "outputs": [
    {
     "name": "stdout",
     "output_type": "stream",
     "text": [
      "name='Jason' age=25\n"
     ]
    }
   ],
   "source": [
    "# Extract structured data from natuaral language\n",
    "user_info = client.chat.completions.create(\n",
    "    model=\"gpt-3.5-turbo\",\n",
    "    response_model = User,\n",
    "    messages=[\n",
    "        {\n",
    "            \"role\": \"user\",\n",
    "            \"content\": \"Extract Jason is 25 years old\",\n",
    "        }\n",
    "    ],    \n",
    ")\n",
    "print(user_info)"
   ]
  },
  {
   "cell_type": "code",
   "execution_count": 41,
   "metadata": {},
   "outputs": [
    {
     "name": "stdout",
     "output_type": "stream",
     "text": [
      "{\n",
      "  \"name\": \"Alice\",\n",
      "  \"age\": 30\n",
      "}\n"
     ]
    }
   ],
   "source": [
    "# Create a new user based on the user model\n",
    "\n",
    "new_user = client.chat.completions.create(\n",
    "    model = \"gpt-3.5-turbo\",\n",
    "    response_model = User,\n",
    "    messages = [\n",
    "        {\n",
    "            \"role\": \"user\",\n",
    "            \"content\": \"Generate a user\"\n",
    "        },\n",
    "    ]\n",
    ")\n",
    "# print as Json response\n",
    "print(new_user.model_dump_json(indent=2))"
   ]
  },
  {
   "cell_type": "code",
   "execution_count": 42,
   "metadata": {},
   "outputs": [
    {
     "name": "stdout",
     "output_type": "stream",
     "text": [
      "name='கலைவன்' age=40\n",
      "name='சிதீசா' age=45\n",
      "name='தமிழ்மணி' age=35\n",
      "name='சந்திரன்' age=50\n",
      "name='அரிவண்ணன்' age=55\n",
      "name='பவித்ரா' age=32\n",
      "name='தீபான்' age=38\n",
      "name='சரவணன்' age=42\n",
      "name='ஜோதிகா' age=48\n",
      "name='உன்னிதன்' age=58\n"
     ]
    }
   ],
   "source": [
    "new_users = client.chat.completions.create(\n",
    "    model = \"gpt-3.5-turbo\",\n",
    "    response_model = list[User],\n",
    "    messages = [\n",
    "        {\n",
    "            \"role\": \"user\",\n",
    "            \"content\": \"Generate a list of 10 users with tamil names and age between 30 to 60\"\n",
    "        },\n",
    "    ]\n",
    ")\n",
    "# print as Json response\n",
    "for user in new_users:\n",
    "    print(user)\n"
   ]
  },
  {
   "cell_type": "markdown",
   "metadata": {},
   "source": [
    "# Generate JSON Outputs"
   ]
  },
  {
   "cell_type": "code",
   "execution_count": 43,
   "metadata": {},
   "outputs": [
    {
     "data": {
      "text/plain": [
       "True"
      ]
     },
     "execution_count": 43,
     "metadata": {},
     "output_type": "execute_result"
    }
   ],
   "source": [
    "from dotenv import load_dotenv,find_dotenv\n",
    "import os\n",
    "load_dotenv(find_dotenv())"
   ]
  },
  {
   "cell_type": "markdown",
   "metadata": {},
   "source": [
    "### Login to https://console.groq.com and create a API key\n"
   ]
  },
  {
   "cell_type": "code",
   "execution_count": 44,
   "metadata": {},
   "outputs": [],
   "source": [
    "groq_api_key = os.getenv(\"GROQ_API_KEY\")"
   ]
  },
  {
   "cell_type": "code",
   "execution_count": 45,
   "metadata": {},
   "outputs": [
    {
     "data": {
      "text/plain": [
       "ChatOpenAI(client=<openai.resources.chat.completions.Completions object at 0x000001B9325FB170>, async_client=<openai.resources.chat.completions.AsyncCompletions object at 0x000001B9310E5070>, root_client=<openai.OpenAI object at 0x000001B9325ECD70>, root_async_client=<openai.AsyncOpenAI object at 0x000001B9325FB230>, model_name='llama3-70b-8192', temperature=0.1, model_kwargs={}, openai_api_key=SecretStr('**********'), openai_api_base='https://api.groq.com/openai/v1')"
      ]
     },
     "execution_count": 45,
     "metadata": {},
     "output_type": "execute_result"
    }
   ],
   "source": [
    "from langchain_openai import ChatOpenAI\n",
    "llama3 = ChatOpenAI(api_key = groq_api_key,\n",
    "                    model=\"llama3-70b-8192\",\n",
    "                    base_url=\"https://api.groq.com/openai/v1\",\n",
    "                    temperature=0.1)\n",
    "llama3"
   ]
  },
  {
   "cell_type": "code",
   "execution_count": 46,
   "metadata": {},
   "outputs": [
    {
     "data": {
      "text/plain": [
       "'The capital of France is Paris.'"
      ]
     },
     "execution_count": 46,
     "metadata": {},
     "output_type": "execute_result"
    }
   ],
   "source": [
    "# test the model\n",
    "ai_msg = llama3.invoke(\"What is the capital of France?\")\n",
    "ai_msg\n",
    "ai_msg.content"
   ]
  },
  {
   "cell_type": "markdown",
   "metadata": {},
   "source": [
    "## Define the Schemas"
   ]
  },
  {
   "cell_type": "code",
   "execution_count": 47,
   "metadata": {},
   "outputs": [],
   "source": [
    "from typing import Optional, List\n",
    "from pydantic import BaseModel, Field\n",
    "\n",
    "class Person(BaseModel):\n",
    "    \"\"\"\n",
    "    A class representing a person with a name, age, and a list of hobbies.\n",
    "\n",
    "    Attributes:\n",
    "        name (str): The name of the person.\n",
    "        age (int): The age of the person.\n",
    "        hobbies (List[str]): A list of hobbies of the person.\n",
    "    \"\"\"\n",
    "    name: str = Field(description=\"name of the person\")\n",
    "    age: int = Field(description=\"age of the person\")\n",
    "    hobbies: List[str] = Field(description=\"hobbies of the person\")\n",
    "\n",
    "class People(BaseModel):\n",
    "    \"\"\"\n",
    "    A class representing a list of people.\n",
    "\n",
    "    Attributes:\n",
    "        people (List[Person]): A list of Person objects.\n",
    "    \"\"\"\n",
    "    people: List[Person] = Field(description=\"list of people\")"
   ]
  },
  {
   "cell_type": "markdown",
   "metadata": {},
   "source": [
    "### Generate Structured outputs (Pydantic) "
   ]
  },
  {
   "cell_type": "code",
   "execution_count": 48,
   "metadata": {},
   "outputs": [
    {
     "data": {
      "text/plain": [
       "RunnableBinding(bound=ChatOpenAI(client=<openai.resources.chat.completions.Completions object at 0x000001B9325FB170>, async_client=<openai.resources.chat.completions.AsyncCompletions object at 0x000001B9310E5070>, root_client=<openai.OpenAI object at 0x000001B9325ECD70>, root_async_client=<openai.AsyncOpenAI object at 0x000001B9325FB230>, model_name='llama3-70b-8192', temperature=0.1, model_kwargs={}, openai_api_key=SecretStr('**********'), openai_api_base='https://api.groq.com/openai/v1'), kwargs={'tools': [{'type': 'function', 'function': {'name': 'Person', 'description': 'A class representing a person with a name, age, and a list of hobbies.\\n\\nAttributes:\\n    name (str): The name of the person.\\n    age (int): The age of the person.\\n    hobbies (List[str]): A list of hobbies of the person.', 'parameters': {'properties': {'name': {'description': 'name of the person', 'type': 'string'}, 'age': {'description': 'age of the person', 'type': 'integer'}, 'hobbies': {'description': 'hobbies of the person', 'items': {'type': 'string'}, 'type': 'array'}}, 'required': ['name', 'age', 'hobbies'], 'type': 'object'}}}], 'parallel_tool_calls': False, 'tool_choice': {'type': 'function', 'function': {'name': 'Person'}}}, config={}, config_factories=[])\n",
       "| PydanticToolsParser(first_tool_only=True, tools=[<class '__main__.Person'>])"
      ]
     },
     "execution_count": 48,
     "metadata": {},
     "output_type": "execute_result"
    }
   ],
   "source": [
    "structured_llama3 = llama3.with_structured_output(Person)\n",
    "structured_llama3"
   ]
  },
  {
   "cell_type": "code",
   "execution_count": 49,
   "metadata": {},
   "outputs": [
    {
     "data": {
      "text/plain": [
       "Person(name='Ram', age=45, hobbies=['blogging', 'running', 'learning'])"
      ]
     },
     "execution_count": 49,
     "metadata": {},
     "output_type": "execute_result"
    }
   ],
   "source": [
    "structured_llama3.invoke(\"Ram is 45 years old and he loves to blogging, running, learning\")"
   ]
  },
  {
   "cell_type": "code",
   "execution_count": 50,
   "metadata": {},
   "outputs": [
    {
     "data": {
      "text/plain": [
       "People(people=[Person(name='Shan', age=15, hobbies=['biking', 'gaming', 'learning new stuff']), Person(name='Sam', age=20, hobbies=['swimming', 'dancing'])])"
      ]
     },
     "execution_count": 50,
     "metadata": {},
     "output_type": "execute_result"
    }
   ],
   "source": [
    "structured_llama3 = llama3.with_structured_output(People)\n",
    "structured_llama3.invoke(\"Shan is 15 years old and he is intreasted in biking, gaming and learning new stuff. Sam is 20 years old and loves to swim and dancing\")"
   ]
  },
  {
   "cell_type": "markdown",
   "metadata": {},
   "source": [
    "## Generate JSON Outputs"
   ]
  },
  {
   "cell_type": "code",
   "execution_count": 51,
   "metadata": {},
   "outputs": [
    {
     "name": "stderr",
     "output_type": "stream",
     "text": [
      "C:\\Users\\Darshan\\AppData\\Local\\Temp\\ipykernel_2320\\2286394867.py:1: PydanticDeprecatedSince20: The `schema` method is deprecated; use `model_json_schema` instead. Deprecated in Pydantic V2.0 to be removed in V3.0. See Pydantic V2 Migration Guide at https://errors.pydantic.dev/2.10/migration/\n",
      "  Person.schema()\n"
     ]
    },
    {
     "data": {
      "text/plain": [
       "{'description': 'A class representing a person with a name, age, and a list of hobbies.\\n\\nAttributes:\\n    name (str): The name of the person.\\n    age (int): The age of the person.\\n    hobbies (List[str]): A list of hobbies of the person.',\n",
       " 'properties': {'name': {'description': 'name of the person',\n",
       "   'title': 'Name',\n",
       "   'type': 'string'},\n",
       "  'age': {'description': 'age of the person',\n",
       "   'title': 'Age',\n",
       "   'type': 'integer'},\n",
       "  'hobbies': {'description': 'hobbies of the person',\n",
       "   'items': {'type': 'string'},\n",
       "   'title': 'Hobbies',\n",
       "   'type': 'array'}},\n",
       " 'required': ['name', 'age', 'hobbies'],\n",
       " 'title': 'Person',\n",
       " 'type': 'object'}"
      ]
     },
     "execution_count": 51,
     "metadata": {},
     "output_type": "execute_result"
    }
   ],
   "source": [
    "Person.schema()"
   ]
  },
  {
   "cell_type": "code",
   "execution_count": 52,
   "metadata": {},
   "outputs": [],
   "source": [
    "from langchain.prompts import PromptTemplate\n",
    "from langchain_core.output_parsers import JsonOutputParser, SimpleJsonOutputParser"
   ]
  },
  {
   "cell_type": "code",
   "execution_count": 53,
   "metadata": {},
   "outputs": [],
   "source": [
    "prompt = PromptTemplate.from_template(\"\"\" \n",
    "                                      You are an expert data parser. Parse data from user query.\n",
    "                                      Use this schema:\n",
    "                                      {schema}\n",
    "                                      Respond only a JSON based on above-mentioned schema. \n",
    "                                      Strictly follow JSON schema and do not add extra fields.\n",
    "                                      If you don't know any field then set it to None.\n",
    "\n",
    "                                      {query}\n",
    "                                      \"\"\")\n",
    "llm = prompt | llama3 | SimpleJsonOutputParser()"
   ]
  },
  {
   "cell_type": "code",
   "execution_count": 54,
   "metadata": {},
   "outputs": [
    {
     "data": {
      "text/plain": [
       "{'name': 'Raju', 'age': 21, 'hobbies': ['vlog', 'training']}"
      ]
     },
     "execution_count": 54,
     "metadata": {},
     "output_type": "execute_result"
    }
   ],
   "source": [
    "llm.invoke({\"query\":\"Raju is 21 years old and loves doing vlog, training\",\n",
    "            \"schema\":Person.model_json_schema()})"
   ]
  },
  {
   "cell_type": "code",
   "execution_count": 55,
   "metadata": {},
   "outputs": [
    {
     "data": {
      "text/plain": [
       "{'$defs': {'Person': {'description': 'A class representing a person with a name, age, and a list of hobbies.\\n\\nAttributes:\\n    name (str): The name of the person.\\n    age (int): The age of the person.\\n    hobbies (List[str]): A list of hobbies of the person.',\n",
       "   'properties': {'name': {'description': 'name of the person',\n",
       "     'title': 'Name',\n",
       "     'type': 'string'},\n",
       "    'age': {'description': 'age of the person',\n",
       "     'title': 'Age',\n",
       "     'type': 'integer'},\n",
       "    'hobbies': {'description': 'hobbies of the person',\n",
       "     'items': {'type': 'string'},\n",
       "     'title': 'Hobbies',\n",
       "     'type': 'array'}},\n",
       "   'required': ['name', 'age', 'hobbies'],\n",
       "   'title': 'Person',\n",
       "   'type': 'object'}},\n",
       " 'description': 'A class representing a list of people.\\n\\nAttributes:\\n    people (List[Person]): A list of Person objects.',\n",
       " 'properties': {'people': {'description': 'list of people',\n",
       "   'items': {'$ref': '#/$defs/Person'},\n",
       "   'title': 'People',\n",
       "   'type': 'array'}},\n",
       " 'required': ['people'],\n",
       " 'title': 'People',\n",
       " 'type': 'object'}"
      ]
     },
     "execution_count": 55,
     "metadata": {},
     "output_type": "execute_result"
    }
   ],
   "source": [
    "People.model_json_schema()"
   ]
  },
  {
   "cell_type": "code",
   "execution_count": 56,
   "metadata": {},
   "outputs": [
    {
     "data": {
      "text/plain": [
       "{'people': [{'name': 'Anna', 'age': 20, 'hobbies': ['gardening', 'walking']},\n",
       "  {'name': 'Seema', 'age': 18, 'hobbies': ['painting', 'reading']},\n",
       "  {'name': 'Ria', 'age': 21, 'hobbies': ['singing', 'painting', 'walking']},\n",
       "  {'name': 'Rohan', 'age': 22, 'hobbies': ['painting', 'walking']}]}"
      ]
     },
     "execution_count": 56,
     "metadata": {},
     "output_type": "execute_result"
    }
   ],
   "source": [
    "query = \"\"\" \n",
    "Anna is 20 years old and is interested to do gardening, walking during her free time.\n",
    "Seema is 18 years old and is interested to do painting, reading during her free time.\n",
    "Ria is 21 years old and is interested to do singing, painting, walking during her free time.\n",
    "Rohan is 22 years old and is interested to do painting, walking during her free time.\n",
    "\"\"\"\n",
    "llm.invoke({\"query\":query,\n",
    "           \"schema\":People.model_json_schema()})"
   ]
  }
 ],
 "metadata": {
  "kernelspec": {
   "display_name": ".venv",
   "language": "python",
   "name": "python3"
  },
  "language_info": {
   "codemirror_mode": {
    "name": "ipython",
    "version": 3
   },
   "file_extension": ".py",
   "mimetype": "text/x-python",
   "name": "python",
   "nbconvert_exporter": "python",
   "pygments_lexer": "ipython3",
   "version": "3.12.3"
  }
 },
 "nbformat": 4,
 "nbformat_minor": 2
}
