{
 "cells": [
  {
   "cell_type": "markdown",
   "metadata": {},
   "source": [
    "#Perform a Sequential chain in Langchain"
   ]
  },
  {
   "cell_type": "code",
   "execution_count": null,
   "metadata": {},
   "outputs": [],
   "source": [
    "from dotenv import load_dotenv, find_dotenv\n",
    "load_dotenv(find_dotenv())"
   ]
  },
  {
   "cell_type": "code",
   "execution_count": 5,
   "metadata": {},
   "outputs": [],
   "source": [
    "from langchain_openai import ChatOpenAI\n",
    "from langchain_core.prompts import ChatPromptTemplate\n",
    "from langchain_core.output_parsers import StrOutputParser\n",
    "from langchain.chains import SequentialChain, LLMChain\n",
    "from langchain.schema.runnable import RunnablePassthrough"
   ]
  },
  {
   "cell_type": "code",
   "execution_count": 2,
   "metadata": {},
   "outputs": [],
   "source": [
    "# using the Chat OpenAI GPT 4o-mini\n",
    "llm = ChatOpenAI(temperature=0.0, model=\"gpt-4o-mini\")"
   ]
  },
  {
   "cell_type": "code",
   "execution_count": 6,
   "metadata": {},
   "outputs": [],
   "source": [
    "# List of Prompts to be used\n",
    "original_review_prompt = \"\"\" \n",
    "Translate the below review in English. If it is already in English, skip the translation and output the same review.\n",
    "Review: {review}\n",
    "\"\"\"\n",
    "prompt1 = ChatPromptTemplate.from_template(original_review_prompt)"
   ]
  },
  {
   "cell_type": "code",
   "execution_count": 7,
   "metadata": {},
   "outputs": [],
   "source": [
    "summary_creation_prompt = \"\"\" \n",
    "Create a concise summary of the following text, ensuring that the summary captures the main points and essential information.\n",
    "Text: {english_review}\n",
    "\"\"\"\n",
    "prompt2 = ChatPromptTemplate.from_template(summary_creation_prompt)"
   ]
  },
  {
   "cell_type": "code",
   "execution_count": 8,
   "metadata": {},
   "outputs": [],
   "source": [
    "language_check_prompt =\"\"\" \n",
    "Identify the language of the following review:\n",
    "\\n\\n\n",
    "{review}\n",
    "\"\"\"\n",
    "prompt3 = ChatPromptTemplate.from_template(language_check_prompt)"
   ]
  },
  {
   "cell_type": "code",
   "execution_count": 9,
   "metadata": {},
   "outputs": [],
   "source": [
    "find_sentiment_prompt = \"\"\"\n",
    "You are a sentiment analysis expert. You will be given a sentence and you need to find the sentiment of the sentence.\n",
    "The sentiment can be one of the following Review:\n",
    "1. Positive 2. Negative 3. Neutral\n",
    "\\n\\n\n",
    "Review: {review}\n",
    "English Review: {english_review}\n",
    "Summary: {summary}\n",
    "Original Review Language: {review_language}\n",
    "\n",
    "Determine the sentiment of the review and return the result in the following format:\n",
    "Sentiment: <sentiment>\n",
    "\\n\\n\n",
    "\"\"\"\n",
    "\n",
    "prompt4 = ChatPromptTemplate.from_template(find_sentiment_prompt)"
   ]
  },
  {
   "cell_type": "code",
   "execution_count": 10,
   "metadata": {},
   "outputs": [],
   "source": [
    "\n",
    "build_email_response_prompt = \"\"\"\n",
    "You are an expert email design assistant and good customer service agent. Your task is to generate a professional and engaging consise email response based on the customer review.\n",
    "Thank them for their feedback in the response. If in case of any negative feedback, make it more polite, engaging and professional. \n",
    "Sign the email with 'Sincerely, [Your Name]' at the end.\n",
    "Use the below details.\n",
    "\n",
    "Review: {review}\n",
    "English Review: {english_review}\n",
    "Summary: {summary}\n",
    "Original Review Language: {review_language}\n",
    "Sentiment: {sentiment}\n",
    "\"\"\"\n",
    "prompt5 = ChatPromptTemplate.from_template(build_email_response_prompt)"
   ]
  },
  {
   "cell_type": "code",
   "execution_count": 11,
   "metadata": {},
   "outputs": [],
   "source": [
    "# Now goes the chains\n",
    "output_parser = StrOutputParser()\n",
    "original_review_chain = prompt1 | llm | output_parser\n",
    "summary_creation_chain = prompt2 | llm | output_parser\n",
    "language_check_chain = prompt3 | llm | output_parser\n",
    "sentiment_check_chain = prompt4 | llm | output_parser\n",
    "build_email_chain = prompt5 | llm | output_parser"
   ]
  },
  {
   "cell_type": "code",
   "execution_count": 12,
   "metadata": {},
   "outputs": [],
   "source": [
    "final_chain = ({\"review\":RunnablePassthrough(),\"english_review\":original_review_chain}\n",
    "               |RunnablePassthrough.assign(summary = summary_creation_chain)\n",
    "               |RunnablePassthrough.assign(review_language = language_check_chain)\n",
    "               |RunnablePassthrough.assign(sentiment = sentiment_check_chain)\n",
    "               |RunnablePassthrough.assign(automated_email =build_email_chain)\n",
    "               )"
   ]
  },
  {
   "cell_type": "code",
   "execution_count": 13,
   "metadata": {},
   "outputs": [],
   "source": [
    "review = \"\"\" Titre: Déçu par la qualité et le confort\n",
    "\n",
    "Avis: Je suis déçu par cette chemise. La coupe est trop serrée, bien que j'aie commandé ma taille habituelle. Le tissu est rigide et inconfortable, surtout après le lavage. La qualité ne vaut pas le prix. Je ne recommande pas cet achat.\"\"\""
   ]
  },
  {
   "cell_type": "code",
   "execution_count": 14,
   "metadata": {},
   "outputs": [
    {
     "data": {
      "text/plain": [
       "{'review': \" Titre: Déçu par la qualité et le confort\\n\\nAvis: Je suis déçu par cette chemise. La coupe est trop serrée, bien que j'aie commandé ma taille habituelle. Le tissu est rigide et inconfortable, surtout après le lavage. La qualité ne vaut pas le prix. Je ne recommande pas cet achat.\",\n",
       " 'english_review': 'Title: Disappointed by the quality and comfort\\n\\nReview: I am disappointed with this shirt. The fit is too tight, even though I ordered my usual size. The fabric is stiff and uncomfortable, especially after washing. The quality is not worth the price. I do not recommend this purchase.',\n",
       " 'summary': 'The reviewer expresses disappointment with the shirt, citing a tight fit despite ordering the usual size, stiff and uncomfortable fabric after washing, and overall poor quality for the price. They do not recommend the purchase.',\n",
       " 'review_language': 'The language of the review is French.',\n",
       " 'sentiment': 'Sentiment: Negative',\n",
       " 'automated_email': \"Subject: Thank You for Your Feedback\\n\\nDear [Customer's Name],\\n\\nThank you for taking the time to share your thoughts about the shirt. We genuinely appreciate your feedback, as it helps us improve our products and services.\\n\\nWe are sorry to hear that the fit and quality did not meet your expectations. Your experience is important to us, and we will certainly take your comments into consideration as we strive to enhance our offerings. \\n\\nIf you would like to discuss this further or explore alternative options, please feel free to reach out. We are here to help!\\n\\nSincerely,  \\n[Your Name]\"}"
      ]
     },
     "execution_count": 14,
     "metadata": {},
     "output_type": "execute_result"
    }
   ],
   "source": [
    "result = final_chain.invoke(review)\n",
    "result"
   ]
  }
 ],
 "metadata": {
  "kernelspec": {
   "display_name": "venv",
   "language": "python",
   "name": "python3"
  },
  "language_info": {
   "codemirror_mode": {
    "name": "ipython",
    "version": 3
   },
   "file_extension": ".py",
   "mimetype": "text/x-python",
   "name": "python",
   "nbconvert_exporter": "python",
   "pygments_lexer": "ipython3",
   "version": "3.12.3"
  }
 },
 "nbformat": 4,
 "nbformat_minor": 2
}
