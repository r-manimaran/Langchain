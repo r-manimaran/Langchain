{
 "cells": [
  {
   "cell_type": "markdown",
   "metadata": {},
   "source": [
    "# Semantic Chunking\n",
    "- bank.txt contains information about a Bank, a vegetarion resturant and a Hair Saloon. \n",
    "- When chunking, it has to sematic identify the context and perform chunking."
   ]
  },
  {
   "cell_type": "code",
   "execution_count": 1,
   "metadata": {},
   "outputs": [],
   "source": [
    "from langchain_community.document_loaders import TextLoader\n",
    "from langchain.text_splitter import RecursiveCharacterTextSplitter\n",
    "\n",
    "loader = TextLoader(\"./bank.txt\")\n",
    "documents = loader.load()"
   ]
  },
  {
   "cell_type": "code",
   "execution_count": 2,
   "metadata": {},
   "outputs": [],
   "source": [
    "text_splitter = RecursiveCharacterTextSplitter(chunk_size=200, chunk_overlap=0)"
   ]
  },
  {
   "cell_type": "code",
   "execution_count": 3,
   "metadata": {},
   "outputs": [
    {
     "name": "stdout",
     "output_type": "stream",
     "text": [
      "Number of documents: 29\n"
     ]
    }
   ],
   "source": [
    "docs = text_splitter.split_documents(documents)\n",
    "print(f\"Number of documents: {len(docs)}\")"
   ]
  },
  {
   "cell_type": "code",
   "execution_count": 5,
   "metadata": {},
   "outputs": [
    {
     "name": "stdout",
     "output_type": "stream",
     "text": [
      "Chunk 1:  page_content='The Bank of Common Man is a community-centric financial institution, designed to empower individuals, families, and small businesses with accessible and straightforward banking solutions. Its mission' metadata={'source': './bank.txt'}\n",
      "Chunk 2:  page_content='is to foster financial inclusion by offering a broad range of services tailored to meet the needs of the everyday person. The bank provides savings accounts with no minimum balance requirements,' metadata={'source': './bank.txt'}\n",
      "Chunk 3:  page_content='allowing customers to build their financial security from the ground up, alongside checking accounts that feature no monthly maintenance fees and easy ATM access. For those looking to finance major' metadata={'source': './bank.txt'}\n",
      "Chunk 4:  page_content='life events, The Bank of Common Man offers personal loans with flexible repayment options and quick approvals. Additionally, the bank plays a pivotal role in making homeownership attainable through' metadata={'source': './bank.txt'}\n",
      "Chunk 5:  page_content='affordable mortgages and home loans, with competitive interest rates and personalized assistance throughout the process. Entrepreneurs and small businesses also find a strong partner in the bankâ€™s' metadata={'source': './bank.txt'}\n",
      "Chunk 6:  page_content='business loans, designed to fuel growth and manage operational costs. The credit cards provided offer low-interest rates, no annual fees, and reward programs, catering to both personal and business' metadata={'source': './bank.txt'}\n",
      "Chunk 7:  page_content='needs. For modern convenience, The Bank of Common Man offers a comprehensive online and mobile banking platform, allowing customers to manage their accounts, transfer funds, deposit checks, and pay' metadata={'source': './bank.txt'}\n",
      "Chunk 8:  page_content='bills from the comfort of their homes or on the go. With an emphasis on customer service, transparency, and trust, The Bank of Common Man ensures that every member of the community has access to' metadata={'source': './bank.txt'}\n",
      "Chunk 9:  page_content='essential financial tools, helping them manage their money more effectively and achieve long-term financial stability.' metadata={'source': './bank.txt'}\n",
      "Chunk 10:  page_content='Nestled in the heart of the city, Sattva Spice is a vibrant vegetarian restaurant that specializes in authentic Indian cuisine, offering a rich array of flavors inspired by Indiaâ€™s diverse culinary' metadata={'source': './bank.txt'}\n",
      "Chunk 11:  page_content='heritage. With a commitment to freshness and quality, every dish is crafted using the finest locally sourced ingredients and traditional Indian spices, ensuring that the food is both nutritious and' metadata={'source': './bank.txt'}\n",
      "Chunk 12:  page_content='bursting with flavor. The menu features a delightful variety of options that cater to all palates, from spicy to mild, with a range of dishes inspired by the regional specialties of North and South' metadata={'source': './bank.txt'}\n",
      "Chunk 13:  page_content='India. Sattva Spice is well known for its delectable paneer butter masala, a creamy, tangy dish that melts in the mouth, and dosas, crispy rice crepes filled with savory potato masala, served' metadata={'source': './bank.txt'}\n",
      "Chunk 14:  page_content='alongside tangy coconut chutney and sambar. For a hearty meal, diners can indulge in the restaurant's signature thalis, a platter of assorted small dishes that offer a full spectrum of tastes, from' metadata={'source': './bank.txt'}\n",
      "Chunk 15:  page_content='spicy curries to cooling raita and sweet desserts. The menu also includes chaats, which are flavorful Indian street food snacks like pani puri and bhel puri, providing a lighter yet flavorful option' metadata={'source': './bank.txt'}\n",
      "Chunk 16:  page_content='for those seeking a quick bite. The restaurantâ€™s ambiance is warm and welcoming, with colorful dÃ©cor that reflects the vibrancy of Indian culture, making it a perfect spot for family gatherings,' metadata={'source': './bank.txt'}\n",
      "Chunk 17:  page_content='casual meals, or even a cozy dinner for two. Beyond the food, Sattva Spice is deeply committed to sustainability, offering a completely vegetarian menu with many vegan and gluten-free options to' metadata={'source': './bank.txt'}\n",
      "Chunk 18:  page_content='cater to a wide range of dietary preferences. The emphasis on plant-based dining doesnâ€™t stop at the ingredients, but also extends to eco-friendly packaging for takeout and delivery, furthering' metadata={'source': './bank.txt'}\n",
      "Chunk 19:  page_content='their dedication to a greener planet. With friendly staff, a relaxed atmosphere, and a dedication to serving wholesome, flavorful meals, Sattva Spice is more than just a restaurantâ€”itâ€™s a' metadata={'source': './bank.txt'}\n",
      "Chunk 20:  page_content='celebration of Indiaâ€™s rich vegetarian tradition, inviting diners to embark on a culinary journey full of vibrant colors, bold spices, and soulful flavors. Whether you're craving a comforting bowl' metadata={'source': './bank.txt'}\n",
      "Chunk 21:  page_content='of dal tadka or an indulgent serving of gulab jamun, Sattva Spice promises an unforgettable dining experience that leaves both the palate and the soul deeply satisfied.' metadata={'source': './bank.txt'}\n",
      "Chunk 22:  page_content='Located in the heart of downtown, Luxe Locks Salon is a modern hair salon that combines expert styling with personalized service to create a truly luxurious experience. Specializing in a wide range' metadata={'source': './bank.txt'}\n",
      "Chunk 23:  page_content='of services, from precision haircuts and creative coloring to blowouts and keratin treatments, Luxe Locks is the go-to destination for anyone looking to refresh their look or maintain their style.' metadata={'source': './bank.txt'}\n",
      "Chunk 24:  page_content='The salon prides itself on its team of highly trained stylists who are up-to-date with the latest trends and techniques in the industry, ensuring that every client leaves feeling confident and' metadata={'source': './bank.txt'}\n",
      "Chunk 25:  page_content='satisfied. Whether you're after a sleek, professional cut or bold, vibrant color, Luxe Locks tailors each service to suit individual preferences and hair types. The atmosphere in the salon is chic' metadata={'source': './bank.txt'}\n",
      "Chunk 26:  page_content='and relaxing, with comfortable seating, soothing music, and an inviting ambiance that makes it easy to unwind during your appointment. The salon uses top-tier, salon-grade products to ensure the best' metadata={'source': './bank.txt'}\n",
      "Chunk 27:  page_content='results, offering professional hair care lines for purchase, so clients can maintain their salon-fresh look at home. Luxe Locks is also known for its personalized consultations, where stylists take' metadata={'source': './bank.txt'}\n",
      "Chunk 28:  page_content='the time to understand clients' hair goals, lifestyle, and concerns before recommending the perfect cut or treatment. With a commitment to quality, creativity, and customer satisfaction, Luxe Locks' metadata={'source': './bank.txt'}\n",
      "Chunk 29:  page_content='Salon has earned a reputation as one of the top salons in the city, where every visit is an opportunity to enhance your style and leave feeling rejuvenated.' metadata={'source': './bank.txt'}\n"
     ]
    }
   ],
   "source": [
    "for i, doc in enumerate(docs):\n",
    "    print(f\"Chunk {i+1}: \",doc)"
   ]
  },
  {
   "cell_type": "markdown",
   "metadata": {},
   "source": [
    "#Semantic Text Splitter"
   ]
  },
  {
   "cell_type": "code",
   "execution_count": 7,
   "metadata": {},
   "outputs": [],
   "source": [
    "with open(\"./bank.txt\",\"r\",encoding=\"utf-8\") as file:\n",
    "    content = file.read()"
   ]
  },
  {
   "cell_type": "code",
   "execution_count": 17,
   "metadata": {},
   "outputs": [
    {
     "name": "stdout",
     "output_type": "stream",
     "text": [
      "Requirement already satisfied: semantic_text_splitter in c:\\maran\\studymaterials\\git\\langchain\\semantic-text-chunks\\venv\\lib\\site-packages (0.15.0)\n"
     ]
    },
    {
     "name": "stderr",
     "output_type": "stream",
     "text": [
      "\n",
      "[notice] A new release of pip is available: 24.0 -> 24.2\n",
      "[notice] To update, run: python.exe -m pip install --upgrade pip\n"
     ]
    }
   ],
   "source": [
    "!pip install semantic_text_splitter"
   ]
  },
  {
   "cell_type": "code",
   "execution_count": 35,
   "metadata": {},
   "outputs": [],
   "source": [
    "from semantic_text_splitter import TextSplitter\n",
    "max_characters = 200\n",
    "splitter = TextSplitter(max_characters, trim=False)\n",
    "chunks_no_model =splitter.chunks(content)"
   ]
  },
  {
   "cell_type": "code",
   "execution_count": 36,
   "metadata": {},
   "outputs": [
    {
     "name": "stdout",
     "output_type": "stream",
     "text": [
      "Chunk 1: The Bank of Common Man is a community-centric financial institution, designed to empower individuals, families, and small businesses with accessible and straightforward banking solutions. \n",
      "Chunk 2: Its mission is to foster financial inclusion by offering a broad range of services tailored to meet the needs of the everyday person. \n",
      "Chunk 3: The bank provides savings accounts with no minimum balance requirements, allowing customers to build their financial security from the ground up, alongside checking accounts that feature no monthly \n",
      "Chunk 4: maintenance fees and easy ATM access. For those looking to finance major life events, The Bank of Common Man offers personal loans with flexible repayment options and quick approvals. \n",
      "Chunk 5: Additionally, the bank plays a pivotal role in making homeownership attainable through affordable mortgages and home loans, with competitive interest rates and personalized assistance throughout the \n",
      "Chunk 6: process. Entrepreneurs and small businesses also find a strong partner in the bank’s business loans, designed to fuel growth and manage operational costs. \n",
      "Chunk 7: The credit cards provided offer low-interest rates, no annual fees, and reward programs, catering to both personal and business needs. \n",
      "Chunk 8: For modern convenience, The Bank of Common Man offers a comprehensive online and mobile banking platform, allowing customers to manage their accounts, transfer funds, deposit checks, and pay bills \n",
      "Chunk 9: from the comfort of their homes or on the go. \n",
      "Chunk 10: With an emphasis on customer service, transparency, and trust, The Bank of Common Man ensures that every member of the community has access to essential financial tools, helping them manage their \n",
      "Chunk 11: money more effectively and achieve long-term financial stability.\n",
      "\n",
      "Chunk 12: Nestled in the heart of the city, Sattva Spice is a vibrant vegetarian restaurant that specializes in authentic Indian cuisine, offering a rich array of flavors inspired by India’s diverse culinary \n",
      "Chunk 13: heritage. \n",
      "Chunk 14: With a commitment to freshness and quality, every dish is crafted using the finest locally sourced ingredients and traditional Indian spices, ensuring that the food is both nutritious and bursting \n",
      "Chunk 15: with flavor. The menu features a delightful variety of options that cater to all palates, from spicy to mild, with a range of dishes inspired by the regional specialties of North and South India. \n",
      "Chunk 16: Sattva Spice is well known for its delectable paneer butter masala, a creamy, tangy dish that melts in the mouth, and dosas, crispy rice crepes filled with savory potato masala, served alongside tangy\n",
      "Chunk 17:  coconut chutney and sambar. \n",
      "Chunk 18: For a hearty meal, diners can indulge in the restaurant's signature thalis, a platter of assorted small dishes that offer a full spectrum of tastes, from spicy curries to cooling raita and sweet \n",
      "Chunk 19: desserts. The menu also includes chaats, which are flavorful Indian street food snacks like pani puri and bhel puri, providing a lighter yet flavorful option for those seeking a quick bite. \n",
      "Chunk 20: The restaurant’s ambiance is warm and welcoming, with colorful décor that reflects the vibrancy of Indian culture, making it a perfect spot for family gatherings, casual meals, or even a cozy dinner \n",
      "Chunk 21: for two. \n",
      "Chunk 22: Beyond the food, Sattva Spice is deeply committed to sustainability, offering a completely vegetarian menu with many vegan and gluten-free options to cater to a wide range of dietary preferences. \n",
      "Chunk 23: The emphasis on plant-based dining doesn’t stop at the ingredients, but also extends to eco-friendly packaging for takeout and delivery, furthering their dedication to a greener planet. \n",
      "Chunk 24: With friendly staff, a relaxed atmosphere, and a dedication to serving wholesome, flavorful meals, Sattva Spice is more than just a restaurant—it’s a celebration of India’s rich vegetarian tradition, \n",
      "Chunk 25: inviting diners to embark on a culinary journey full of vibrant colors, bold spices, and soulful flavors. \n",
      "Chunk 26: Whether you're craving a comforting bowl of dal tadka or an indulgent serving of gulab jamun, Sattva Spice promises an unforgettable dining experience that leaves both the palate and the soul deeply \n",
      "Chunk 27: satisfied.\n",
      "\n",
      "Chunk 28: Located in the heart of downtown, Luxe Locks Salon is a modern hair salon that combines expert styling with personalized service to create a truly luxurious experience. \n",
      "Chunk 29: Specializing in a wide range of services, from precision haircuts and creative coloring to blowouts and keratin treatments, Luxe Locks is the go-to destination for anyone looking to refresh their look\n",
      "Chunk 30:  or maintain their style. \n",
      "Chunk 31: The salon prides itself on its team of highly trained stylists who are up-to-date with the latest trends and techniques in the industry, ensuring that every client leaves feeling confident and \n",
      "Chunk 32: satisfied. Whether you're after a sleek, professional cut or bold, vibrant color, Luxe Locks tailors each service to suit individual preferences and hair types. \n",
      "Chunk 33: The atmosphere in the salon is chic and relaxing, with comfortable seating, soothing music, and an inviting ambiance that makes it easy to unwind during your appointment. \n",
      "Chunk 34: The salon uses top-tier, salon-grade products to ensure the best results, offering professional hair care lines for purchase, so clients can maintain their salon-fresh look at home. \n",
      "Chunk 35: Luxe Locks is also known for its personalized consultations, where stylists take the time to understand clients' hair goals, lifestyle, and concerns before recommending the perfect cut or treatment. \n",
      "Chunk 36: With a commitment to quality, creativity, and customer satisfaction, Luxe Locks Salon has earned a reputation as one of the top salons in the city, where every visit is an opportunity to enhance your \n",
      "Chunk 37: style and leave feeling rejuvenated.\n"
     ]
    }
   ],
   "source": [
    "for i, chunk in enumerate(chunks_no_model):\n",
    "    print(f\"Chunk {i+1}:\", chunk)\n",
    "  "
   ]
  },
  {
   "cell_type": "code",
   "execution_count": 42,
   "metadata": {},
   "outputs": [],
   "source": [
    "from semantic_text_splitter import TextSplitter\n",
    "from tokenizers import Tokenizer\n",
    "\n",
    "max_tokens = 200\n",
    "tokenizer = Tokenizer.from_pretrained(\"bert-base-uncased\")\n",
    "splitter = TextSplitter.from_huggingface_tokenizer(tokenizer, max_tokens)\n",
    "chunks = splitter.chunks(content)"
   ]
  },
  {
   "cell_type": "code",
   "execution_count": 43,
   "metadata": {},
   "outputs": [
    {
     "name": "stdout",
     "output_type": "stream",
     "text": [
      "Chunk 1: The Bank of Common Man is a community-centric financial institution, designed to empower individuals, families, and small businesses with accessible and straightforward banking solutions. Its mission is to foster financial inclusion by offering a broad range of services tailored to meet the needs of the everyday person. The bank provides savings accounts with no minimum balance requirements, allowing customers to build their financial security from the ground up, alongside checking accounts that feature no monthly maintenance fees and easy ATM access. For those looking to finance major life events, The Bank of Common Man offers personal loans with flexible repayment options and quick approvals. Additionally, the bank plays a pivotal role in making homeownership attainable through affordable mortgages and home loans, with competitive interest rates and personalized assistance throughout the process. Entrepreneurs and small businesses also find a strong partner in the bank’s business loans, designed to fuel growth and manage operational costs.\n",
      "Chunk 2: The credit cards provided offer low-interest rates, no annual fees, and reward programs, catering to both personal and business needs. For modern convenience, The Bank of Common Man offers a comprehensive online and mobile banking platform, allowing customers to manage their accounts, transfer funds, deposit checks, and pay bills from the comfort of their homes or on the go. With an emphasis on customer service, transparency, and trust, The Bank of Common Man ensures that every member of the community has access to essential financial tools, helping them manage their money more effectively and achieve long-term financial stability.\n",
      "Chunk 3: Nestled in the heart of the city, Sattva Spice is a vibrant vegetarian restaurant that specializes in authentic Indian cuisine, offering a rich array of flavors inspired by India’s diverse culinary heritage. With a commitment to freshness and quality, every dish is crafted using the finest locally sourced ingredients and traditional Indian spices, ensuring that the food is both nutritious and bursting with flavor. The menu features a delightful variety of options that cater to all palates, from spicy to mild, with a range of dishes inspired by the regional specialties of North and South India. Sattva Spice is well known for its delectable paneer butter masala, a creamy, tangy dish that melts in the mouth, and dosas, crispy rice crepes filled with savory potato masala, served alongside tangy coconut chutney and sambar.\n",
      "Chunk 4: For a hearty meal, diners can indulge in the restaurant's signature thalis, a platter of assorted small dishes that offer a full spectrum of tastes, from spicy curries to cooling raita and sweet desserts. The menu also includes chaats, which are flavorful Indian street food snacks like pani puri and bhel puri, providing a lighter yet flavorful option for those seeking a quick bite. The restaurant’s ambiance is warm and welcoming, with colorful décor that reflects the vibrancy of Indian culture, making it a perfect spot for family gatherings, casual meals, or even a cozy dinner for two. Beyond the food, Sattva Spice is deeply committed to sustainability, offering a completely vegetarian menu with many vegan and gluten-free options to cater to a wide range of dietary preferences.\n",
      "Chunk 5: The emphasis on plant-based dining doesn’t stop at the ingredients, but also extends to eco-friendly packaging for takeout and delivery, furthering their dedication to a greener planet. With friendly staff, a relaxed atmosphere, and a dedication to serving wholesome, flavorful meals, Sattva Spice is more than just a restaurant—it’s a celebration of India’s rich vegetarian tradition, inviting diners to embark on a culinary journey full of vibrant colors, bold spices, and soulful flavors. Whether you're craving a comforting bowl of dal tadka or an indulgent serving of gulab jamun, Sattva Spice promises an unforgettable dining experience that leaves both the palate and the soul deeply satisfied.\n",
      "Chunk 6: Located in the heart of downtown, Luxe Locks Salon is a modern hair salon that combines expert styling with personalized service to create a truly luxurious experience. Specializing in a wide range of services, from precision haircuts and creative coloring to blowouts and keratin treatments, Luxe Locks is the go-to destination for anyone looking to refresh their look or maintain their style. The salon prides itself on its team of highly trained stylists who are up-to-date with the latest trends and techniques in the industry, ensuring that every client leaves feeling confident and satisfied. Whether you're after a sleek, professional cut or bold, vibrant color, Luxe Locks tailors each service to suit individual preferences and hair types. The atmosphere in the salon is chic and relaxing, with comfortable seating, soothing music, and an inviting ambiance that makes it easy to unwind during your appointment.\n",
      "Chunk 7: The salon uses top-tier, salon-grade products to ensure the best results, offering professional hair care lines for purchase, so clients can maintain their salon-fresh look at home. Luxe Locks is also known for its personalized consultations, where stylists take the time to understand clients' hair goals, lifestyle, and concerns before recommending the perfect cut or treatment. With a commitment to quality, creativity, and customer satisfaction, Luxe Locks Salon has earned a reputation as one of the top salons in the city, where every visit is an opportunity to enhance your style and leave feeling rejuvenated.\n"
     ]
    }
   ],
   "source": [
    "for i, chunk in enumerate(chunks):\n",
    "    print(f\"Chunk {i+1}:\",chunk)\n",
    "    "
   ]
  },
  {
   "cell_type": "code",
   "execution_count": 44,
   "metadata": {},
   "outputs": [],
   "source": [
    "MIN_TOKENS =100\n",
    "MAX_TOKENS =1000\n",
    "splitter = TextSplitter.from_huggingface_tokenizer(tokenizer, capacity=(MIN_TOKENS, MAX_TOKENS))\n",
    "chunks_with_model = splitter.chunks(content)"
   ]
  },
  {
   "cell_type": "code",
   "execution_count": 45,
   "metadata": {},
   "outputs": [
    {
     "name": "stdout",
     "output_type": "stream",
     "text": [
      "Chunk 1: The Bank of Common Man is a community-centric financial institution, designed to empower individuals, families, and small businesses with accessible and straightforward banking solutions. Its mission is to foster financial inclusion by offering a broad range of services tailored to meet the needs of the everyday person. The bank provides savings accounts with no minimum balance requirements, allowing customers to build their financial security from the ground up, alongside checking accounts that feature no monthly maintenance fees and easy ATM access. For those looking to finance major life events, The Bank of Common Man offers personal loans with flexible repayment options and quick approvals. Additionally, the bank plays a pivotal role in making homeownership attainable through affordable mortgages and home loans, with competitive interest rates and personalized assistance throughout the process. Entrepreneurs and small businesses also find a strong partner in the bank’s business loans, designed to fuel growth and manage operational costs. The credit cards provided offer low-interest rates, no annual fees, and reward programs, catering to both personal and business needs. For modern convenience, The Bank of Common Man offers a comprehensive online and mobile banking platform, allowing customers to manage their accounts, transfer funds, deposit checks, and pay bills from the comfort of their homes or on the go. With an emphasis on customer service, transparency, and trust, The Bank of Common Man ensures that every member of the community has access to essential financial tools, helping them manage their money more effectively and achieve long-term financial stability.\n",
      "Chunk 2: Nestled in the heart of the city, Sattva Spice is a vibrant vegetarian restaurant that specializes in authentic Indian cuisine, offering a rich array of flavors inspired by India’s diverse culinary heritage. With a commitment to freshness and quality, every dish is crafted using the finest locally sourced ingredients and traditional Indian spices, ensuring that the food is both nutritious and bursting with flavor. The menu features a delightful variety of options that cater to all palates, from spicy to mild, with a range of dishes inspired by the regional specialties of North and South India. Sattva Spice is well known for its delectable paneer butter masala, a creamy, tangy dish that melts in the mouth, and dosas, crispy rice crepes filled with savory potato masala, served alongside tangy coconut chutney and sambar. For a hearty meal, diners can indulge in the restaurant's signature thalis, a platter of assorted small dishes that offer a full spectrum of tastes, from spicy curries to cooling raita and sweet desserts. The menu also includes chaats, which are flavorful Indian street food snacks like pani puri and bhel puri, providing a lighter yet flavorful option for those seeking a quick bite. The restaurant’s ambiance is warm and welcoming, with colorful décor that reflects the vibrancy of Indian culture, making it a perfect spot for family gatherings, casual meals, or even a cozy dinner for two. Beyond the food, Sattva Spice is deeply committed to sustainability, offering a completely vegetarian menu with many vegan and gluten-free options to cater to a wide range of dietary preferences. The emphasis on plant-based dining doesn’t stop at the ingredients, but also extends to eco-friendly packaging for takeout and delivery, furthering their dedication to a greener planet. With friendly staff, a relaxed atmosphere, and a dedication to serving wholesome, flavorful meals, Sattva Spice is more than just a restaurant—it’s a celebration of India’s rich vegetarian tradition, inviting diners to embark on a culinary journey full of vibrant colors, bold spices, and soulful flavors. Whether you're craving a comforting bowl of dal tadka or an indulgent serving of gulab jamun, Sattva Spice promises an unforgettable dining experience that leaves both the palate and the soul deeply satisfied.\n",
      "Chunk 3: Located in the heart of downtown, Luxe Locks Salon is a modern hair salon that combines expert styling with personalized service to create a truly luxurious experience. Specializing in a wide range of services, from precision haircuts and creative coloring to blowouts and keratin treatments, Luxe Locks is the go-to destination for anyone looking to refresh their look or maintain their style. The salon prides itself on its team of highly trained stylists who are up-to-date with the latest trends and techniques in the industry, ensuring that every client leaves feeling confident and satisfied.\n",
      "Chunk 4: Whether you're after a sleek, professional cut or bold, vibrant color, Luxe Locks tailors each service to suit individual preferences and hair types. The atmosphere in the salon is chic and relaxing, with comfortable seating, soothing music, and an inviting ambiance that makes it easy to unwind during your appointment. The salon uses top-tier, salon-grade products to ensure the best results, offering professional hair care lines for purchase, so clients can maintain their salon-fresh look at home.\n",
      "Chunk 5: Luxe Locks is also known for its personalized consultations, where stylists take the time to understand clients' hair goals, lifestyle, and concerns before recommending the perfect cut or treatment. With a commitment to quality, creativity, and customer satisfaction, Luxe Locks Salon has earned a reputation as one of the top salons in the city, where every visit is an opportunity to enhance your style and leave feeling rejuvenated.\n"
     ]
    }
   ],
   "source": [
    "for i, chunk in enumerate(chunks_with_model):\n",
    "    print(f\"Chunk {i+1}:\",chunk)"
   ]
  },
  {
   "cell_type": "markdown",
   "metadata": {},
   "source": [
    "# Visualize\n",
    "### How good are embeddings based on the sematic-text-splitter"
   ]
  },
  {
   "cell_type": "code",
   "execution_count": 47,
   "metadata": {},
   "outputs": [],
   "source": [
    "from langchain_openai import OpenAIEmbeddings\n",
    "import os\n",
    "from dotenv import load_dotenv\n",
    "load_dotenv()\n",
    "embeddings = OpenAIEmbeddings(model=\"text-embedding-3-large\")"
   ]
  },
  {
   "cell_type": "code",
   "execution_count": 48,
   "metadata": {},
   "outputs": [],
   "source": [
    "embeddings_with_no_model = [embeddings.embed_query(chunk) for chunk in chunks_no_model]\n",
    "embeddings_with_model = [embeddings.embed_query(chunk) for chunk in chunks_with_model]\n",
    "query = \"What are the services offered in the bank?\"\n",
    "question = embeddings.embed_query(query)"
   ]
  },
  {
   "cell_type": "code",
   "execution_count": 50,
   "metadata": {},
   "outputs": [],
   "source": [
    "from sklearn.metrics.pairwise import cosine_similarity\n",
    "cos_sim_no_model = [cosine_similarity([question],[emb])[0][0] for emb in embeddings_with_no_model]\n",
    "cos_sim_with_model = [cosine_similarity([question],[emb])[0][0] for emb in embeddings_with_model]"
   ]
  },
  {
   "cell_type": "code",
   "execution_count": 53,
   "metadata": {},
   "outputs": [
    {
     "data": {
      "image/png": "[encoded data removed]",
      "text/plain": [
       "<Figure size 1200x600 with 2 Axes>"
      ]
     },
     "metadata": {},
     "output_type": "display_data"
    }
   ],
   "source": [
    "import matplotlib.pyplot as plt\n",
    "\n",
    "plt.figure(figsize=(12,6))\n",
    "plt.subplot(1, 2, 1)\n",
    "plt.bar(range(len(cos_sim_no_model)),cos_sim_no_model)\n",
    "plt.title(\"Cosine Similarity without Model\")\n",
    "plt.xlabel(\"Vector Index\")\n",
    "plt.ylabel(\"Cosine Similarity\")\n",
    "plt.ylim(0,1)\n",
    "\n",
    "plt.subplot(1, 2, 2)\n",
    "plt.bar(range(len(cos_sim_with_model)),cos_sim_with_model)\n",
    "plt.title(\"Cosine Similarity with Model\")\n",
    "plt.xlabel(\"Vector Index\")\n",
    "plt.ylabel(\"Cosine Similarity\")\n",
    "plt.ylim(0, 1)\n",
    "plt.tight_layout()\n",
    "plt.show()"
   ]
  }
 ],
 "metadata": {
  "kernelspec": {
   "display_name": "venv",
   "language": "python",
   "name": "python3"
  },
  "language_info": {
   "codemirror_mode": {
    "name": "ipython",
    "version": 3
   },
   "file_extension": ".py",
   "mimetype": "text/x-python",
   "name": "python",
   "nbconvert_exporter": "python",
   "pygments_lexer": "ipython3",
   "version": "3.12.3"
  }
 },
 "nbformat": 4,
 "nbformat_minor": 2
}
