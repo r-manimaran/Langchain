{
 "cells": [
  {
   "cell_type": "code",
   "execution_count": 9,
   "metadata": {},
   "outputs": [
    {
     "data": {
      "text/plain": [
       "True"
      ]
     },
     "execution_count": 9,
     "metadata": {},
     "output_type": "execute_result"
    }
   ],
   "source": [
    "from langchain.chains import LLMChain, TransformChain, SequentialChain, SimpleSequentialChain\n",
    "from langchain.prompts import PromptTemplate\n",
    "from langchain.llms import OpenAI\n",
    "from dotenv import load_dotenv\n",
    "load_dotenv()"
   ]
  },
  {
   "cell_type": "code",
   "execution_count": 3,
   "metadata": {},
   "outputs": [],
   "source": [
    "def transform_func(inputs:dict) -> dict:\n",
    "    text = inputs['text']\n",
    "    shortened_text = \"\\n\\n\".join(text.split(\"\\n\\n\")[:3])\n",
    "    return {\"output_text\": shortened_text}\n"
   ]
  },
  {
   "cell_type": "code",
   "execution_count": 2,
   "metadata": {},
   "outputs": [],
   "source": [
    "with open(\"AboutLangchain.txt\") as f:\n",
    "    about_langchain = f.read()"
   ]
  },
  {
   "cell_type": "code",
   "execution_count": 4,
   "metadata": {},
   "outputs": [
    {
     "data": {
      "text/plain": [
       "\"LangChain is an open-source framework designed to build applications that integrate with large language models (LLMs) more efficiently. It enables developers to create chatbots, assistants, or automation tools by connecting LLMs with other data sources such as APIs, databases, and external tools. LangChain provides modular components that streamline tasks like document analysis, question-answering, and workflow automation. It allows developers to customize pipelines, manage conversational memory, and perform complex data retrieval using LLMs. The framework supports integrations with popular cloud platforms and databases like AWS, Google Cloud, Pinecone, and more. LangChainâ€™s utility spans several industries, from finance to healthcare, helping create specialized AI solutions. Its built-in prompts, template management, and token handling features offer enhanced flexibility and efficiency for development. The framework also offers agent-based systems, which allow LLMs to take dynamic actions based on external information. LangChain has become a key tool in leveraging generative AI for real-world business applications. It's especially useful for creating multi-step workflows involving large datasets and decision-making processes.\""
      ]
     },
     "execution_count": 4,
     "metadata": {},
     "output_type": "execute_result"
    }
   ],
   "source": [
    "about_langchain"
   ]
  },
  {
   "cell_type": "code",
   "execution_count": 5,
   "metadata": {},
   "outputs": [],
   "source": [
    "transform_chain = TransformChain(input_variables=[\"text\"], output_variables=[\"output_text\"],\n",
    "transform = transform_func)"
   ]
  },
  {
   "cell_type": "code",
   "execution_count": 7,
   "metadata": {},
   "outputs": [
    {
     "name": "stderr",
     "output_type": "stream",
     "text": [
      "c:\\Maran\\StudyMaterials\\Git\\LangChain\\chains\\venv\\Lib\\site-packages\\langchain_core\\_api\\deprecation.py:139: LangChainDeprecationWarning: The class `OpenAI` was deprecated in LangChain 0.0.10 and will be removed in 0.3.0. An updated version of the class exists in the langchain-openai package and should be used instead. To use it run `pip install -U langchain-openai` and import as `from langchain_openai import OpenAI`.\n",
      "  warn_deprecated(\n",
      "c:\\Maran\\StudyMaterials\\Git\\LangChain\\chains\\venv\\Lib\\site-packages\\langchain_core\\_api\\deprecation.py:139: LangChainDeprecationWarning: The class `LLMChain` was deprecated in LangChain 0.1.17 and will be removed in 1.0. Use RunnableSequence, e.g., `prompt | llm` instead.\n",
      "  warn_deprecated(\n"
     ]
    }
   ],
   "source": [
    "template = \"\"\"Summarize this text: \n",
    "{output_text}\n",
    "Summary:\n",
    "\"\"\"\n",
    "prompt = PromptTemplate(template=template, input_variables=[\"output_text\"])\n",
    "llm = OpenAI(temperature=0.7)\n",
    "llm_chain = LLMChain(llm=llm, prompt=prompt)"
   ]
  },
  {
   "cell_type": "code",
   "execution_count": 11,
   "metadata": {},
   "outputs": [
    {
     "data": {
      "text/plain": [
       "{'input': \"LangChain is an open-source framework designed to build applications that integrate with large language models (LLMs) more efficiently. It enables developers to create chatbots, assistants, or automation tools by connecting LLMs with other data sources such as APIs, databases, and external tools. LangChain provides modular components that streamline tasks like document analysis, question-answering, and workflow automation. It allows developers to customize pipelines, manage conversational memory, and perform complex data retrieval using LLMs. The framework supports integrations with popular cloud platforms and databases like AWS, Google Cloud, Pinecone, and more. LangChainâ€™s utility spans several industries, from finance to healthcare, helping create specialized AI solutions. Its built-in prompts, template management, and token handling features offer enhanced flexibility and efficiency for development. The framework also offers agent-based systems, which allow LLMs to take dynamic actions based on external information. LangChain has become a key tool in leveraging generative AI for real-world business applications. It's especially useful for creating multi-step workflows involving large datasets and decision-making processes.\",\n",
       " 'output': 'LangChain is an open-source framework that allows developers to efficiently integrate with large language models for building chatbots, assistants, and automation tools. It offers modular components for tasks like document analysis and question-answering and supports integrations with popular cloud platforms and databases. LangChain is used in various industries and offers features like template management and agent-based systems for enhanced flexibility and efficiency in development. It is particularly useful for creating complex workflows and leveraging generative AI in business applications.'}"
      ]
     },
     "execution_count": 11,
     "metadata": {},
     "output_type": "execute_result"
    }
   ],
   "source": [
    "sequential_chain = SimpleSequentialChain(chains=[transform_chain,llm_chain])\n",
    "output = sequential_chain.invoke(about_langchain)\n",
    "output"
   ]
  },
  {
   "cell_type": "markdown",
   "metadata": {},
   "source": [
    "Here is the trace in the Langsmith\n",
    "![alt text](image-1.png)"
   ]
  }
 ],
 "metadata": {
  "kernelspec": {
   "display_name": "venv",
   "language": "python",
   "name": "python3"
  },
  "language_info": {
   "codemirror_mode": {
    "name": "ipython",
    "version": 3
   },
   "file_extension": ".py",
   "mimetype": "text/x-python",
   "name": "python",
   "nbconvert_exporter": "python",
   "pygments_lexer": "ipython3",
   "version": "3.12.3"
  }
 },
 "nbformat": 4,
 "nbformat_minor": 2
}
