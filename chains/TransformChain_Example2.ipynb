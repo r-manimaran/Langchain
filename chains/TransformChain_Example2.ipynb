{
 "cells": [
  {
   "cell_type": "code",
   "execution_count": 5,
   "metadata": {},
   "outputs": [
    {
     "data": {
      "text/plain": [
       "True"
      ]
     },
     "execution_count": 5,
     "metadata": {},
     "output_type": "execute_result"
    }
   ],
   "source": [
    "from langchain.chains import LLMChain, SequentialChain, TransformChain\n",
    "from langchain.prompts import PromptTemplate\n",
    "from dotenv import load_dotenv\n",
    "load_dotenv()"
   ]
  },
  {
   "cell_type": "code",
   "execution_count": 2,
   "metadata": {},
   "outputs": [],
   "source": [
    "# Define a Transformation funtion\n",
    "def preprocess_text(input_data):\n",
    "    text = input_data['text']\n",
    "    #lowercasing and removing punctuation\n",
    "    processed_text = text.lower().replace('.', '').replace(',', '').replace('!', '').replace('?', '')\n",
    "    return {'processed_text': processed_text}"
   ]
  },
  {
   "cell_type": "code",
   "execution_count": 10,
   "metadata": {},
   "outputs": [],
   "source": [
    "def extract_entities(input_data):\n",
    "    text = input_data['processed_text']\n",
    "    entities = [{\"entity\":\"LangChain\",\"type\":\"Library\"}] if \"langchain\" in text else [{\"entity\":\"Others\",\"type\":\"OTHER\"}]\n",
    "    return {\"entities\": entities}\n"
   ]
  },
  {
   "cell_type": "code",
   "execution_count": 4,
   "metadata": {},
   "outputs": [],
   "source": [
    "def analyze_sentiment(input_data):\n",
    "    text = input_data[\"processed_text\"]\n",
    "    sentiment = \"positive\" if \"powerful\" in text else \"neutral\"\n",
    "    return {\"sentiment\": sentiment}\n"
   ]
  },
  {
   "cell_type": "code",
   "execution_count": 11,
   "metadata": {},
   "outputs": [],
   "source": [
    "#Create individual Transform chain\n",
    "preprocess_chain = TransformChain( input_variables =[\"text\"], \n",
    "                                   output_variables = [\"processed_text\"], \n",
    "                                   transform = preprocess_text)\n",
    "\n",
    "entities_chain = TransformChain( input_variables =[\"processed_text\"],\n",
    "                                 output_variables = [\"entities\"],\n",
    "                                 transform = extract_entities)\n",
    "\n",
    "sentiment_chain = TransformChain( input_variables =[\"processed_text\"],\n",
    "                                  output_variables = [\"sentiment\"],\n",
    "                                  transform = analyze_sentiment)"
   ]
  },
  {
   "cell_type": "code",
   "execution_count": 12,
   "metadata": {},
   "outputs": [],
   "source": [
    "# combine them in Sequential chain\n",
    "complex_chain = SequentialChain(\n",
    "    chains =[preprocess_chain, entities_chain,sentiment_chain],\n",
    "    input_variables = ['text'],\n",
    "    output_variables = ['processed_text','entities','sentiment']\n",
    ")"
   ]
  },
  {
   "cell_type": "code",
   "execution_count": 13,
   "metadata": {},
   "outputs": [],
   "source": [
    "#Example Input\n",
    "input_data ={\"text\":\"Langchain is the powerful framework for building LLM applications.\"}"
   ]
  },
  {
   "cell_type": "code",
   "execution_count": 14,
   "metadata": {},
   "outputs": [
    {
     "name": "stdout",
     "output_type": "stream",
     "text": [
      "{'text': 'Langchain is the powerful framework for building LLM applications.', 'processed_text': 'langchain is the powerful framework for building llm applications', 'entities': [{'entity': 'LangChain', 'type': 'Library'}], 'sentiment': 'positive'}\n"
     ]
    }
   ],
   "source": [
    "output = complex_chain(input_data)\n",
    "print(output)"
   ]
  }
 ],
 "metadata": {
  "kernelspec": {
   "display_name": "venv",
   "language": "python",
   "name": "python3"
  },
  "language_info": {
   "codemirror_mode": {
    "name": "ipython",
    "version": 3
   },
   "file_extension": ".py",
   "mimetype": "text/x-python",
   "name": "python",
   "nbconvert_exporter": "python",
   "pygments_lexer": "ipython3",
   "version": "3.12.3"
  }
 },
 "nbformat": 4,
 "nbformat_minor": 2
}
