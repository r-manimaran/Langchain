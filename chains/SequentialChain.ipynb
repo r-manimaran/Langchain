{
 "cells": [
  {
   "cell_type": "markdown",
   "metadata": {},
   "source": [
    "# Sequential chains\n",
    "- Another type of chains. It helps to combine multiple chains where the output of the one chain is the input of the next chain.\n",
    "- Two types of Sequential chains\n",
    "  - SimpleSequentialChain : Single input/output\n",
    "  - SequentialChain : multiple input/output"
   ]
  },
  {
   "cell_type": "code",
   "execution_count": 8,
   "metadata": {},
   "outputs": [
    {
     "data": {
      "text/plain": [
       "True"
      ]
     },
     "execution_count": 8,
     "metadata": {},
     "output_type": "execute_result"
    }
   ],
   "source": [
    "from langchain.chains import SimpleSequentialChain, LLMChain\n",
    "from langchain_openai import ChatOpenAI\n",
    "from langchain.prompts import ChatPromptTemplate\n",
    "from dotenv import load_dotenv, find_dotenv\n",
    "from langchain_core.output_parsers import StrOutputParser\n",
    "\n",
    "load_dotenv(find_dotenv())"
   ]
  },
  {
   "cell_type": "code",
   "execution_count": 3,
   "metadata": {},
   "outputs": [],
   "source": [
    "llm = ChatOpenAI(model_name=\"gpt-4o-mini\", temperature=0.9)"
   ]
  },
  {
   "cell_type": "code",
   "execution_count": 15,
   "metadata": {},
   "outputs": [],
   "source": [
    "#Prompt Template 1\n",
    "first_prompt = ChatPromptTemplate.from_template(\"What is the best name to describe a company that makes {product}. Provide just 1 best name\")\n",
    "\n",
    "#Chain 1\n",
    "chain_one = LLMChain(llm=llm, prompt=first_prompt)"
   ]
  },
  {
   "cell_type": "code",
   "execution_count": 16,
   "metadata": {},
   "outputs": [],
   "source": [
    "# Prompt Templte 2\n",
    "second_prompt = ChatPromptTemplate.from_template(\"Write a 20 words description for the company {company}\")\n",
    "chain_two = LLMChain(llm=llm, prompt=second_prompt)"
   ]
  },
  {
   "cell_type": "code",
   "execution_count": 17,
   "metadata": {},
   "outputs": [],
   "source": [
    "final_simple_chain = SimpleSequentialChain(chains=[chain_one, chain_two], verbose=True)"
   ]
  },
  {
   "cell_type": "code",
   "execution_count": 18,
   "metadata": {},
   "outputs": [
    {
     "name": "stdout",
     "output_type": "stream",
     "text": [
      "\n",
      "\n",
      "\u001b[1m> Entering new SimpleSequentialChain chain...\u001b[0m\n",
      "\u001b[36;1m\u001b[1;3m\"RegalRest Linens\"\u001b[0m\n",
      "\u001b[33;1m\u001b[1;3mRegalRest Linens specializes in luxurious bedding and linens, offering unparalleled comfort and quality for a regal sleeping experience at home.\u001b[0m\n",
      "\n",
      "\u001b[1m> Finished chain.\u001b[0m\n"
     ]
    },
    {
     "data": {
      "text/plain": [
       "{'input': 'Queen Size Sheet set',\n",
       " 'output': 'RegalRest Linens specializes in luxurious bedding and linens, offering unparalleled comfort and quality for a regal sleeping experience at home.'}"
      ]
     },
     "execution_count": 18,
     "metadata": {},
     "output_type": "execute_result"
    }
   ],
   "source": [
    "final_simple_chain.invoke(\"Queen Size Sheet set\")"
   ]
  },
  {
   "cell_type": "code",
   "execution_count": 19,
   "metadata": {},
   "outputs": [],
   "source": [
    "# Sequential chain\n",
    "from langchain.chains import SequentialChain"
   ]
  },
  {
   "cell_type": "code",
   "execution_count": 20,
   "metadata": {},
   "outputs": [],
   "source": [
    "llm = ChatOpenAI(model=\"gpt-4o-mini\",temperature=0.9)\n",
    "\n",
    "#prompt 1\n",
    "prompt1 = ChatPromptTemplate.from_template(\"\"\"\n",
    "                                           Translate the followig review to english:\n",
    "                                           \\n\\n \n",
    "                                           {Review}\"\"\")\n",
    "#chain1\n",
    "chain1 = LLMChain(llm=llm, prompt=prompt1, output_key=\"English_Review\")"
   ]
  },
  {
   "cell_type": "code",
   "execution_count": 21,
   "metadata": {},
   "outputs": [],
   "source": [
    "prompt2 = ChatPromptTemplate.from_template(\"\"\" Find the Language of the below review. \n",
    "                                           \\n\n",
    "                                           Review:{Review}\"\"\")\n",
    "chain2 = LLMChain(llm=llm, prompt=prompt2, output_key=\"Language\")"
   ]
  },
  {
   "cell_type": "code",
   "execution_count": 22,
   "metadata": {},
   "outputs": [],
   "source": [
    "prompt3 = ChatPromptTemplate.from_template(\"\"\"Please summarize the below review in 1 sentence. \n",
    "                                           Ensure the core content of the review is not missed \n",
    "                                           \\n\n",
    "                                           Review:{English_Review}\"\"\")\n",
    "chain3 = LLMChain(llm=llm, prompt=prompt3, output_key=\"Summary\")"
   ]
  },
  {
   "cell_type": "code",
   "execution_count": 23,
   "metadata": {},
   "outputs": [],
   "source": [
    "prompt4 = ChatPromptTemplate.from_template(\"\"\" Write a respose for the review for the below summary in the specified language\n",
    "                                           \\n\\n\n",
    "                                           Summary:{Summary}\n",
    "                                           \\n\n",
    "                                           Language:{Language}\"\"\")\n",
    "chain4= LLMChain(llm=llm, prompt=prompt4,output_key='response')"
   ]
  },
  {
   "cell_type": "code",
   "execution_count": 24,
   "metadata": {},
   "outputs": [],
   "source": [
    "final_chain = SequentialChain(chains =[chain1,chain2,chain3,chain4],\n",
    "                            input_variables=['Review'],\n",
    "                            output_variables=['English_Review', 'Summary','Language','response'],\n",
    "                            verbose=True)\n"
   ]
  },
  {
   "cell_type": "code",
   "execution_count": 25,
   "metadata": {},
   "outputs": [],
   "source": [
    "review = \"\"\"Avis: Je suis déçu par cette chemise. La coupe est trop serrée, bien que j'aie commandé ma taille habituelle. Le tissu est rigide et inconfortable, surtout après le lavage. La qualité ne vaut pas le prix. Je ne recommande pas cet achat.\"\"\""
   ]
  },
  {
   "cell_type": "code",
   "execution_count": 26,
   "metadata": {},
   "outputs": [
    {
     "name": "stderr",
     "output_type": "stream",
     "text": [
      "c:\\Maran\\StudyMaterials\\Git\\LangChain\\chains\\venv\\Lib\\site-packages\\langchain_core\\_api\\deprecation.py:139: LangChainDeprecationWarning: The method `Chain.__call__` was deprecated in langchain 0.1.0 and will be removed in 0.3.0. Use invoke instead.\n",
      "  warn_deprecated(\n"
     ]
    },
    {
     "name": "stdout",
     "output_type": "stream",
     "text": [
      "\n",
      "\n",
      "\u001b[1m> Entering new SequentialChain chain...\u001b[0m\n",
      "\n",
      "\u001b[1m> Finished chain.\u001b[0m\n"
     ]
    },
    {
     "data": {
      "text/plain": [
       "{'Review': \"Avis: Je suis déçu par cette chemise. La coupe est trop serrée, bien que j'aie commandé ma taille habituelle. Le tissu est rigide et inconfortable, surtout après le lavage. La qualité ne vaut pas le prix. Je ne recommande pas cet achat.\",\n",
       " 'English_Review': 'Review: I am disappointed with this shirt. The fit is too tight, even though I ordered my usual size. The fabric is stiff and uncomfortable, especially after washing. The quality is not worth the price. I do not recommend this purchase.',\n",
       " 'Summary': 'The shirt is disappointing due to its tight fit, stiff and uncomfortable fabric after washing, and poor quality relative to its price, leading to a lack of recommendation.',\n",
       " 'Language': 'The language of the review is French.',\n",
       " 'response': \"Merci pour votre retour concernant la chemise. Nous sommes désolés d'apprendre que vous avez été déçu par l'ajustement et le confort du tissu après lavage. Votre expérience est importante pour nous, et nous apprécions vos commentaires sur la qualité. Nous allons prendre en compte vos remarques pour améliorer nos produits à l'avenir. Si vous avez d'autres préoccupations, n'hésitez pas à nous contacter.\"}"
      ]
     },
     "execution_count": 26,
     "metadata": {},
     "output_type": "execute_result"
    }
   ],
   "source": [
    "final_chain(review)"
   ]
  }
 ],
 "metadata": {
  "kernelspec": {
   "display_name": "venv",
   "language": "python",
   "name": "python3"
  },
  "language_info": {
   "codemirror_mode": {
    "name": "ipython",
    "version": 3
   },
   "file_extension": ".py",
   "mimetype": "text/x-python",
   "name": "python",
   "nbconvert_exporter": "python",
   "pygments_lexer": "ipython3",
   "version": "3.12.3"
  }
 },
 "nbformat": 4,
 "nbformat_minor": 2
}
