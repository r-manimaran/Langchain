{
 "cells": [
  {
   "cell_type": "code",
   "execution_count": 1,
   "metadata": {},
   "outputs": [
    {
     "data": {
      "text/plain": [
       "True"
      ]
     },
     "execution_count": 1,
     "metadata": {},
     "output_type": "execute_result"
    }
   ],
   "source": [
    "from dotenv import load_dotenv, find_dotenv\n",
    "load_dotenv(find_dotenv())"
   ]
  },
  {
   "cell_type": "code",
   "execution_count": 12,
   "metadata": {},
   "outputs": [],
   "source": [
    "from langchain_openai import ChatOpenAI\n",
    "from langchain_core.prompts import ChatPromptTemplate\n",
    "from langchain_core.output_parsers import StrOutputParser\n",
    "from langchain.chains import RouterChain, LLMChain"
   ]
  },
  {
   "cell_type": "code",
   "execution_count": 5,
   "metadata": {},
   "outputs": [],
   "source": [
    "# Different Prompt Template\n",
    "math_template =\"\"\" You are a helpful mathematician. You are good in solving the math problem and explain the solution in step by step.\n",
    "                 Help to solve the below input maths problem.\n",
    "                 \\n\\n\n",
    "                 {input}\"\"\"\n",
    "\n",
    "science_template =\"\"\" You are a helpful scientist. You are good in solving the science problem and explain back in step by step.\n",
    "                 Help to solve the below input science problem.\n",
    "                 \\n\\n\n",
    "                 {input}\"\"\"\n",
    "computer_template =\"\"\" You are a helpful computer programmer. You are good in solving the computer problem and explain with a sample program.\n",
    "                 Help to solve the below input computer problem.\n",
    "                 \\n\\n\n",
    "                 {input}\"\"\"\n",
    "history_template =\"\"\" You are a helpful history teacher. You are good in explaining the history event.\n",
    "                 Help with the below input history question.\n",
    "                 \\n\\n\n",
    "                 {input}\"\"\""
   ]
  },
  {
   "cell_type": "code",
   "execution_count": 60,
   "metadata": {},
   "outputs": [],
   "source": [
    "prompt_infos = [\n",
    "{\n",
    "    \"name\":\"science\",\n",
    "    \"description\":\"Good for answering questions about science\",\n",
    "    \"prompt_template\":science_template\n",
    "}, \n",
    "{\n",
    "    \"name\":\"history\",\n",
    "    \"description\":\"Good for answering questions about history\",\n",
    "    \"prompt_template\":history_template\n",
    "}, \n",
    "{\n",
    "    \"name\":\"math\",\n",
    "    \"description\":\"Good for answering questions about maths problems\",\n",
    "    \"prompt_template\":math_template\n",
    "},\n",
    "{ \n",
    "    \"name\":\"computerscience\",\n",
    "    \"description\": \"Good for answering questions about computer science\",\n",
    "    \"prompt_template\":computer_template\n",
    "}\n",
    "]"
   ]
  },
  {
   "cell_type": "code",
   "execution_count": 9,
   "metadata": {},
   "outputs": [],
   "source": [
    "from langchain.chains.router import MultiPromptChain\n",
    "from langchain.prompts import PromptTemplate\n",
    "from langchain.chains.router.llm_router import LLMRouterChain,RouterOutputParser\n"
   ]
  },
  {
   "cell_type": "code",
   "execution_count": 10,
   "metadata": {},
   "outputs": [],
   "source": [
    "llm = ChatOpenAI(model=\"gpt-4o-mini\",temperature=0.5)\n"
   ]
  },
  {
   "cell_type": "code",
   "execution_count": 61,
   "metadata": {},
   "outputs": [],
   "source": [
    "destination_chains ={}\n",
    "for p_info in prompt_infos:\n",
    "    name = p_info[\"name\"]\n",
    "    prompt_template = p_info[\"prompt_template\"]\n",
    "    prompt = ChatPromptTemplate.from_template(template = prompt_template)\n",
    "    llm_chain = LLMChain(llm=llm, prompt=prompt)\n",
    "    destination_chains[name] = llm_chain\n",
    "\n",
    "    destinations =[f\"{p['name']}: {p['description']}\" for p in prompt_infos]\n",
    "    destinations_str = \"\\n\".join(destinations)\n",
    "   "
   ]
  },
  {
   "cell_type": "code",
   "execution_count": 62,
   "metadata": {},
   "outputs": [],
   "source": [
    "default_prompt = ChatPromptTemplate.from_template(\"{input}\")\n",
    "default_chain = LLMChain(llm=llm, prompt=default_prompt)"
   ]
  },
  {
   "cell_type": "code",
   "execution_count": 77,
   "metadata": {},
   "outputs": [],
   "source": [
    "Multi_prompt_Router_Template =\"\"\" Given a raw text input to a language model select a appropriate model prompt that best suite for. \n",
    "Feel free to revise the original input if the input need revising for better response from language model.\n",
    "<<FORMATTING>>\n",
    "Return markdown code snippet with a json object formatted to look like\n",
    "```json\n",
    "{{{{\n",
    "    \"destination\" : string  name of the prompt used,\n",
    "    \"next_inputs\" : string  modified version of original input \n",
    "}}}}\n",
    "```\n",
    "\n",
    "Remember \"destinations\" must be one of the candidate prompt specified below or it wil be \"Default\"\n",
    "<<END_OF_FORMATTING>>\n",
    "{destinations}\n",
    "<<Input>>\n",
    "{{input}}\n",
    "\n",
    "<< Output (remember to include the markdown code block and ```json) >>\"\"\"\n"
   ]
  },
  {
   "cell_type": "code",
   "execution_count": 78,
   "metadata": {},
   "outputs": [],
   "source": [
    "router_template = Multi_prompt_Router_Template.format(\n",
    "    destinations = destinations_str\n",
    ")\n",
    "router_prompt = PromptTemplate(\n",
    "    input_variables=[\"input\"],\n",
    "    template=router_template,\n",
    "    output_parser= RouterOutputParser()\n",
    ")"
   ]
  },
  {
   "cell_type": "code",
   "execution_count": 79,
   "metadata": {},
   "outputs": [],
   "source": [
    "router_chain = LLMRouterChain.from_llm(llm, router_prompt)"
   ]
  },
  {
   "cell_type": "code",
   "execution_count": 80,
   "metadata": {},
   "outputs": [],
   "source": [
    "chain = MultiPromptChain(router_chain= router_chain,\n",
    "                         destination_chains=destination_chains,\n",
    "                         default_chain= default_chain,\n",
    "                         verbose= True)"
   ]
  },
  {
   "cell_type": "code",
   "execution_count": 67,
   "metadata": {},
   "outputs": [
    {
     "name": "stdout",
     "output_type": "stream",
     "text": [
      "\n",
      "\n",
      "\u001b[1m> Entering new MultiPromptChain chain...\u001b[0m\n",
      "math: {'input': 'What is the sum of 2 and 2?'}\n",
      "\u001b[1m> Finished chain.\u001b[0m\n"
     ]
    },
    {
     "data": {
      "text/plain": [
       "'To solve the problem of finding the sum of 2 and 2, we can follow these simple steps:\\n\\n1. **Identify the Numbers**: We have two numbers to add: 2 and 2.\\n\\n2. **Set Up the Addition**: We can write this as:\\n   \\\\[\\n   2 + 2\\n   \\\\]\\n\\n3. **Perform the Addition**: Now, we add the two numbers together:\\n   - Start with the first number, which is 2.\\n   - Then, add the second number, which is also 2.\\n   - So, we calculate:\\n   \\\\[\\n   2 + 2 = 4\\n   \\\\]\\n\\n4. **Conclusion**: The sum of 2 and 2 is 4.\\n\\nThus, the final answer is:\\n\\\\[\\n\\\\text{The sum of 2 and 2 is } 4.\\n\\\\]'"
      ]
     },
     "execution_count": 67,
     "metadata": {},
     "output_type": "execute_result"
    }
   ],
   "source": [
    "chain.run(\"what is 2+2?\")"
   ]
  },
  {
   "cell_type": "code",
   "execution_count": 68,
   "metadata": {},
   "outputs": [
    {
     "name": "stdout",
     "output_type": "stream",
     "text": [
      "\n",
      "\n",
      "\u001b[1m> Entering new MultiPromptChain chain...\u001b[0m\n",
      "computerscience: {'input': \"What does the command 'python3 -m venv venv' do?\"}\n",
      "\u001b[1m> Finished chain.\u001b[0m\n"
     ]
    },
    {
     "data": {
      "text/plain": [
       "\"The command `python3 -m venv venv` is used to create a virtual environment in Python. Let's break down what each part of the command does:\\n\\n1. **`python3`**: This specifies that you want to use Python 3 to run the command. If you have multiple versions of Python installed, this ensures that you're using Python 3.\\n\\n2. **`-m venv`**: The `-m` flag tells Python to run a module as a script. In this case, the module is `venv`, which is responsible for creating virtual environments.\\n\\n3. **`venv`**: This is the name of the directory that will be created to hold the virtual environment. You can name it anything you like, but it's common to name it `venv` or `.venv`.\\n\\n### What is a Virtual Environment?\\n\\nA virtual environment is an isolated environment in which you can install packages and dependencies for a specific project without affecting the global Python installation or other projects. This is especially useful when different projects require different versions of libraries.\\n\\n### Sample Program\\n\\nHere’s a step-by-step example of how to create and use a virtual environment:\\n\\n1. **Open your terminal or command prompt.**\\n\\n2. **Navigate to your project directory** (or create a new one):\\n   ```bash\\n   mkdir my_project\\n   cd my_project\\n   ```\\n\\n3. **Create a virtual environment**:\\n   ```bash\\n   python3 -m venv venv\\n   ```\\n   This creates a directory named `venv` in your project folder, containing a copy of the Python interpreter and a `lib` directory for your packages.\\n\\n4. **Activate the virtual environment**:\\n   - On **Windows**:\\n     ```bash\\n     venv\\\\Scripts\\\\activate\\n     ```\\n   - On **macOS/Linux**:\\n     ```bash\\n     source venv/bin/activate\\n     ```\\n\\n   After activation, your terminal prompt will change to indicate that you are now working inside the virtual environment.\\n\\n5. **Install packages** (for example, `requests`):\\n   ```bash\\n   pip install requests\\n   ```\\n\\n6. **Use your installed packages** in a Python script:\\n   Create a file named `app.py` with the following content:\\n   ```python\\n   import requests\\n\\n   response = requests.get('https://api.github.com')\\n   print(response.json())\\n   ```\\n\\n7. **Run your script**:\\n   ```bash\\n   python app.py\\n   ```\\n\\n8. **Deactivate the virtual environment** when you're done:\\n   ```bash\\n   deactivate\\n   ```\\n\\n### Summary\\n\\nThe command `python3 -m venv venv` is a powerful tool for managing project dependencies in isolated environments. This helps prevent version conflicts and keeps your global Python environment clean.\""
      ]
     },
     "execution_count": 68,
     "metadata": {},
     "output_type": "execute_result"
    }
   ],
   "source": [
    "chain.run(\"what this command will do: python3 -m venv venv\")"
   ]
  },
  {
   "cell_type": "code",
   "execution_count": 69,
   "metadata": {},
   "outputs": [
    {
     "name": "stdout",
     "output_type": "stream",
     "text": [
      "\n",
      "\n",
      "\u001b[1m> Entering new MultiPromptChain chain...\u001b[0m\n",
      "history: {'input': 'What is the significance of US Independence Day?'}\n",
      "\u001b[1m> Finished chain.\u001b[0m\n"
     ]
    },
    {
     "data": {
      "text/plain": [
       "\"US Independence Day, celebrated on July 4th, marks the adoption of the Declaration of Independence in 1776, when the thirteen American colonies declared their independence from British rule. The significance of this day can be understood through several key points:\\n\\n1. **Foundational Moment**: Independence Day represents the birth of the United States as a sovereign nation. The Declaration of Independence articulated the colonies' desire to break free from British rule and established the principles of individual liberty and government by consent.\\n\\n2. **Symbol of Freedom**: The day symbolizes the struggle for freedom and democracy. It reflects the values of liberty, equality, and the right to self-governance, which have inspired many other nations and movements around the world.\\n\\n3. **Civic Identity**: Independence Day fosters a sense of national identity and unity among Americans. Celebrations often include parades, fireworks, and community events, reinforcing a shared history and collective pride in the nation's achievements and ideals.\\n\\n4. **Historical Reflection**: The day serves as an opportunity for reflection on the nation's history, including the ongoing challenges related to civil rights and social justice. It prompts discussions about the meaning of freedom and equality in contemporary society.\\n\\n5. **Global Impact**: The Declaration of Independence has had a profound influence beyond the United States, inspiring various democratic movements and revolutions across the globe, as it articulates universal principles that resonate with people seeking freedom and justice.\\n\\nIn summary, US Independence Day is significant not only as a historical event marking the establishment of the United States but also as a celebration of the enduring ideals of freedom and democracy that continue to shape the nation and inspire others around the world.\""
      ]
     },
     "execution_count": 69,
     "metadata": {},
     "output_type": "execute_result"
    }
   ],
   "source": [
    "chain.run(\"US Independance Day\")"
   ]
  },
  {
   "cell_type": "code",
   "execution_count": 81,
   "metadata": {},
   "outputs": [
    {
     "name": "stdout",
     "output_type": "stream",
     "text": [
      "\n",
      "\n",
      "\u001b[1m> Entering new MultiPromptChain chain...\u001b[0m\n",
      "None: {'input': 'How many players are there in a cricket team?'}\n",
      "\u001b[1m> Finished chain.\u001b[0m\n"
     ]
    },
    {
     "data": {
      "text/plain": [
       "'A cricket team consists of 11 players.'"
      ]
     },
     "execution_count": 81,
     "metadata": {},
     "output_type": "execute_result"
    }
   ],
   "source": [
    "chain.run(\"How many players will play in cricket?\")"
   ]
  }
 ],
 "metadata": {
  "kernelspec": {
   "display_name": "venv",
   "language": "python",
   "name": "python3"
  },
  "language_info": {
   "codemirror_mode": {
    "name": "ipython",
    "version": 3
   },
   "file_extension": ".py",
   "mimetype": "text/x-python",
   "name": "python",
   "nbconvert_exporter": "python",
   "pygments_lexer": "ipython3",
   "version": "3.12.3"
  }
 },
 "nbformat": 4,
 "nbformat_minor": 2
}
