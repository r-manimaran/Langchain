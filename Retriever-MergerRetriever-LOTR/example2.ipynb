{
 "cells": [
  {
   "cell_type": "code",
   "execution_count": 18,
   "metadata": {},
   "outputs": [
    {
     "data": {
      "text/plain": [
       "True"
      ]
     },
     "execution_count": 18,
     "metadata": {},
     "output_type": "execute_result"
    }
   ],
   "source": [
    "from langchain_chroma import Chroma\n",
    "from langchain_community.document_loaders import PyPDFLoader\n",
    "from langchain_community.embeddings import HuggingFaceEmbeddings,HuggingFaceBgeEmbeddings\n",
    "from langchain.document_loaders import PyPDFLoader\n",
    "from langchain.retrievers import MergerRetriever\n",
    "from langchain.document_transformers import LongContextReorder\n",
    "from langchain.text_splitter import RecursiveCharacterTextSplitter\n",
    "from dotenv import load_dotenv\n",
    "import os\n",
    "import chromadb\n",
    "load_dotenv()"
   ]
  },
  {
   "cell_type": "markdown",
   "metadata": {},
   "source": [
    "## Get the Embedding Model"
   ]
  },
  {
   "cell_type": "code",
   "execution_count": 3,
   "metadata": {},
   "outputs": [
    {
     "name": "stderr",
     "output_type": "stream",
     "text": [
      "c:\\Maran\\StudyMaterials\\Git\\LangChain\\Retriever-MergerRetriever-LOTR\\venv\\Lib\\site-packages\\sentence_transformers\\cross_encoder\\CrossEncoder.py:13: TqdmWarning: IProgress not found. Please update jupyter and ipywidgets. See https://ipywidgets.readthedocs.io/en/stable/user_install.html\n",
      "  from tqdm.autonotebook import tqdm, trange\n"
     ]
    },
    {
     "name": "stdout",
     "output_type": "stream",
     "text": [
      "Embedding model loaded\n"
     ]
    }
   ],
   "source": [
    "#get the embedding model\n",
    "model_name =\"BAAI/bge-large-en\"\n",
    "model_kwargs = {'device': 'cpu'}\n",
    "encode_kwargs = {'normalize_embeddings': False}\n",
    "\n",
    "embeddings = HuggingFaceBgeEmbeddings(model_name=model_name,\n",
    "                                      model_kwargs=model_kwargs,\n",
    "                                      encode_kwargs=encode_kwargs)\n",
    "print(\"Embedding model loaded\") "
   ]
  },
  {
   "cell_type": "code",
   "execution_count": 25,
   "metadata": {},
   "outputs": [],
   "source": [
    "loader_constution_file = PyPDFLoader(\"data/constitution.pdf\")\n",
    "documents_set1 = loader_constution_file.load()\n",
    "text_splitter_1 = RecursiveCharacterTextSplitter(chunk_size=1000, chunk_overlap=200)\n",
    "texts_1 = text_splitter_1.split_documents(documents_set1)"
   ]
  },
  {
   "cell_type": "markdown",
   "metadata": {},
   "source": [
    "# Create and store vector Store"
   ]
  },
  {
   "cell_type": "code",
   "execution_count": 26,
   "metadata": {},
   "outputs": [],
   "source": [
    "file1_vec_store = Chroma.from_documents(texts_1,embedding=embeddings,\n",
    "                                        collection_metadata={\"hnsw:space\":\"cosine\"},\n",
    "                                        persist_directory=\"store/store_file\")\n"
   ]
  },
  {
   "cell_type": "markdown",
   "metadata": {},
   "source": [
    "### Load Vector Store"
   ]
  },
  {
   "cell_type": "code",
   "execution_count": 27,
   "metadata": {},
   "outputs": [],
   "source": [
    "load_vector_store = Chroma(persist_directory=\"store/store_file\", embedding_function=embeddings)"
   ]
  },
  {
   "cell_type": "markdown",
   "metadata": {},
   "source": [
    "### Init Merge Retriever and perform Semantic Search"
   ]
  },
  {
   "cell_type": "code",
   "execution_count": 32,
   "metadata": {},
   "outputs": [],
   "source": [
    "retriever_constituion_file = load_vector_store.as_retriever(search_type=\"similarity\",search_kwargs={\"k\":3})\n"
   ]
  },
  {
   "cell_type": "code",
   "execution_count": 33,
   "metadata": {},
   "outputs": [
    {
     "data": {
      "text/plain": [
       "MergerRetriever(retrievers=[VectorStoreRetriever(tags=['Chroma', 'HuggingFaceBgeEmbeddings'], vectorstore=<langchain_chroma.vectorstores.Chroma object at 0x000001872785D790>, search_kwargs={'k': 3})])"
      ]
     },
     "execution_count": 33,
     "metadata": {},
     "output_type": "execute_result"
    }
   ],
   "source": [
    "lotr = MergerRetriever(retrievers=[retriever_constituion_file])\n",
    "lotr"
   ]
  },
  {
   "cell_type": "code",
   "execution_count": 34,
   "metadata": {},
   "outputs": [],
   "source": [
    "query = \"what's the power of Congress?\""
   ]
  },
  {
   "cell_type": "code",
   "execution_count": 35,
   "metadata": {},
   "outputs": [
    {
     "data": {
      "text/plain": [
       "[Document(metadata={'page': 3, 'source': 'data/constitution.pdf'}, page_content='presented to the President of the United States; and before \\nthe Same shall take Effect, shall be approved by him, or be- \\ning disapproved by him, shall be repassed by two thirds of \\nthe Senate and House of Representatives, according to the \\nRules and Limitations prescribed in the Case of a Bill. \\nSECTION. 8 \\nThe Congress shall have Power To lay and collect Taxes, \\nDuties, Imposts and Excises, to pay the Debts and provide \\nfor the common Defence and general Welfare of the United \\nStates; but all Duties, Imposts and Excises shall be uniform \\nthroughout the United States;  \\nTo borrow Money on the credit of the United States; \\nTo regulate Commerce with foreign Nations, and among \\nthe several States, and with the Indian  Tribes; \\nTo establish an uniform Rule of Naturalization, and uni- \\nform Laws on the subject of Bankruptcies throughout the \\nUnited States; \\nTo coin Money, regulate the Value thereof, and of foreign \\nCoin, and fix the Standard of Weights and Measures;'),\n",
       " Document(metadata={'page': 13, 'source': 'data/constitution.pdf'}, page_content='claims shall be held illegal and void. \\nSECTION 5 \\n \\nThe Congress shall have the power to enforce, by appropri- \\nate legislation, the provisions of this article.  \\n*Changed by Section 1 of the 26th Amendment.'),\n",
       " Document(metadata={'page': 4, 'source': 'data/constitution.pdf'}, page_content='C O N S T I T U T I O N O F T H E U N I T E D S T A T E S  \\nTo exercise exclusive Legislation in all Cases whatsoever, \\nover such District (not exceeding ten Miles square) as \\nmay, by Cession of particular States, and the Acceptance \\nof Congress, become the Seat of the Government of the \\nUnited States, and to exercise like Authority over all Places \\npurchased by the Consent of the Legislature of the State in \\nwhich the Same shall be, for the Erection of Forts, Maga- \\nzines, Arsenals, dock-Yards and other needful Buildings; \\n-And \\nTo make all Laws which shall be necessary and proper for \\ncarrying into Execution the foregoing Powers, and all other \\nPowers vested by this Constitution in the Government of \\nthe United States, or in any Department or Officer thereof. \\nSECTION. 9 \\nThe Migration or Importation of such Persons as any of the \\nStates now existing shall think proper to admit, shall not be \\nprohibited by the Congress prior to the Year one thousand')]"
      ]
     },
     "execution_count": 35,
     "metadata": {},
     "output_type": "execute_result"
    }
   ],
   "source": [
    "docs =lotr.get_relevant_documents(query)\n",
    "docs"
   ]
  }
 ],
 "metadata": {
  "kernelspec": {
   "display_name": "venv",
   "language": "python",
   "name": "python3"
  },
  "language_info": {
   "codemirror_mode": {
    "name": "ipython",
    "version": 3
   },
   "file_extension": ".py",
   "mimetype": "text/x-python",
   "name": "python",
   "nbconvert_exporter": "python",
   "pygments_lexer": "ipython3",
   "version": "3.12.3"
  }
 },
 "nbformat": 4,
 "nbformat_minor": 2
}
