{
 "cells": [
  {
   "cell_type": "code",
   "execution_count": 7,
   "metadata": {},
   "outputs": [],
   "source": [
    "from urllib.request import urlretrieve\n",
    "import os\n",
    "urls =[\n",
    "    'https://s2.q4cdn.com/299287126/files/doc_financials/2023/ar/2022-Shareholder-Letter.pdf',\n",
    "    'https://s2.q4cdn.com/299287126/files/doc_financials/2022/ar/2021-Shareholder-Letter.pdf',\n",
    "    'https://s2.q4cdn.com/299287126/files/doc_financials/2020/ar/2019-Shareholder-Letter.pdf',\n",
    "]\n",
    "filenames = [\n",
    "    '2022-Shareholder-letter.pdf',\n",
    "    '2021-Shareholder-letter.pdf',\n",
    "    '2019-Shareholder-letter.pdf',\n",
    "]\n",
    "metadata = [\n",
    "    {'source': '2022-Shareholder-letter.pdf', 'year': 2022, 'reported_currency': 'USD','title':'Shareholder-letter-2022'},\n",
    "    {'source': '2021-Shareholder-letter.pdf', 'year': 2021, 'reported_currency': 'INR','title':'Shareholder-letter-2021'},\n",
    "    {'source': '2019-Shareholder-letter.pdf', 'year': 2019, 'reported_currency': 'CAD','title':'Shareholder-letter-2019'},\n",
    "]\n",
    "data_root =\"data/\"\n",
    "for idx,url in enumerate(urls):\n",
    "    filepath = data_root+filenames[idx]\n",
    "    urlretrieve(url,filepath)"
   ]
  },
  {
   "cell_type": "code",
   "execution_count": 8,
   "metadata": {},
   "outputs": [
    {
     "name": "stdout",
     "output_type": "stream",
     "text": [
      "Document 1 has 10 pages\n",
      "Document 2 has 9 pages\n",
      "Document 3 has 8 pages\n"
     ]
    }
   ],
   "source": [
    "from langchain.text_splitter import RecursiveCharacterTextSplitter\n",
    "from langchain.document_loaders import PyPDFLoader, DirectoryLoader\n",
    "from langchain.embeddings import SentenceTransformerEmbeddings\n",
    "documents =[]\n",
    "for idx,file in enumerate(filenames):\n",
    "    loader = PyPDFLoader(data_root + file)\n",
    "    document = loader.load()\n",
    "    for document_fragment in document:\n",
    "        document_fragment.metadata['source'] = metadata[idx]['source']\n",
    "        document_fragment.metadata['title'] = metadata[idx]['title']\n",
    "        document_fragment.metadata['reported_currency'] = metadata[idx]['reported_currency']\n",
    "        document_fragment.metadata['year'] = metadata[idx]['year']\n",
    "\n",
    "    print(f\"Document {idx+1} has {len(document)} pages\")\n",
    "    documents += document"
   ]
  },
  {
   "cell_type": "code",
   "execution_count": 9,
   "metadata": {},
   "outputs": [],
   "source": [
    "text_splitter = RecursiveCharacterTextSplitter(\n",
    "    chunk_size=1000,\n",
    "    chunk_overlap=200,\n",
    "    length_function=len,\n",
    "    add_start_index=True,\n",
    ")"
   ]
  },
  {
   "cell_type": "code",
   "execution_count": 10,
   "metadata": {},
   "outputs": [],
   "source": [
    "docs = text_splitter.split_documents(documents)"
   ]
  },
  {
   "cell_type": "code",
   "execution_count": 12,
   "metadata": {},
   "outputs": [],
   "source": [
    "from langchain_huggingface.embeddings import HuggingFaceEmbeddings\n",
    "embeddings = HuggingFaceEmbeddings(model_name=\"sentence-transformers/all-MiniLM-L6-v2\")"
   ]
  },
  {
   "cell_type": "code",
   "execution_count": 13,
   "metadata": {},
   "outputs": [],
   "source": [
    "from langchain.schema import Document\n",
    "from langchain.vectorstores import FAISS"
   ]
  },
  {
   "cell_type": "code",
   "execution_count": 14,
   "metadata": {},
   "outputs": [],
   "source": [
    "db =FAISS.from_documents(docs, embeddings)"
   ]
  },
  {
   "cell_type": "code",
   "execution_count": 15,
   "metadata": {},
   "outputs": [],
   "source": [
    "db.save_local(\"faiss_hf_index\")"
   ]
  },
  {
   "cell_type": "code",
   "execution_count": null,
   "metadata": {},
   "outputs": [],
   "source": [
    "new_db = FAISS.load_local(\"faiss_hf_index\",embeddings)\n",
    "db = new_db"
   ]
  },
  {
   "cell_type": "code",
   "execution_count": 19,
   "metadata": {},
   "outputs": [],
   "source": [
    "query = \"How was AWS evolved?\""
   ]
  },
  {
   "cell_type": "markdown",
   "metadata": {},
   "source": [
    "# Perform Basic Similarity Search"
   ]
  },
  {
   "cell_type": "code",
   "execution_count": 20,
   "metadata": {},
   "outputs": [
    {
     "name": "stdout",
     "output_type": "stream",
     "text": [
      "Content: at a significantly lower cost. We’re not close to being done innovating here,and this long-term investment should prove fruitful for both customers and AWS. AWS is still in the earlystages of its evolution, and has a chance for unusual growth in the next decade., \n",
      "Metadata: {'source': '2022-Shareholder-letter.pdf', 'page': 2, 'title': 'Shareholder-letter-2022', 'reported_currency': 'USD', 'year': 2022, 'start_index': 4966}, \n",
      "Score: 0.781078040599823\n",
      "Content: In 2008, AWS was still a fairly small, fledgling business.We knew we were on to something, but it still required substantial capital investment. There were voicesinside and outside of the company questioning why Amazon (known mostly as an online retailer then) wouldbe investing so much in cloud computing. But, we knew we were inventing something special that couldcreate a lot of value for customers and Amazon in the future. We had a head start on potential competitors;and if anything, we wanted to accelerate our pace of innovation. We made the long-term decision tocontinue investing in AWS. Fifteen years later, AWS is now an $85B annual revenue run rate business, withstrong profitability, that has transformed how customers from start-ups to multinational companies to publicsector organizations manage their technology infrastructure. Amazon would be a different company ifwe’d slowed investment in AWS during that 2008-2009 period., \n",
      "Metadata: {'source': '2022-Shareholder-letter.pdf', 'page': 0, 'title': 'Shareholder-letter-2022', 'reported_currency': 'USD', 'year': 2022, 'start_index': 3074}, \n",
      "Score: 0.890414297580719\n",
      "Content: not only given customersmuch more functionality in AWS than they can find anywhere else (which is a significant differentiator), butalso allowed us to arrive at the much more game-changing offering that AWS is today., \n",
      "Metadata: {'source': '2021-Shareholder-letter.pdf', 'page': 2, 'title': 'Shareholder-letter-2021', 'reported_currency': 'INR', 'year': 2021, 'start_index': 2770}, \n",
      "Score: 0.9336211681365967\n",
      "Content: energy, these factors enable AWS to do the same tasks as traditional data centers with an88% lower carbon footprint. And don’t think we’re not going to get those last 12 points—we’ll make AWS 100%carbon free through more investments in renewable energy projects., \n",
      "Metadata: {'source': '2019-Shareholder-letter.pdf', 'page': 3, 'title': 'Shareholder-letter-2019', 'reported_currency': 'CAD', 'year': 2019, 'start_index': 2692}, \n",
      "Score: 1.0127074718475342\n"
     ]
    }
   ],
   "source": [
    "results_with_scores = db.similarity_search_with_score(query)\n",
    "for doc, score in results_with_scores:\n",
    "    print(f\"Content: {doc.page_content}, \\nMetadata: {doc.metadata}, \\nScore: {score}\")"
   ]
  },
  {
   "cell_type": "markdown",
   "metadata": {},
   "source": [
    "## Similarity Search with Metadata Filtering"
   ]
  },
  {
   "cell_type": "code",
   "execution_count": 21,
   "metadata": {},
   "outputs": [],
   "source": [
    "filter =  dict(year=2022)"
   ]
  },
  {
   "cell_type": "code",
   "execution_count": 22,
   "metadata": {},
   "outputs": [
    {
     "name": "stdout",
     "output_type": "stream",
     "text": [
      "Content: at a significantly lower cost. We’re not close to being done innovating here,and this long-term investment should prove fruitful for both customers and AWS. AWS is still in the earlystages of its evolution, and has a chance for unusual growth in the next decade., \n",
      "Metadata: {'source': '2022-Shareholder-letter.pdf', 'page': 2, 'title': 'Shareholder-letter-2022', 'reported_currency': 'USD', 'year': 2022, 'start_index': 4966}, \n",
      "Score: 0.781078040599823\n",
      "Content: In 2008, AWS was still a fairly small, fledgling business.We knew we were on to something, but it still required substantial capital investment. There were voicesinside and outside of the company questioning why Amazon (known mostly as an online retailer then) wouldbe investing so much in cloud computing. But, we knew we were inventing something special that couldcreate a lot of value for customers and Amazon in the future. We had a head start on potential competitors;and if anything, we wanted to accelerate our pace of innovation. We made the long-term decision tocontinue investing in AWS. Fifteen years later, AWS is now an $85B annual revenue run rate business, withstrong profitability, that has transformed how customers from start-ups to multinational companies to publicsector organizations manage their technology infrastructure. Amazon would be a different company ifwe’d slowed investment in AWS during that 2008-2009 period., \n",
      "Metadata: {'source': '2022-Shareholder-letter.pdf', 'page': 0, 'title': 'Shareholder-letter-2022', 'reported_currency': 'USD', 'year': 2022, 'start_index': 3074}, \n",
      "Score: 0.890414297580719\n",
      "Content: While these short-term headwinds soften our growth rate, we like a lot of the fundamentals that we’re seeing\n",
      "in AWS. Our new customer pipeline is robust, as are our active migrations. Many companies usediscontinuous periods like this to step back and determine what they strategically want to change, and wefind an increasing number of enterprises opting out of managing their own infrastructure, and preferring tomove to AWS to enjoy the agility, innovation, cost-efficiency, and security benefits. And most importantlyfor customers, AWS continues to deliver new capabilities rapidly (over 3,300 new features and services launchedin 2022), and invest in long-term inventions that change what’s possible.\n",
      "Chip development is a good example. In last year’s letter, I mentioned the investment we were making in our, \n",
      "Metadata: {'source': '2022-Shareholder-letter.pdf', 'page': 2, 'title': 'Shareholder-letter-2022', 'reported_currency': 'USD', 'year': 2022, 'start_index': 2560}, \n",
      "Score: 1.0946953296661377\n",
      "Content: meaningfully larger retail business with healthy operating margins.\n",
      "AWS has an $85B annualized revenue run rate, is still early in its adoption curve, but at a juncture where it’s\n",
      "critical to stay focused on what matters most to customers over the long-haul . Despite growing 29% year-over-, \n",
      "Metadata: {'source': '2022-Shareholder-letter.pdf', 'page': 2, 'title': 'Shareholder-letter-2022', 'reported_currency': 'USD', 'year': 2022, 'start_index': 756}, \n",
      "Score: 1.108271598815918\n"
     ]
    }
   ],
   "source": [
    "results_with_scores = db.similarity_search_with_score(query,filter=filter)\n",
    "for doc, score in results_with_scores:\n",
    "    print(f\"Content: {doc.page_content}, \\nMetadata: {doc.metadata}, \\nScore: {score}\")"
   ]
  },
  {
   "cell_type": "markdown",
   "metadata": {},
   "source": [
    "## TOP K Matching\n",
    "Top-K Matching is a filtering technique that involves a 2 stage approach.\n",
    "1. Perform a similarity Search, returning the top K matches\n",
    "2. Apply your metadata filter on the smaller resultset\n",
    "\n",
    "Note: A caveat for Top-K matching is that if the value of K is too small, there is a chance that after filtering there will be no results to return.\n",
    "\n",
    "Using Top-K matching requires 2 values:\n",
    "- K, the max number of results to return at the end of our query\n",
    "- fetch_k, the max number of results to return from the similarity search before applying filters"
   ]
  },
  {
   "cell_type": "code",
   "execution_count": 24,
   "metadata": {},
   "outputs": [
    {
     "name": "stdout",
     "output_type": "stream",
     "text": [
      "Content: at a significantly lower cost. We’re not close to being done innovating here,and this long-term investment should prove fruitful for both customers and AWS. AWS is still in the earlystages of its evolution, and has a chance for unusual growth in the next decade., \n",
      "Metadata: {'source': '2022-Shareholder-letter.pdf', 'page': 2, 'title': 'Shareholder-letter-2022', 'reported_currency': 'USD', 'year': 2022, 'start_index': 4966}\n",
      "\n",
      "\n",
      "Content: In 2008, AWS was still a fairly small, fledgling business.We knew we were on to something, but it still required substantial capital investment. There were voicesinside and outside of the company questioning why Amazon (known mostly as an online retailer then) wouldbe investing so much in cloud computing. But, we knew we were inventing something special that couldcreate a lot of value for customers and Amazon in the future. We had a head start on potential competitors;and if anything, we wanted to accelerate our pace of innovation. We made the long-term decision tocontinue investing in AWS. Fifteen years later, AWS is now an $85B annual revenue run rate business, withstrong profitability, that has transformed how customers from start-ups to multinational companies to publicsector organizations manage their technology infrastructure. Amazon would be a different company ifwe’d slowed investment in AWS during that 2008-2009 period., \n",
      "Metadata: {'source': '2022-Shareholder-letter.pdf', 'page': 0, 'title': 'Shareholder-letter-2022', 'reported_currency': 'USD', 'year': 2022, 'start_index': 3074}\n",
      "\n",
      "\n"
     ]
    }
   ],
   "source": [
    "results = db.similarity_search(query,filter=filter, k=2,fetch_k=4)\n",
    "for doc in results:\n",
    "    print(f\"Content: {doc.page_content}, \\nMetadata: {doc.metadata}\\n\\n\")"
   ]
  }
 ],
 "metadata": {
  "kernelspec": {
   "display_name": "venv",
   "language": "python",
   "name": "python3"
  },
  "language_info": {
   "codemirror_mode": {
    "name": "ipython",
    "version": 3
   },
   "file_extension": ".py",
   "mimetype": "text/x-python",
   "name": "python",
   "nbconvert_exporter": "python",
   "pygments_lexer": "ipython3",
   "version": "3.12.3"
  }
 },
 "nbformat": 4,
 "nbformat_minor": 2
}
