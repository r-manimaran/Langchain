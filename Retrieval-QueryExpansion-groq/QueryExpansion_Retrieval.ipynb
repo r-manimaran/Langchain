{
 "cells": [
  {
   "cell_type": "markdown",
   "metadata": {},
   "source": [
    "## Improve RAG Retrieval using Query Expansion \n",
    "### 1. Load Data\n",
    "    - Split the Pdf data in to Chunks\n",
    "### 2. Create Vector Store & Load Chunks\n",
    "    - Define the vector Store and collection\n",
    "    - Add the chunks to the Collection\n",
    "    - Visualize the Dataset\n",
    "### 3. Query Vector Store\n",
    "    - Visualize Original query & Retrieved Docs\n",
    "### 4. Query Expansion using Generated Answer\n",
    "    - Visualize Original query, Modified query (ans) and Retrieved Docs\n",
    "### 5. Query Expansion using Generated Queries\n",
    "    - Visualize Original query, Generated Queries & Retieved Docs\n",
    "### 6. RAG Performance"
   ]
  },
  {
   "cell_type": "markdown",
   "metadata": {},
   "source": [
    "**1. Load Data**\n",
    "   -Load the apple-Form-10-k.pdf file"
   ]
  },
  {
   "cell_type": "code",
   "execution_count": 38,
   "metadata": {},
   "outputs": [],
   "source": [
    "from dotenv import load_dotenv\n",
    "from groq import Groq\n",
    "import os\n",
    "load_dotenv()\n",
    "groq_api_key = os.getenv(\"GROQ_API_KEY\")\n",
    "client = Groq(api_key=groq_api_key)"
   ]
  },
  {
   "cell_type": "code",
   "execution_count": 2,
   "metadata": {},
   "outputs": [
    {
     "name": "stdout",
     "output_type": "stream",
     "text": [
      "No. of Pages:63\n",
      "Page Count:63\n"
     ]
    }
   ],
   "source": [
    "# load the pdf file's pages\n",
    "from pypdf import PdfReader\n",
    "reader = PdfReader(\"apple-form-10-k.pdf\")\n",
    "number_of_pages = len(reader.pages)\n",
    "print(f'No. of Pages:{number_of_pages}')\n",
    "\n",
    "pages = [ page. extract_text().strip () for page in reader.pages]\n",
    "pages = [ page for page in pages if page != '']\n",
    "cnt =len(pages)\n",
    "print(f'Page Count:{cnt}')"
   ]
  },
  {
   "cell_type": "code",
   "execution_count": 12,
   "metadata": {},
   "outputs": [
    {
     "name": "stdout",
     "output_type": "stream",
     "text": [
      "stocklight.com\n",
      " \n",
      ">\n",
      "Stocks\n",
      " \n",
      ">\n",
      "United States\n",
      " \n",
      "Apple\n",
      " \n",
      ">\n",
      "Annual Reports\n",
      " \n",
      ">\n",
      "2023 Annual Report\n",
      "Apple Annual Report 2023\n",
      "Form 10-K (NASDAQ:AAPL)\n",
      "Published: November 3rd, 2023\n",
      "Brought to you by\n"
     ]
    }
   ],
   "source": [
    "print(pages[0])"
   ]
  },
  {
   "cell_type": "markdown",
   "metadata": {},
   "source": [
    "**1.2. Split data into chunks** "
   ]
  },
  {
   "cell_type": "code",
   "execution_count": 21,
   "metadata": {},
   "outputs": [
    {
     "name": "stdout",
     "output_type": "stream",
     "text": [
      "Total Chunks:245\n"
     ]
    }
   ],
   "source": [
    "from langchain.text_splitter import RecursiveCharacterTextSplitter, SentenceTransformersTokenTextSplitter\n",
    "text_splitter = RecursiveCharacterTextSplitter(\n",
    "    chunk_size=1000,\n",
    "    chunk_overlap=25,\n",
    "    separators=[\"\\n\\n\", \"\\n\", \" \", \"\"],\n",
    "    length_function=len,\n",
    ")\n",
    "character_split_texts = text_splitter.split_text('\\n\\n'.join(pages))\n",
    "print(f'Total Chunks:{len(character_split_texts)}')"
   ]
  },
  {
   "cell_type": "code",
   "execution_count": 22,
   "metadata": {},
   "outputs": [
    {
     "name": "stdout",
     "output_type": "stream",
     "text": [
      "{'The Company’s ability to compete successfully depends heavily on ensuring the continuing and timely introduction of innovative new products, services and\\ntechnologies to the marketplace. The Company designs and develops nearly the entire solution for its products, including the hardware, operating system, numerous\\nsoftware applications and related services. Principal competitive factors important to the Company include price, product and service features (including security\\nfeatures), relative price and performance, product and service quality and reliability, design innovation, a strong third-party software and accessories ecosystem,\\nmarketing and distribution capability, service and support, and corporate reputation.\\nThe Company is focused on expanding its market opportunities related to smartphones, personal computers, tablets, wearables and accessories, and services. The'}\n"
     ]
    }
   ],
   "source": [
    "print({character_split_texts[20]})"
   ]
  },
  {
   "cell_type": "markdown",
   "metadata": {},
   "source": [
    "### 2. Create Vector store & Load chunks\n",
    "**2.1 Define Vector Store and Collection**"
   ]
  },
  {
   "cell_type": "code",
   "execution_count": 13,
   "metadata": {},
   "outputs": [],
   "source": [
    "from chromadb.utils.embedding_functions import SentenceTransformerEmbeddingFunction\n",
    "import chromadb\n",
    "def create_chroma_vector_db(path:str, collection_name:str, metadata:any):\n",
    "    model_name = \"all-distilroberta-v1\" ## 768 Dimensions\n",
    "    embedding_function = SentenceTransformerEmbeddingFunction(model_name=model_name)    \n",
    "    chroma_client = chromadb.PersistentClient(path=path)\n",
    "\n",
    "    collection = chroma_client.get_or_create_collection(name=collection_name,\n",
    "                                                        embedding_function=embedding_function,\n",
    "                                                        metadata=metadata,\n",
    "                                                       )   \n",
    "    return collection"
   ]
  },
  {
   "cell_type": "code",
   "execution_count": 14,
   "metadata": {},
   "outputs": [],
   "source": [
    "path= \"apple_form_10k\"\n",
    "collection_name=\"apple_10k\"\n",
    "file_name=\"apple\"\n",
    "metadata = {\n",
    "    \"title\":\"Apple-10-k-report\",\n",
    "    \"description\":\"This is the report of Apple-10-k-report\",\n",
    "}\n",
    "new_collection = create_chroma_vector_db(path, collection_name, metadata)"
   ]
  },
  {
   "cell_type": "code",
   "execution_count": 6,
   "metadata": {},
   "outputs": [],
   "source": [
    "import chromadb\n",
    "path = \"apple_form_10k\"\n",
    "chroma_client = chromadb.PersistentClient(path=path)\n",
    "# get the existing chromadb  collection\n",
    "new_collection = chroma_client.get_collection(name=\"apple_10k\")\n"
   ]
  },
  {
   "cell_type": "markdown",
   "metadata": {},
   "source": [
    "**2.2 Add Chunks to Vector DB**"
   ]
  },
  {
   "cell_type": "code",
   "execution_count": 18,
   "metadata": {},
   "outputs": [],
   "source": [
    "# delete all the docs in the collection\n",
    "doc_ids = new_collection.get()[\"ids\"]\n",
    "new_collection.delete(ids=doc_ids)\n"
   ]
  },
  {
   "cell_type": "code",
   "execution_count": 19,
   "metadata": {},
   "outputs": [
    {
     "data": {
      "text/plain": [
       "0"
      ]
     },
     "execution_count": 19,
     "metadata": {},
     "output_type": "execute_result"
    }
   ],
   "source": [
    "new_collection.count()"
   ]
  },
  {
   "cell_type": "code",
   "execution_count": 23,
   "metadata": {},
   "outputs": [],
   "source": [
    "\n",
    "new_collection.add(documents = character_split_texts,\n",
    "                   ids = [f\"Split-{idx}\" for idx in range(len(character_split_texts))]\n",
    "                   )"
   ]
  },
  {
   "cell_type": "code",
   "execution_count": 24,
   "metadata": {},
   "outputs": [
    {
     "data": {
      "text/plain": [
       "245"
      ]
     },
     "execution_count": 24,
     "metadata": {},
     "output_type": "execute_result"
    }
   ],
   "source": [
    "new_collection.count()"
   ]
  },
  {
   "cell_type": "markdown",
   "metadata": {},
   "source": [
    "**2.3 Visualize Text Chunks**"
   ]
  },
  {
   "cell_type": "code",
   "execution_count": 25,
   "metadata": {},
   "outputs": [
    {
     "name": "stderr",
     "output_type": "stream",
     "text": [
      "c:\\Maran\\StudyMaterials\\Git\\LangChain\\Retrieval-QueryExpansion-groq\\.venv\\Lib\\site-packages\\umap\\umap_.py:1952: UserWarning: n_jobs value 1 overridden to 1 by setting random_state. Use no seed for parallelism.\n",
      "  warn(\n",
      "100%|██████████| 245/245 [00:02<00:00, 95.69it/s] \n"
     ]
    }
   ],
   "source": [
    "import umap.umap_ as umap\n",
    "import numpy as np\n",
    "from tqdm import tqdm \n",
    "\n",
    "embeddings = new_collection.get(include=['embeddings'])['embeddings']\n",
    "umap_projector = umap.UMAP(random_state=0, transform_seed=0).fit(embeddings)\n",
    "\n",
    "def project_embeddings(embeddings, umap_projector):\n",
    "    umap_embeddings = np.empty((len(embeddings),2))\n",
    "    for i, embedding in enumerate(tqdm(embeddings)):\n",
    "        umap_embeddings[i] = umap_projector.transform([embedding])\n",
    "    return umap_embeddings\n",
    "\n",
    "projected_dataset_embeddings = project_embeddings(embeddings, umap_projector)"
   ]
  },
  {
   "cell_type": "code",
   "execution_count": 10,
   "metadata": {},
   "outputs": [
    {
     "data": {
      "text/plain": [
       "Text(0.5, 1.0, 'Embeddings of the dataset')"
      ]
     },
     "execution_count": 10,
     "metadata": {},
     "output_type": "execute_result"
    },
    {
     "data": {
      "image/png": "[encoded data removed]",
      "text/plain": [
       "<Figure size 640x480 with 1 Axes>"
      ]
     },
     "metadata": {},
     "output_type": "display_data"
    }
   ],
   "source": [
    "import matplotlib.pyplot as plt\n",
    "plt.figure()\n",
    "plt.scatter(projected_dataset_embeddings[:,0],projected_dataset_embeddings[:,1],s=15,c=\"grey\")\n",
    "plt.gca().set_aspect('equal', 'datalim')\n",
    "plt.title(\"Embeddings of the dataset\")\n",
    "# plt.axes('off')"
   ]
  },
  {
   "cell_type": "markdown",
   "metadata": {},
   "source": [
    "**3.Query Vector Store**"
   ]
  },
  {
   "cell_type": "code",
   "execution_count": 26,
   "metadata": {},
   "outputs": [
    {
     "data": {
      "text/plain": [
       "dict_keys(['ids', 'embeddings', 'documents', 'uris', 'data', 'metadatas', 'distances', 'included'])"
      ]
     },
     "execution_count": 26,
     "metadata": {},
     "output_type": "execute_result"
    }
   ],
   "source": [
    "# query the vector store\n",
    "query = \"What are the risk factors for the company?\"\n",
    "\n",
    "results = new_collection.query(query_texts=[query], n_results=5, include=[\"documents\",\"embeddings\"])\n",
    "results.keys()"
   ]
  },
  {
   "cell_type": "code",
   "execution_count": 27,
   "metadata": {},
   "outputs": [
    {
     "name": "stdout",
     "output_type": "stream",
     "text": [
      "the Company is at a relatively greater risk of being targeted because of its high proﬁle and the value of the conﬁdential information it creates, owns, manages, stores\n",
      "and processes.\n",
      "The Company has implemented systems and processes intended to secure its information technology systems and prevent unauthorized access to or loss of\n",
      "sensitive data, and mitigate the impact of unauthorized access, including through the use of encryption and authentication technologies. As with all companies, these\n",
      "security measures may not be sufficient for all eventualities and may be vulnerable to hacking, ransomware attacks, employee error, malfeasance, system error, faulty\n",
      "password management or other irregularities. For example, third parties can fraudulently induce the Company’s or its vendors’ employees or customers into\n",
      "disclosing usernames, passwords or other sensitive information, which can, in turn, be used for unauthorized access to the Company’s or its vendors’ systems and\n",
      "------------------------------\n",
      "The Company has invested and will continue to invest in programs to enhance reseller sales, including staﬃng selected resellers’ stores with Company employees\n",
      "and contractors, and improving product placement displays. These programs can require a substantial investment while not assuring return or incremental sales. The\n",
      "ﬁnancial condition of these resellers could weaken, these resellers could stop distributing the Company’s products, or uncertainty regarding demand for some or all of\n",
      "the Company’s products could cause resellers to reduce their ordering and marketing of the Company’s products.\n",
      "The Company’s business and reputation are impacted by information technology system failures and network disruptions.\n",
      "The Company and its global supply chain are dependent on complex information technology systems and are exposed to information technology system failures or\n",
      "------------------------------\n",
      "expectations. There can be no assurance the Company will be able to detect and ﬁx all issues and defects in the hardware, software and services it oﬀers. Failure to\n",
      "do so can result in widespread technical and performance issues aﬀecting the Company’s products and services. In addition, the Company can be exposed to\n",
      "product liability claims, recalls, product replacements or modiﬁcations, write-oﬀs of inventory, property, plant and equipment or intangible assets, and signiﬁcant\n",
      "warranty and other expenses, including litigation costs and regulatory ﬁnes. Quality problems can also adversely aﬀect the experience for users of the Company’s\n",
      "products and services, and result in harm to the Company’s reputation, loss of competitive advantage, poor market acceptance, reduced demand for products and\n",
      "services, delay in new product and service introductions and lost sales.\n",
      "------------------------------\n",
      "policies and procedures will be eﬀective in preventing a violation or a claim of a violation. As a result, the Company’s products could be banned, delayed or prohibited\n",
      "from importation, which could materially adversely affect the Company’s business, reputation, results of operations and financial condition.\n",
      "Expectations relating to environmental, social and governance considerations and related reporting obligations expose the Company to potential\n",
      "liabilities, increased costs, reputational harm, and other adverse effects on the Company’s business.\n",
      "Many governments, regulators, investors, employees, customers and other stakeholders are increasingly focused on environmental, social and governance\n",
      "considerations relating to businesses, including climate change and greenhouse gas emissions, human and civil rights, and diversity, equity and inclusion. In addition,\n",
      "------------------------------\n",
      "The Company oﬀers complex hardware and software products and services that can be aﬀected by design and manufacturing defects. Sophisticated operating\n",
      "system software and applications, such as those oﬀered by the Company, often have issues that can unexpectedly interfere with the intended operation of hardware\n",
      "or software products and services. Defects can also exist in components and products the Company purchases from third parties. Component defects could make the\n",
      "Company’s products unsafe and create a risk of environmental or property damage and personal injury. These risks may increase as the Company’s products are\n",
      "introduced into specialized applications, including health. In addition, the Company’s service oﬀerings can have quality issues and from time to time experience\n",
      "outages, service slowdowns or errors. As a result, from time to time the Company’s services have not performed as anticipated and may not meet customer\n",
      "------------------------------\n"
     ]
    }
   ],
   "source": [
    "retrieved_doc1 = results['documents'][0]\n",
    "for doc in retrieved_doc1:\n",
    "    print(doc)\n",
    "    print('------------------------------')"
   ]
  },
  {
   "cell_type": "markdown",
   "metadata": {},
   "source": [
    "**Visualize Dataset, Query & Retrieved Docs**"
   ]
  },
  {
   "cell_type": "code",
   "execution_count": 29,
   "metadata": {},
   "outputs": [],
   "source": [
    "from sentence_transformers import SentenceTransformer\n",
    "model = SentenceTransformer(\"all-distilroberta-v1\")\n",
    "retrieved_docs_embeddings = results['embeddings'][0]\n",
    "original_query_embedding = model.encode([query])"
   ]
  },
  {
   "cell_type": "code",
   "execution_count": 35,
   "metadata": {},
   "outputs": [
    {
     "data": {
      "text/plain": [
       "array([[ 0.02424209,  0.00256688, -0.0256607 , ..., -0.02590028,\n",
       "         0.03372536, -0.00460018],\n",
       "       [ 0.00763545,  0.00935274, -0.01189147, ..., -0.0274272 ,\n",
       "         0.03205676,  0.00308822],\n",
       "       [ 0.0251954 ,  0.0338137 , -0.01499031, ..., -0.02408316,\n",
       "         0.02093992, -0.04106711],\n",
       "       [ 0.025039  ,  0.01778993, -0.00395734, ...,  0.03351023,\n",
       "         0.01815764,  0.00494384],\n",
       "       [ 0.03874329,  0.07470769, -0.00976765, ..., -0.02047856,\n",
       "         0.03587358, -0.02030796]])"
      ]
     },
     "execution_count": 35,
     "metadata": {},
     "output_type": "execute_result"
    }
   ],
   "source": [
    "retrieved_docs_embeddings"
   ]
  },
  {
   "cell_type": "code",
   "execution_count": 36,
   "metadata": {},
   "outputs": [
    {
     "name": "stderr",
     "output_type": "stream",
     "text": [
      "100%|██████████| 1/1 [00:00<00:00,  3.66it/s]\n",
      "100%|██████████| 5/5 [00:00<00:00, 98.89it/s]\n"
     ]
    }
   ],
   "source": [
    "projected_original_query_embedding = project_embeddings(\n",
    "    original_query_embedding, \n",
    "    umap_projector\n",
    ")\n",
    "projected_retrieved_doc_embedding = project_embeddings(\n",
    "    retrieved_docs_embeddings,\n",
    "    umap_projector\n",
    ")"
   ]
  },
  {
   "cell_type": "code",
   "execution_count": 37,
   "metadata": {},
   "outputs": [
    {
     "data": {
      "text/plain": [
       "<matplotlib.legend.Legend at 0x25000b06b70>"
      ]
     },
     "execution_count": 37,
     "metadata": {},
     "output_type": "execute_result"
    },
    {
     "data": {
      "image/png": "[encoded data removed]",
      "text/plain": [
       "<Figure size 640x480 with 1 Axes>"
      ]
     },
     "metadata": {},
     "output_type": "display_data"
    }
   ],
   "source": [
    "import matplotlib.pyplot as plt\n",
    "plt.figure()\n",
    "plt.scatter(projected_dataset_embeddings[:,0],projected_dataset_embeddings[:,1], s=15, c=\"grey\",label=\"Original DataSet\")\n",
    "plt.scatter(projected_original_query_embedding[:, 0], projected_original_query_embedding[:, 1], s=40, c=\"red\", label=\"Original Query\")\n",
    "plt.scatter(projected_retrieved_doc_embedding[:,0],projected_retrieved_doc_embedding[:,1],s=50, marker =\"x\", c=\"green\", label=\"Retrieved Docs\")\n",
    "plt.gca().set_aspect('equal', 'datalim')\n",
    "plt.title(\"Projected Retrieval- Normal query\")\n",
    "plt.legend(loc=\"best\")\n",
    "# plt.axes('off');"
   ]
  },
  {
   "cell_type": "markdown",
   "metadata": {},
   "source": [
    "**4.Query Expansion with Generated Answer**"
   ]
  },
  {
   "cell_type": "code",
   "execution_count": 39,
   "metadata": {},
   "outputs": [
    {
     "name": "stdout",
     "output_type": "stream",
     "text": [
      "**Risk Factors**\n",
      "\n",
      "The company operates in a rapidly changing and competitive environment, and as such, is subject to a variety of risks and uncertainties that could impact its financial condition, results of operations, and ability to execute its business strategy. The following are some of the key risk factors that could affect the company's performance:\n",
      "\n",
      "1. **Market and Competitive Risks**: The company operates in highly competitive markets, and an increase in competition could lead to a decline in market share, revenue, and profitability.\n",
      "2. **Regulatory Risks**: Changes in laws, regulations, or industry standards could affect the company's ability to operate its business, increase costs, and reduce revenue.\n",
      "3. **Economic Risks**: Economic downturns, recession, or other macroeconomic factors could impact demand for the company's products and services, leading to reduced revenue and profitability.\n",
      "4. **Operational Risks**: Disruptions to the company's supply chain, manufacturing processes, or distribution networks could impact the company's ability to deliver products and services to customers, leading to reduced revenue and profitability.\n",
      "5. **Cybersecurity Risks**: The company's reliance on technology and data makes it vulnerable to cybersecurity threats, which could compromise sensitive information, disrupt business operations, and lead to reputational damage.\n",
      "6. **Financial Risks**: The company's ability to access capital markets, maintain liquidity, and manage debt could be impacted by changes in market conditions, credit ratings, or other factors.\n",
      "7. **Environmental and Social Risks**: The company's operations and products may have an impact on the environment and society, and failure to manage these risks could lead to reputational damage, regulatory action, and financial penalties.\n",
      "8. **Global Risks**: The company's international operations expose it to risks related to foreign exchange, trade policies, and other geopolitical factors that could impact revenue, profitability, and the company's overall performance.\n",
      "\n",
      "These risk factors are not exhaustive, and the company may face additional risks and uncertainties that could impact its performance. The company's management is committed to monitoring and managing these risks to minimize their potential impact on the business.\n",
      "\n",
      "**Mitigation Strategies**\n",
      "\n",
      "To mitigate these risks, the company has implemented various strategies, including:\n",
      "\n",
      "* Diversifying its revenue streams to reduce dependence on any one market or customer\n",
      "* Investing in research and development to stay ahead of the competition\n",
      "* Building a strong supply chain and distribution network to minimize disruptions\n",
      "* Implementing robust cybersecurity measures to protect sensitive information\n",
      "* Maintaining a strong balance sheet and liquidity position to manage financial risks\n",
      "* Implementing environmental and social policies to minimize the company's impact on the environment and society\n",
      "* Monitoring and adapting to changes in the regulatory and geopolitical landscape\n",
      "\n",
      "By understanding these risk factors and implementing effective mitigation strategies, the company aims to minimize their potential impact on its performance and achieve its business objectives.\n"
     ]
    }
   ],
   "source": [
    "def generate_answer(query, model =\"llama-3.1-70b-versatile\"):\n",
    "    messages = [\n",
    "        {\"role\": \"system\", \"content\": \"You are a helpful expert financial research assistant. Provide an example answer to the given question, that might be found in a document like an annual report.\"},\n",
    "        {\"role\": \"user\", \"content\": query},\n",
    "    ]\n",
    "    response = client.chat.completions.create(\n",
    "        model=model,\n",
    "        messages=messages,\n",
    "        temperature=0.7,\n",
    "        max_tokens=1024,\n",
    "        top_p=1,\n",
    "        frequency_penalty=0,\n",
    "        presence_penalty=0,\n",
    "    )\n",
    "    content = response.choices[0].message.content\n",
    "    return content\n",
    "\n",
    "generate_answer = generate_answer(query)\n",
    "print(generate_answer)"
   ]
  },
  {
   "cell_type": "code",
   "execution_count": 40,
   "metadata": {},
   "outputs": [
    {
     "name": "stdout",
     "output_type": "stream",
     "text": [
      "What are the risk factors for the company?\n",
      "\n",
      "**Risk Factors**\n",
      "\n",
      "The company operates in a rapidly changing and competitive environment, and as such, is subject to a variety of risks and uncertainties that could impact its financial condition, results of operations, and ability to execute its business strategy. The following are some of the key risk factors that could affect the company's performance:\n",
      "\n",
      "1. **Market and Competitive Risks**: The company operates in highly competitive markets, and an increase in competition could lead to a decline in market share, revenue, and profitability.\n",
      "2. **Regulatory Risks**: Changes in laws, regulations, or industry standards could affect the company's ability to operate its business, increase costs, and reduce revenue.\n",
      "3. **Economic Risks**: Economic downturns, recession, or other macroeconomic factors could impact demand for the company's products and services, leading to reduced revenue and profitability.\n",
      "4. **Operational Risks**: Disruptions to the company's supply chain, manufacturing processes, or distribution networks could impact the company's ability to deliver products and services to customers, leading to reduced revenue and profitability.\n",
      "5. **Cybersecurity Risks**: The company's reliance on technology and data makes it vulnerable to cybersecurity threats, which could compromise sensitive information, disrupt business operations, and lead to reputational damage.\n",
      "6. **Financial Risks**: The company's ability to access capital markets, maintain liquidity, and manage debt could be impacted by changes in market conditions, credit ratings, or other factors.\n",
      "7. **Environmental and Social Risks**: The company's operations and products may have an impact on the environment and society, and failure to manage these risks could lead to reputational damage, regulatory action, and financial penalties.\n",
      "8. **Global Risks**: The company's international operations expose it to risks related to foreign exchange, trade policies, and other geopolitical factors that could impact revenue, profitability, and the company's overall performance.\n",
      "\n",
      "These risk factors are not exhaustive, and the company may face additional risks and uncertainties that could impact its performance. The company's management is committed to monitoring and managing these risks to minimize their potential impact on the business.\n",
      "\n",
      "**Mitigation Strategies**\n",
      "\n",
      "To mitigate these risks, the company has implemented various strategies, including:\n",
      "\n",
      "* Diversifying its revenue streams to reduce dependence on any one market or customer\n",
      "* Investing in research and development to stay ahead of the competition\n",
      "* Building a strong supply chain and distribution network to minimize disruptions\n",
      "* Implementing robust cybersecurity measures to protect sensitive information\n",
      "* Maintaining a strong balance sheet and liquidity position to manage financial risks\n",
      "* Implementing environmental and social policies to minimize the company's impact on the environment and society\n",
      "* Monitoring and adapting to changes in the regulatory and geopolitical landscape\n",
      "\n",
      "By understanding these risk factors and implementing effective mitigation strategies, the company aims to minimize their potential impact on its performance and achieve its business objectives.\n"
     ]
    }
   ],
   "source": [
    "joint_query = f\"{query}\\n\\n{generate_answer}\"\n",
    "print(joint_query)"
   ]
  },
  {
   "cell_type": "code",
   "execution_count": null,
   "metadata": {},
   "outputs": [
    {
     "name": "stdout",
     "output_type": "stream",
     "text": [
      "Financial Risks\n",
      "The Company expects its quarterly net sales and results of operations to fluctuate.\n",
      "The Company’s proﬁt margins vary across its products, services, geographic segments and distribution channels. For example, the gross margins on the Company’s\n",
      "products and services vary signiﬁcantly and can change over time. The Company’s gross margins are subject to volatility and downward pressure due to a variety of\n",
      "factors, including: continued industry-wide global product pricing pressures and product pricing actions that the Company may take in response to such pressures;\n",
      "increased competition; the Company’s ability to effectively stimulate demand for certain of its products and services; compressed product life cycles; supply shortages;\n",
      "potential increases in the cost of components, outside manufacturing services, and developing, acquiring and delivering content for the Company’s services; the\n",
      "------------------------------------\n",
      "Company’s ability to manage product quality and warranty costs eﬀectively; shifts in the mix of products and services, or in the geographic, currency or channel mix,\n",
      "including to the extent that regulatory changes require the Company to modify its product and service oﬀerings; ﬂuctuations in foreign exchange rates; inﬂation and\n",
      "other macroeconomic pressures; and the introduction of new products or services, including new products or services with higher cost structures. These and other\n",
      "factors could have a materially adverse impact on the Company’s results of operations and financial condition.\n",
      "The Company has historically experienced higher net sales in its ﬁrst quarter compared to other quarters in its ﬁscal year due in part to seasonal holiday demand.\n",
      "Additionally, new product and service introductions can signiﬁcantly impact net sales, cost of sales and operating expenses. Further, the Company generates a\n",
      "------------------------------------\n",
      "The Company has invested and will continue to invest in programs to enhance reseller sales, including staﬃng selected resellers’ stores with Company employees\n",
      "and contractors, and improving product placement displays. These programs can require a substantial investment while not assuring return or incremental sales. The\n",
      "ﬁnancial condition of these resellers could weaken, these resellers could stop distributing the Company’s products, or uncertainty regarding demand for some or all of\n",
      "the Company’s products could cause resellers to reduce their ordering and marketing of the Company’s products.\n",
      "The Company’s business and reputation are impacted by information technology system failures and network disruptions.\n",
      "The Company and its global supply chain are dependent on complex information technology systems and are exposed to information technology system failures or\n",
      "------------------------------------\n",
      "the Company is at a relatively greater risk of being targeted because of its high proﬁle and the value of the conﬁdential information it creates, owns, manages, stores\n",
      "and processes.\n",
      "The Company has implemented systems and processes intended to secure its information technology systems and prevent unauthorized access to or loss of\n",
      "sensitive data, and mitigate the impact of unauthorized access, including through the use of encryption and authentication technologies. As with all companies, these\n",
      "security measures may not be sufficient for all eventualities and may be vulnerable to hacking, ransomware attacks, employee error, malfeasance, system error, faulty\n",
      "password management or other irregularities. For example, third parties can fraudulently induce the Company’s or its vendors’ employees or customers into\n",
      "disclosing usernames, passwords or other sensitive information, which can, in turn, be used for unauthorized access to the Company’s or its vendors’ systems and\n",
      "------------------------------------\n",
      "Adverse economic conditions can also lead to increased credit and collectibility risk on the Company’s trade receivables; the failure of derivative counterparties and\n",
      "other ﬁnancial institutions; limitations on the Company’s ability to issue new debt; reduced liquidity; and declines in the fair values of the Company’s ﬁnancial\n",
      "instruments. These and other impacts can materially adversely affect the Company’s business, results of operations, financial condition and stock price.\n",
      "The Company’s business can be impacted by political events, trade and other international disputes, war, terrorism, natural disasters, public health\n",
      "issues, industrial accidents and other business interruptions.\n",
      "Political events, trade and other international disputes, war, terrorism, natural disasters, public health issues, industrial accidents and other business interruptions can\n",
      "------------------------------------\n"
     ]
    }
   ],
   "source": [
    "results = new_collection.query(query_texts=[joint_query],\n",
    "                               n_results=5,\n",
    "                               include=['documents', 'embeddings'])\n",
    "retrieved_doc2 = results['documents'][0]\n",
    "for doc in retrieved_doc2:\n",
    "    print(doc)\n",
    "    print(\"---------------------------------------------------\")"
   ]
  },
  {
   "cell_type": "markdown",
   "metadata": {},
   "source": [
    "**Visualize Dataset, query & Retrieved Docs**"
   ]
  },
  {
   "cell_type": "code",
   "execution_count": 42,
   "metadata": {},
   "outputs": [
    {
     "name": "stderr",
     "output_type": "stream",
     "text": [
      "100%|██████████| 1/1 [00:00<00:00, 26.46it/s]\n",
      "100%|██████████| 5/5 [00:00<00:00, 72.27it/s]\n",
      "100%|██████████| 1/1 [00:00<00:00, 29.21it/s]\n"
     ]
    }
   ],
   "source": [
    "retrieved_docs_embeddings = results['embeddings'][0]\n",
    "original_query_embedding = model.encode([query])\n",
    "joint_query_embedding = model.encode([joint_query])\n",
    "\n",
    "projected_original_query_embedding = project_embeddings(\n",
    "    original_query_embedding, \n",
    "    umap_projector\n",
    ")\n",
    "projected_retrieved_doc_embedding = project_embeddings(\n",
    "    retrieved_docs_embeddings,\n",
    "    umap_projector\n",
    ")\n",
    "projected_joint_query_embedding = project_embeddings(\n",
    "    joint_query_embedding,\n",
    "    umap_projector\n",
    ")"
   ]
  },
  {
   "cell_type": "code",
   "execution_count": 43,
   "metadata": {},
   "outputs": [
    {
     "data": {
      "text/plain": [
       "<matplotlib.legend.Legend at 0x25000b9eb70>"
      ]
     },
     "execution_count": 43,
     "metadata": {},
     "output_type": "execute_result"
    },
    {
     "data": {
      "image/png": "[encoded data removed]",
      "text/plain": [
       "<Figure size 640x480 with 1 Axes>"
      ]
     },
     "metadata": {},
     "output_type": "display_data"
    }
   ],
   "source": [
    "plt.figure()\n",
    "plt.scatter(projected_dataset_embeddings[:,0],projected_dataset_embeddings[:,1], s=15, c=\"grey\",label=\"Original DataSet\")\n",
    "plt.scatter(projected_original_query_embedding[:, 0], projected_original_query_embedding[:, 1], s=40, c=\"red\", label=\"Original Query\")\n",
    "plt.scatter(projected_joint_query_embedding[:,0], projected_joint_query_embedding[:,1], s=40, c=\"orange\", label=\"Joint Query\")\n",
    "plt.scatter(projected_retrieved_doc_embedding[:,0],projected_retrieved_doc_embedding[:,1],s=50, marker =\"x\", c=\"green\", label=\"Retrieved Docs\")\n",
    "plt.gca().set_aspect('equal', 'datalim')\n",
    "plt.title(\"Projected Retrieval- Query with LLM ans\")\n",
    "plt.legend(loc=\"best\")"
   ]
  },
  {
   "cell_type": "markdown",
   "metadata": {},
   "source": [
    "**5. Query Expansion using Generated Queries**"
   ]
  },
  {
   "cell_type": "code",
   "execution_count": 46,
   "metadata": {},
   "outputs": [],
   "source": [
    "def generate_queries(query, model =\"llama-3.1-70b-versatile\"):\n",
    "    messages = [\n",
    "        {\"role\": \"system\",\n",
    "         \"content\": \"\"\"You are a helpful expert financial assistant. Your users are asking questions about an annual report.\n",
    "          Suggest up to five additional related questions to help them find the information they need, for the provided question.\n",
    "          Suggest only short questions without compound sentences. Suggest variety of questions that coverr different aspects of the topic.\n",
    "          Make sure they are complete questions, and that they are related to the original question\n",
    "          Output one question per line. Do not number the questions\"\"\"},\n",
    "        {\"role\": \"user\", \"content\": query},\n",
    "    ]\n",
    "    response = client.chat.completions.create(\n",
    "        model=model,\n",
    "        messages=messages,\n",
    "        temperature=0,\n",
    "    )\n",
    "    content = response.choices[0].message.content\n",
    "    content = content.split(\"\\n\")\n",
    "    return content"
   ]
  },
  {
   "cell_type": "code",
   "execution_count": 48,
   "metadata": {},
   "outputs": [
    {
     "name": "stdout",
     "output_type": "stream",
     "text": [
      "What are the main risks identified by the company?\n",
      "How does the company assess and prioritize risks?\n",
      "What are the key risk mitigation strategies employed?\n",
      "Are there any significant changes to the risk management framework?\n",
      "How does the company monitor and review its risk management framework?\n"
     ]
    }
   ],
   "source": [
    "augmented_queries =generate_queries(query)\n",
    "augmented_queries = [ query for query in augmented_queries if query.strip()]\n",
    "\n",
    "for query in augmented_queries:\n",
    "    print(query)    "
   ]
  },
  {
   "cell_type": "code",
   "execution_count": 49,
   "metadata": {},
   "outputs": [
    {
     "data": {
      "text/plain": [
       "(6, 13)"
      ]
     },
     "execution_count": 49,
     "metadata": {},
     "output_type": "execute_result"
    }
   ],
   "source": [
    "queries = [query] + augmented_queries\n",
    "results =  new_collection.query(\n",
    "    query_texts=queries,\n",
    "    n_results=5,\n",
    "    include=[\"documents\",'embeddings']\n",
    ")\n",
    "retrived_docs3 = results['documents']\n",
    "\n",
    "#Re Duplicate the retrieved docs\n",
    "unique_docs = set()\n",
    "for doc_list in retrived_docs3:\n",
    "    for doc in doc_list:\n",
    "        unique_docs.add(doc)\n",
    "        \n",
    "len(queries),len(unique_docs)"
   ]
  },
  {
   "cell_type": "markdown",
   "metadata": {},
   "source": [
    "**Visualize Dataset, Query & Retrieved Docs Embeddings**\n"
   ]
  }
 ],
 "metadata": {
  "kernelspec": {
   "display_name": ".venv",
   "language": "python",
   "name": "python3"
  },
  "language_info": {
   "codemirror_mode": {
    "name": "ipython",
    "version": 3
   },
   "file_extension": ".py",
   "mimetype": "text/x-python",
   "name": "python",
   "nbconvert_exporter": "python",
   "pygments_lexer": "ipython3",
   "version": "3.12.3"
  }
 },
 "nbformat": 4,
 "nbformat_minor": 2
}
